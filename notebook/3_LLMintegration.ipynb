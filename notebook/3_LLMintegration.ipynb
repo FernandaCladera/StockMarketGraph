{
 "cells": [
  {
   "cell_type": "markdown",
   "metadata": {},
   "source": [
    "# LangChain Integration"
   ]
  },
  {
   "cell_type": "markdown",
   "metadata": {},
   "source": [
    "For this part of the project we follow the tutorial of \"LangChain\" and adapt it for the stock market (see details in: [Graph Tutorial on LangChain Documentation](https://python.langchain.com/docs/tutorials/graph/))."
   ]
  },
  {
   "cell_type": "markdown",
   "metadata": {},
   "source": [
    "## 1. Dependencies"
   ]
  },
  {
   "cell_type": "code",
   "execution_count": 185,
   "metadata": {},
   "outputs": [],
   "source": [
    "import pandas as pd\n",
    "import matplotlib.pyplot as plt\n",
    "import os\n",
    "from dotenv import load_dotenv\n",
    "from langchain_neo4j import Neo4jGraph, GraphCypherQAChain, Neo4jVector\n",
    "from langchain_openai import ChatOpenAI, OpenAIEmbeddings\n",
    "\n",
    "#Advanced LangGraph\n",
    "from operator import add\n",
    "from typing import Annotated, List, Literal, Optional\n",
    "from typing_extensions import TypedDict\n",
    "from langchain_core.prompts import ChatPromptTemplate\n",
    "from langchain_core.example_selectors import SemanticSimilarityExampleSelector\n",
    "from langchain_core.output_parsers import StrOutputParser\n",
    "from langchain_neo4j.chains.graph_qa.cypher_utils import CypherQueryCorrector, Schema\n",
    "from pydantic import BaseModel, Field\n",
    "from neo4j.exceptions import CypherSyntaxError\n",
    "from IPython.display import Image, display\n",
    "from langgraph.graph import END, START, StateGraph\n",
    "from langchain.vectorstores import FAISS"
   ]
  },
  {
   "cell_type": "markdown",
   "metadata": {},
   "source": [
    "## 2. Connections with Graph Database"
   ]
  },
  {
   "cell_type": "code",
   "execution_count": 186,
   "metadata": {},
   "outputs": [],
   "source": [
    "uri = \"bolt://localhost:7689\"\n",
    "username = \"neo4j\"          \n",
    "password = \"12345678\"\n",
    "graph = Neo4jGraph(uri, username, password)"
   ]
  },
  {
   "cell_type": "code",
   "execution_count": 187,
   "metadata": {},
   "outputs": [
    {
     "name": "stdout",
     "output_type": "stream",
     "text": [
      "{'n': {'symbol': 'AAPL', 'betweennessCentrality': 0.0, 'name': 'Apple Inc.', 'eigenvectorCentrality': 2.0812589256979136e-08, 'degreeCentrality': 3.0, 'sector': 'Information Technology'}}\n",
      "{'n': {'symbol': 'ABBV', 'betweennessCentrality': 0.0, 'name': 'AbbVie', 'eigenvectorCentrality': 1.9054538849600147e-170, 'degreeCentrality': 0.0, 'sector': 'Health Care'}}\n"
     ]
    }
   ],
   "source": [
    "nodes = graph.query(\"MATCH (n) RETURN n LIMIT 2\")\n",
    "for node in nodes:\n",
    "    print(node)"
   ]
  },
  {
   "cell_type": "code",
   "execution_count": 188,
   "metadata": {},
   "outputs": [
    {
     "name": "stdout",
     "output_type": "stream",
     "text": [
      "{'a': {'symbol': 'AAPL', 'betweennessCentrality': 0.0, 'name': 'Apple Inc.', 'eigenvectorCentrality': 2.0812589256979136e-08, 'degreeCentrality': 3.0, 'sector': 'Information Technology'}, 'r': ({'symbol': 'AAPL', 'betweennessCentrality': 0.0, 'name': 'Apple Inc.', 'eigenvectorCentrality': 2.0812589256979136e-08, 'degreeCentrality': 3.0, 'sector': 'Information Technology'}, 'BELONGS_TO', {'name': 'Information Technology'}), 'b': {'name': 'Information Technology'}}\n",
      "{'a': {'symbol': 'AAPL', 'betweennessCentrality': 0.0, 'name': 'Apple Inc.', 'eigenvectorCentrality': 2.0812589256979136e-08, 'degreeCentrality': 3.0, 'sector': 'Information Technology'}, 'r': ({'symbol': 'AAPL', 'betweennessCentrality': 0.0, 'name': 'Apple Inc.', 'eigenvectorCentrality': 2.0812589256979136e-08, 'degreeCentrality': 3.0, 'sector': 'Information Technology'}, 'CORRELATED', {'symbol': 'AMZN', 'betweennessCentrality': 2.0, 'name': 'Amazon', 'eigenvectorCentrality': 2.985062353989397e-08, 'degreeCentrality': 5.0, 'sector': 'Consumer Discretionary'}), 'b': {'symbol': 'AMZN', 'betweennessCentrality': 2.0, 'name': 'Amazon', 'eigenvectorCentrality': 2.985062353989397e-08, 'degreeCentrality': 5.0, 'sector': 'Consumer Discretionary'}}\n"
     ]
    }
   ],
   "source": [
    "relationships = graph.query(\"MATCH (a)-[r]->(b) RETURN a, r, b LIMIT 2\")\n",
    "for relationship in relationships:\n",
    "    print(relationship)"
   ]
  },
  {
   "cell_type": "markdown",
   "metadata": {},
   "source": [
    "## 3. Integration with GraphCypherQAChain"
   ]
  },
  {
   "cell_type": "code",
   "execution_count": 189,
   "metadata": {},
   "outputs": [
    {
     "name": "stdout",
     "output_type": "stream",
     "text": [
      "Node properties:\n",
      "Stock {symbol: STRING, name: STRING, sector: STRING, eigenvectorCentrality: FLOAT, betweennessCentrality: FLOAT, degreeCentrality: FLOAT, louvainCommunityId: INTEGER}\n",
      "Sector {name: STRING}\n",
      "Relationship properties:\n",
      "CORRELATED {correlation: FLOAT}\n",
      "The relationships:\n",
      "(:Stock)-[:BELONGS_TO]->(:Sector)\n",
      "(:Stock)-[:CORRELATED]->(:Stock)\n"
     ]
    }
   ],
   "source": [
    "graph.refresh_schema()\n",
    "print(graph.schema)"
   ]
  },
  {
   "cell_type": "code",
   "execution_count": 190,
   "metadata": {},
   "outputs": [
    {
     "name": "stderr",
     "output_type": "stream",
     "text": [
      "Received notification from DBMS server: {severity: WARNING} {code: Neo.ClientNotification.Statement.FeatureDeprecationWarning} {category: DEPRECATION} {title: This feature is deprecated and will be removed in future versions.} {description: The procedure has a deprecated field. ('config' used by 'apoc.meta.graphSample' is deprecated.)} {position: line: 1, column: 1, offset: 0} for query: \"CALL apoc.meta.graphSample() YIELD nodes, relationships RETURN nodes, [rel in relationships | {name:apoc.any.property(rel, 'type'), count: apoc.any.property(rel, 'count')}] AS relationships\"\n",
      "Received notification from DBMS server: {severity: WARNING} {code: Neo.ClientNotification.Statement.AggregationSkippedNull} {category: UNRECOGNIZED} {title: The query contains an aggregation function that skips null values.} {description: null value eliminated in set function.} {position: None} for query: 'MATCH (n:`Stock`)\\nWITH collect(distinct substring(toString(n.`symbol`), 0, 50)) AS `symbol_values`,\\n     collect(distinct substring(toString(n.`name`), 0, 50)) AS `name_values`,\\n     collect(distinct substring(toString(n.`sector`), 0, 50)) AS `sector_values`,\\n     min(n.`eigenvectorCentrality`) AS `eigenvectorCentrality_min`,\\n     max(n.`eigenvectorCentrality`) AS `eigenvectorCentrality_max`,\\n     count(distinct n.`eigenvectorCentrality`) AS `eigenvectorCentrality_distinct`,\\n     min(n.`betweennessCentrality`) AS `betweennessCentrality_min`,\\n     max(n.`betweennessCentrality`) AS `betweennessCentrality_max`,\\n     count(distinct n.`betweennessCentrality`) AS `betweennessCentrality_distinct`,\\n     min(n.`degreeCentrality`) AS `degreeCentrality_min`,\\n     max(n.`degreeCentrality`) AS `degreeCentrality_max`,\\n     count(distinct n.`degreeCentrality`) AS `degreeCentrality_distinct`,\\n     min(n.`louvainCommunityId`) AS `louvainCommunityId_min`,\\n     max(n.`louvainCommunityId`) AS `louvainCommunityId_max`,\\n     count(distinct n.`louvainCommunityId`) AS `louvainCommunityId_distinct`\\nRETURN {`symbol`: {values:`symbol_values`[..10], distinct_count: size(`symbol_values`)}, `name`: {values:`name_values`[..10], distinct_count: size(`name_values`)}, `sector`: {values:`sector_values`[..10], distinct_count: size(`sector_values`)}, `eigenvectorCentrality`: {min: toString(`eigenvectorCentrality_min`), max: toString(`eigenvectorCentrality_max`), distinct_count: `eigenvectorCentrality_distinct`}, `betweennessCentrality`: {min: toString(`betweennessCentrality_min`), max: toString(`betweennessCentrality_max`), distinct_count: `betweennessCentrality_distinct`}, `degreeCentrality`: {min: toString(`degreeCentrality_min`), max: toString(`degreeCentrality_max`), distinct_count: `degreeCentrality_distinct`}, `louvainCommunityId`: {min: toString(`louvainCommunityId_min`), max: toString(`louvainCommunityId_max`), distinct_count: `louvainCommunityId_distinct`}} AS output'\n"
     ]
    },
    {
     "name": "stdout",
     "output_type": "stream",
     "text": [
      "Node properties:\n",
      "- **Stock**\n",
      "  - `symbol`: STRING Example: \"AAPL\"\n",
      "  - `name`: STRING Example: \"Apple Inc.\"\n",
      "  - `sector`: STRING Example: \"Information Technology\"\n",
      "  - `eigenvectorCentrality`: FLOAT Min: 1.9054538849600147E-170, Max: 0.28373309268337865\n",
      "  - `betweennessCentrality`: FLOAT Min: 0.0, Max: 111.3809523809524\n",
      "  - `degreeCentrality`: FLOAT Min: 0.0, Max: 17.0\n",
      "  - `louvainCommunityId`: INTEGER Min: 9, Max: 12\n",
      "- **Sector**\n",
      "  - `name`: STRING Example: \"Information Technology\"\n",
      "Relationship properties:\n",
      "- **CORRELATED**\n",
      "  - `correlation`: FLOAT Min: 0.6009239619998398, Max: 0.8585241254499043\n",
      "The relationships:\n",
      "(:Stock)-[:BELONGS_TO]->(:Sector)\n",
      "(:Stock)-[:CORRELATED]->(:Stock)\n"
     ]
    }
   ],
   "source": [
    "enhanced_graph=Neo4jGraph(uri, username, password,enhanced_schema=True)\n",
    "print(enhanced_graph.schema)"
   ]
  },
  {
   "cell_type": "code",
   "execution_count": 191,
   "metadata": {},
   "outputs": [],
   "source": [
    "load_dotenv()\n",
    "openai_api_key=os.getenv(\"OPENAI_API_KEY\")\n",
    "llm=ChatOpenAI(model=\"gpt-4o\", temperature=0)\n",
    "chain=GraphCypherQAChain.from_llm(\n",
    "    graph=enhanced_graph, llm=llm, verbose=True, allow_dangerous_requests=True\n",
    ")"
   ]
  },
  {
   "cell_type": "code",
   "execution_count": 192,
   "metadata": {},
   "outputs": [
    {
     "name": "stdout",
     "output_type": "stream",
     "text": [
      "\n",
      "\n",
      "\u001b[1m> Entering new GraphCypherQAChain chain...\u001b[0m\n",
      "Generated Cypher:\n",
      "\u001b[32;1m\u001b[1;3mcypher\n",
      "MATCH (s:Stock)\n",
      "RETURN s.symbol, s.name, s.eigenvectorCentrality\n",
      "ORDER BY s.eigenvectorCentrality DESC\n",
      "LIMIT 10\n",
      "\u001b[0m\n",
      "Full Context:\n",
      "\u001b[32;1m\u001b[1;3m[{'s.symbol': 'JPM', 's.name': 'JPMorgan Chase', 's.eigenvectorCentrality': 0.28373309268337865}, {'s.symbol': 'MET', 's.name': 'MetLife', 's.eigenvectorCentrality': 0.28275347463734357}, {'s.symbol': 'BK', 's.name': 'BNY Mellon', 's.eigenvectorCentrality': 0.27668837004417635}, {'s.symbol': 'MS', 's.name': 'Morgan Stanley', 's.eigenvectorCentrality': 0.27668837004417635}, {'s.symbol': 'BAC', 's.name': 'Bank of America', 's.eigenvectorCentrality': 0.27668837004417635}, {'s.symbol': 'BRK-B', 's.name': 'Berkshire Hathaway (Class B)', 's.eigenvectorCentrality': 0.2764113801812669}, {'s.symbol': 'USB', 's.name': 'U.S. Bancorp', 's.eigenvectorCentrality': 0.2671514470823249}, {'s.symbol': 'WFC', 's.name': 'Wells Fargo', 's.eigenvectorCentrality': 0.2671514470823249}, {'s.symbol': 'GS', 's.name': 'Goldman Sachs', 's.eigenvectorCentrality': 0.2655670564188749}, {'s.symbol': 'AXP', 's.name': 'American Express', 's.eigenvectorCentrality': 0.2630748560962258}]\u001b[0m\n",
      "\n",
      "\u001b[1m> Finished chain.\u001b[0m\n"
     ]
    },
    {
     "data": {
      "text/plain": [
       "{'query': 'What are the top 10 stocks by eigenvector centrality?',\n",
       " 'result': 'The top 10 stocks by eigenvector centrality are JPMorgan Chase, MetLife, BNY Mellon, Morgan Stanley, Bank of America, Berkshire Hathaway (Class B), U.S. Bancorp, Wells Fargo, Goldman Sachs, and American Express.'}"
      ]
     },
     "execution_count": 192,
     "metadata": {},
     "output_type": "execute_result"
    }
   ],
   "source": [
    "response=chain.invoke({\"query\":\"What are the top 10 stocks by eigenvector centrality?\"})\n",
    "response"
   ]
  },
  {
   "cell_type": "markdown",
   "metadata": {},
   "source": [
    "## 4. Advanced Implementation with LangGraph"
   ]
  },
  {
   "cell_type": "markdown",
   "metadata": {},
   "source": [
    "Trying with LangGraph to enhance the workflow."
   ]
  },
  {
   "cell_type": "code",
   "execution_count": 193,
   "metadata": {},
   "outputs": [],
   "source": [
    "class InputState(TypedDict):\n",
    "    question: str\n",
    "\n",
    "\n",
    "class OverallState(TypedDict):\n",
    "    question: str\n",
    "    next_action: str\n",
    "    cypher_statement: str\n",
    "    cypher_errors: List[str]\n",
    "    database_records: List[dict]\n",
    "    steps: Annotated[List[str], add]\n",
    "\n",
    "\n",
    "class OutputState(TypedDict):\n",
    "    answer: str\n",
    "    steps: List[str]\n",
    "    cypher_statement: str"
   ]
  },
  {
   "cell_type": "code",
   "execution_count": 194,
   "metadata": {},
   "outputs": [],
   "source": [
    "guardrails_system=\"\"\"\n",
    "As an intelligent assistant, your primary objective is to decide whether a given question is related to stocks or finance.\n",
    "If the question is related to stocks, stock market data, or financial analysis, output \"stock\". Otherwise, output \"end\".\n",
    "To make this decision, assess the content of the question and determine if it refers to stocks, stock market, financial terms, or stock-related data.\n",
    "Provide only the specified output:\"stock\" or \"end\".\n",
    "\"\"\"\n",
    "\n",
    "guardrails_prompt = ChatPromptTemplate.from_messages(\n",
    "    [\n",
    "        (\n",
    "            \"system\",\n",
    "            guardrails_system,\n",
    "        ),\n",
    "        (\n",
    "            \"human\",\n",
    "            (\"{question}\"),\n",
    "        ),\n",
    "    ]\n",
    ")\n",
    "\n",
    "class GuardrailsOutput(BaseModel):\n",
    "    decision:Literal[\"stock\",\"end\"]=Field(\n",
    "        description=\"Decision on whether the question is related to stocks or finance\"\n",
    "    )\n",
    "\n",
    "guardrails_chain = guardrails_prompt | llm.with_structured_output(GuardrailsOutput)\n",
    "\n",
    "def guardrails(state: InputState) -> OverallState:\n",
    "    question = state.get(\"question\")\n",
    "    if not question:\n",
    "        raise ValueError(\"The 'question' key is missing or has a None value in InputState.\")\n",
    "    \n",
    "    print(f\"Invoking guardrails_chain with question: {question}\")\n",
    "    guardrails_output = guardrails_chain.invoke({\"question\": question})\n",
    "    print(f\"Guardrails output: {guardrails_output}\")\n",
    "    \n",
    "    database_records = None\n",
    "    if guardrails_output.decision == \"end\":\n",
    "        database_records = \"This question is not related to stocks or finance. Therefore, I cannot answer it.\"\n",
    "    \n",
    "    return {\n",
    "        \"next_action\": guardrails_output.decision,\n",
    "        \"database_records\": database_records,\n",
    "        \"steps\": [\"guardrail\"],\n",
    "    }"
   ]
  },
  {
   "cell_type": "markdown",
   "metadata": {},
   "source": [
    "**few-shot prompting**\n",
    "\n",
    "The idea is guide the LLM in query generation."
   ]
  },
  {
   "cell_type": "code",
   "execution_count": 195,
   "metadata": {},
   "outputs": [],
   "source": [
    "examples = [\n",
    "    {\n",
    "        \"question\": \"How many stocks belong to the Information Technology sector?\",\n",
    "        \"query\": \"MATCH (s:Stock)-[:BELONGS_TO]->(:Sector {name: 'Information Technology'}) RETURN count(DISTINCT s)\",\n",
    "    },\n",
    "    {\n",
    "        \"question\": \"Which stocks have a correlation with AAPL?\",\n",
    "        \"query\": \"MATCH (a:Stock {symbol: 'AAPL'})-[:CORRELATED]->(b:Stock) RETURN b.symbol\",\n",
    "    },\n",
    "    {\n",
    "        \"question\": \"How many stocks belong to the Health Care sector?\",\n",
    "        \"query\": \"MATCH (s:Stock)-[:BELONGS_TO]->(:Sector {name: 'Health Care'}) RETURN count(s)\",\n",
    "    },\n",
    "    {\n",
    "        \"question\": \"List the sectors that AAPL belongs to.\",\n",
    "        \"query\": \"MATCH (s:Stock {symbol: 'AAPL'})-[:BELONGS_TO]->(sector:Sector) RETURN sector.name\",\n",
    "    },\n",
    "    {\n",
    "        \"question\": \"Which stocks are highly correlated with Amazon?\",\n",
    "        \"query\": \"MATCH (a:Stock {symbol: 'AMZN'})-[:CORRELATED]->(b:Stock) RETURN b.symbol ORDER BY r.correlation DESC LIMIT 10\",\n",
    "    },\n",
    "    {\n",
    "        \"question\": \"Which stocks have an eigenvector centrality higher than 0.1?\",\n",
    "        \"query\": \"MATCH (s:Stock) WHERE s.eigenvectorCentrality > 0.1 RETURN s.symbol, s.eigenvectorCentrality\",\n",
    "    },\n",
    "    {\n",
    "        \"question\": \"Find the sector with the most stocks.\",\n",
    "        \"query\": \"MATCH (s:Stock)-[:BELONGS_TO]->(sector:Sector) RETURN sector.name, COUNT(s) AS num_stocks ORDER BY num_stocks DESC LIMIT 1\",\n",
    "    },\n",
    "    {\n",
    "        \"question\": \"Which stocks have a high degree centrality?\",\n",
    "        \"query\": \"MATCH (s:Stock) WHERE s.degreeCentrality > 10 RETURN s.symbol, s.degreeCentrality ORDER BY s.degreeCentrality DESC LIMIT 10\",\n",
    "    },\n",
    "]"
   ]
  },
  {
   "cell_type": "code",
   "execution_count": 196,
   "metadata": {},
   "outputs": [
    {
     "name": "stdout",
     "output_type": "stream",
     "text": [
      "\n",
      "\n",
      "\u001b[1m> Entering new GraphCypherQAChain chain...\u001b[0m\n",
      "Generated Cypher:\n",
      "\u001b[32;1m\u001b[1;3mcypher\n",
      "MATCH (s:Stock)\n",
      "RETURN s.symbol, s.name, s.eigenvectorCentrality\n",
      "ORDER BY s.eigenvectorCentrality DESC\n",
      "LIMIT 10\n",
      "\u001b[0m\n",
      "Full Context:\n",
      "\u001b[32;1m\u001b[1;3m[{'s.symbol': 'JPM', 's.name': 'JPMorgan Chase', 's.eigenvectorCentrality': 0.28373309268337865}, {'s.symbol': 'MET', 's.name': 'MetLife', 's.eigenvectorCentrality': 0.28275347463734357}, {'s.symbol': 'BK', 's.name': 'BNY Mellon', 's.eigenvectorCentrality': 0.27668837004417635}, {'s.symbol': 'MS', 's.name': 'Morgan Stanley', 's.eigenvectorCentrality': 0.27668837004417635}, {'s.symbol': 'BAC', 's.name': 'Bank of America', 's.eigenvectorCentrality': 0.27668837004417635}, {'s.symbol': 'BRK-B', 's.name': 'Berkshire Hathaway (Class B)', 's.eigenvectorCentrality': 0.2764113801812669}, {'s.symbol': 'USB', 's.name': 'U.S. Bancorp', 's.eigenvectorCentrality': 0.2671514470823249}, {'s.symbol': 'WFC', 's.name': 'Wells Fargo', 's.eigenvectorCentrality': 0.2671514470823249}, {'s.symbol': 'GS', 's.name': 'Goldman Sachs', 's.eigenvectorCentrality': 0.2655670564188749}, {'s.symbol': 'AXP', 's.name': 'American Express', 's.eigenvectorCentrality': 0.2630748560962258}]\u001b[0m\n",
      "\n",
      "\u001b[1m> Finished chain.\u001b[0m\n",
      "{'query': 'What are the top 10 stocks by eigenvector centrality?', 'result': 'JPMorgan Chase, MetLife, BNY Mellon, Morgan Stanley, Bank of America, Berkshire Hathaway (Class B), U.S. Bancorp, Wells Fargo, Goldman Sachs, and American Express are the top 10 stocks by eigenvector centrality.'}\n"
     ]
    }
   ],
   "source": [
    "example_selector = SemanticSimilarityExampleSelector.from_examples(\n",
    "    examples=examples,\n",
    "    embeddings=OpenAIEmbeddings(),\n",
    "    vectorstore_cls=FAISS,\n",
    "    k=2\n",
    ")\n",
    "\n",
    "# Build the CypherQAChain with the example selector\n",
    "chain = GraphCypherQAChain.from_llm(\n",
    "    graph=graph,\n",
    "    llm=llm,\n",
    "    example_selector=example_selector,\n",
    "    verbose=True,\n",
    "    allow_dangerous_requests=True\n",
    ")\n",
    "\n",
    "# Test query\n",
    "response = chain.invoke({\"query\": \"What are the top 10 stocks by eigenvector centrality?\"})\n",
    "print(response)"
   ]
  },
  {
   "cell_type": "code",
   "execution_count": 197,
   "metadata": {},
   "outputs": [],
   "source": [
    "text2cypher_prompt = ChatPromptTemplate.from_messages(\n",
    "    [\n",
    "        (\n",
    "            \"system\",\n",
    "            (\n",
    "                \"Given an input question, convert it to a Cypher query. No pre-amble.\"\n",
    "                \"Do not wrap the response in any backticks or anything else. Respond with a Cypher statement only!\"\n",
    "            ),\n",
    "        ),\n",
    "        (\n",
    "            \"human\",\n",
    "            (\n",
    "                \"\"\"You are a Neo4j expert. Given an input question, create a syntactically correct Cypher query to run.\n",
    "Do not wrap the response in any backticks or anything else. Respond with a Cypher statement only!\n",
    "Here is the schema information\n",
    "{schema}\n",
    "\n",
    "Below are a number of examples of questions and their corresponding Cypher queries.\n",
    "\n",
    "{fewshot_examples}\n",
    "\n",
    "User input: {question}\n",
    "Cypher query:\"\"\"\n",
    "            ),\n",
    "        ),\n",
    "    ]\n",
    ")\n",
    "\n",
    "text2cypher_chain = text2cypher_prompt | llm | StrOutputParser()\n",
    "\n",
    "\n",
    "def generate_cypher(state: OverallState) -> OverallState:\n",
    "    \"\"\"\n",
    "    Generates a cypher statement based on the provided schema and user input\n",
    "    \"\"\"\n",
    "    NL = \"\\n\"\n",
    "    fewshot_examples = (NL * 2).join(\n",
    "        [\n",
    "            f\"Question: {el['question']}{NL}Cypher:{el['query']}\"\n",
    "            for el in example_selector.select_examples(\n",
    "                {\"question\": state.get(\"question\")}\n",
    "            )\n",
    "        ]\n",
    "    )\n",
    "    generated_cypher = text2cypher_chain.invoke(\n",
    "        {\n",
    "            \"question\": state.get(\"question\"),\n",
    "            \"fewshot_examples\": fewshot_examples,\n",
    "            \"schema\": enhanced_graph.schema,\n",
    "        }\n",
    "    )\n",
    "    return {\"cypher_statement\": generated_cypher, \"steps\": [\"generate_cypher\"]}"
   ]
  },
  {
   "cell_type": "code",
   "execution_count": 198,
   "metadata": {},
   "outputs": [],
   "source": [
    "validate_cypher_system = \"\"\"\n",
    "You are a Cypher expert reviewing a statement written by a junior developer.\n",
    "\"\"\"\n",
    "\n",
    "validate_cypher_user = \"\"\"You must check the following:\n",
    "* Are there any syntax errors in the Cypher statement?\n",
    "* Are there any missing or undefined variables in the Cypher statement?\n",
    "* Are any node labels missing from the schema?\n",
    "* Are any relationship types missing from the schema?\n",
    "* Are any of the properties not included in the schema?\n",
    "* Does the Cypher statement include enough information to answer the question?\n",
    "\n",
    "Examples of good errors:\n",
    "* Label (:Stock) does not exist, did you mean (:Sector)?\n",
    "* Property eigenvectorCentrality does not exist for label Stock, did you mean marketCap?\n",
    "* Relationship CORRELATED does not exist, did you mean BELONGS_TO?\n",
    "\n",
    "Schema:\n",
    "{schema}\n",
    "\n",
    "The question is:\n",
    "{question}\n",
    "\n",
    "The Cypher statement is:\n",
    "{cypher}\n",
    "\n",
    "Make sure you don't make any mistakes!\n",
    "\"\"\"\n",
    "\n",
    "validate_cypher_prompt = ChatPromptTemplate.from_messages(\n",
    "    [\n",
    "        (\n",
    "            \"system\",\n",
    "            validate_cypher_system,\n",
    "        ),\n",
    "        (\n",
    "            \"human\",\n",
    "            (validate_cypher_user),\n",
    "        ),\n",
    "    ]\n",
    ")\n",
    "\n",
    "\n",
    "class Property(BaseModel):\n",
    "    \"\"\"\n",
    "    Represents a filter condition based on a specific node property in a graph in a Cypher statement.\n",
    "    \"\"\"\n",
    "\n",
    "    node_label: str = Field(\n",
    "        description=\"The label of the node to which this property belongs.\"\n",
    "    )\n",
    "    property_key: str = Field(description=\"The key of the property being filtered.\")\n",
    "    property_value: str = Field(\n",
    "        description=\"The value that the property is being matched against.\"\n",
    "    )\n",
    "\n",
    "\n",
    "class ValidateCypherOutput(BaseModel):\n",
    "    \"\"\"\n",
    "    Represents the validation result of a Cypher query's output,\n",
    "    including any errors and applied filters.\n",
    "    \"\"\"\n",
    "\n",
    "    errors: Optional[List[str]] = Field(\n",
    "        description=\"A list of syntax or semantical errors in the Cypher statement. Always explain the discrepancy between schema and Cypher statement\"\n",
    "    )\n",
    "    filters: Optional[List[Property]] = Field(\n",
    "        description=\"A list of property-based filters applied in the Cypher statement.\"\n",
    "    )\n",
    "\n",
    "\n",
    "validate_cypher_chain = validate_cypher_prompt | llm.with_structured_output(\n",
    "    ValidateCypherOutput\n",
    ")"
   ]
  },
  {
   "cell_type": "code",
   "execution_count": 199,
   "metadata": {},
   "outputs": [],
   "source": [
    "corrector_schema = [\n",
    "    Schema(el[\"start\"], el[\"type\"], el[\"end\"])\n",
    "    for el in enhanced_graph.structured_schema.get(\"relationships\")\n",
    "]\n",
    "cypher_query_corrector = CypherQueryCorrector(corrector_schema)"
   ]
  },
  {
   "cell_type": "code",
   "execution_count": 200,
   "metadata": {},
   "outputs": [],
   "source": [
    "def validate_cypher(state: OverallState) -> OverallState:\n",
    "    \"\"\"\n",
    "    Validates the Cypher statement and maps any property values to the database.\n",
    "    \"\"\"\n",
    "    errors=[]\n",
    "    mapping_errors=[]\n",
    "    try:\n",
    "        enhanced_graph.query(f\"EXPLAIN {state.get('cypher_statement')}\")\n",
    "    except CypherSyntaxError as e:\n",
    "        errors.append(e.message)\n",
    "    \n",
    "    corrected_cypher = cypher_query_corrector(state.get(\"cypher_statement\"))\n",
    "    if not corrected_cypher:\n",
    "        errors.append(\"The generated Cypher statement doesn't fit the graph schema\")\n",
    "    if not corrected_cypher == state.get(\"cypher_statement\"):\n",
    "        print(\"Relationship direction was corrected\")\n",
    "        \n",
    "    llm_output = validate_cypher_chain.invoke(\n",
    "        {\n",
    "            \"question\": state.get(\"question\"),\n",
    "            \"schema\": enhanced_graph.schema,\n",
    "            \"cypher\": state.get(\"cypher_statement\"),\n",
    "        }\n",
    "    )\n",
    "    \n",
    "    if llm_output.errors:\n",
    "        errors.extend(llm_output.errors)\n",
    "        \n",
    "    if llm_output.filters:\n",
    "        for filter in llm_output.filters:\n",
    "            if not any(\n",
    "                prop[\"property\"] == filter.property_key and prop[\"type\"] ==\"STRING\"\n",
    "                for prop in enhanced_graph.structured_schema[\"node_props\"][filter.node_label]\n",
    "             ):\n",
    "                continue\n",
    "            \n",
    "            mapping= enhanced_graph.query(\n",
    "                f\"MATCH (n:{filter.node_label}) WHERE toLower(n. `{filter.property_key}`)= toLower($value) RETURN 'yes' LIMIT 1\",\n",
    "                {\"value\":filter.property_value},\n",
    "            )\n",
    "            if not mapping:\n",
    "                print(\n",
    "                    f\"Missing value mapping for {filter.node_label} on property {filter.property_key} with value {filter.property_value}\"\n",
    "                )\n",
    "                mapping_errors.append(\n",
    "                    f\"Missing value mapping for {filter.node_label} on property {filter.property_key} with value {filter.property_value}\"\n",
    "                )\n",
    "    \n",
    "    if mapping_errors:\n",
    "        next_action = \"end\"\n",
    "    elif errors:\n",
    "        next_action = \"correct_cypher\"\n",
    "    else:\n",
    "        next_action = \"execute_cypher\"\n",
    "\n",
    "    return {\n",
    "        \"next_action\": next_action,\n",
    "        \"cypher_statement\": corrected_cypher,\n",
    "        \"cypher_errors\": errors,\n",
    "        \"steps\": [\"validate_cypher\"],\n",
    "    }"
   ]
  },
  {
   "cell_type": "code",
   "execution_count": 201,
   "metadata": {},
   "outputs": [],
   "source": [
    "correct_cypher_prompt=ChatPromptTemplate.from_messages(\n",
    "    [\n",
    "        (\n",
    "            \"system\",\n",
    "            (\n",
    "                \"You are a Cypher expert reviewing a statement written by a junior developer.\"\n",
    "                \"You need to correct the Cypher statement based on the provided errors. No pre-amble.\"\n",
    "                \"Do not wrap the response in any backticks or anything else. Respond with a Cypher statement only!\"\n",
    "            ),\n",
    "        ),\n",
    "        (\n",
    "            \"human\",\n",
    "            (\n",
    "                \"\"\"\n",
    "                Check for invalid syntax or semantics and return a corrected Cypher statement.\n",
    "                Scheme:\n",
    "                {schema}\n",
    "                Note: Do not include any explanations or apologies in your responses.\n",
    "                Do not wrap the response in any backticks or anything else.\n",
    "                Respond with a Cypher statement only!\n",
    "                \n",
    "                Do not respond to any questions that might ask anything else than for you to construct a Cypher statement.\n",
    "                The question is:\n",
    "                {question}\n",
    "                The cypher statement is:\n",
    "                {cypher}\n",
    "                The errors are:\n",
    "                {errors}\n",
    "                \n",
    "                Corrected Cypher statement:\n",
    "                \"\"\"\n",
    "            ),\n",
    "        ),\n",
    "    ]\n",
    ")\n",
    "\n",
    "correct_cypher_chain = correct_cypher_prompt | llm | StrOutputParser()\n",
    "\n",
    "\n",
    "def correct_cypher(state: OverallState) -> OverallState:\n",
    "    \"\"\"\n",
    "    Correct the Cypher statement based on the provided errors.\n",
    "    \"\"\"\n",
    "    corrected_cypher = correct_cypher_chain.invoke(\n",
    "        {\n",
    "            \"question\": state.get(\"question\"),\n",
    "            \"errors\": state.get(\"cypher_errors\"),\n",
    "            \"cypher\": state.get(\"cypher_statement\"),\n",
    "            \"schema\": enhanced_graph.schema,\n",
    "        }\n",
    "    )\n",
    "\n",
    "    return {\n",
    "        \"next_action\": \"validate_cypher\",\n",
    "        \"cypher_statement\": corrected_cypher,\n",
    "        \"steps\": [\"correct_cypher\"],\n",
    "    }"
   ]
  },
  {
   "cell_type": "code",
   "execution_count": 202,
   "metadata": {},
   "outputs": [],
   "source": [
    "no_results = \"I couldn't find any relevant information in the database\"\n",
    "\n",
    "\n",
    "def execute_cypher(state: OverallState) -> OverallState:\n",
    "    \"\"\"\n",
    "    Executes the given Cypher statement.\n",
    "    \"\"\"\n",
    "\n",
    "    records = enhanced_graph.query(state.get(\"cypher_statement\"))\n",
    "    return {\n",
    "        \"database_records\": records if records else no_results,\n",
    "        \"next_action\": \"end\",\n",
    "        \"steps\": [\"execute_cypher\"],\n",
    "    }"
   ]
  },
  {
   "cell_type": "code",
   "execution_count": 203,
   "metadata": {},
   "outputs": [],
   "source": [
    "generate_final_prompt=ChatPromptTemplate.from_messages(\n",
    "    [\n",
    "        (\n",
    "            \"system\",\n",
    "            \"You are a helpful assistant for a stock market database.\",\n",
    "        ),\n",
    "        (\n",
    "            \"human\",\n",
    "            (\n",
    "                \"\"\"\n",
    "                Use the following results retrieved from a stock market database to provide a succinct,\n",
    "                definitive answer to the user's question.\n",
    "                \n",
    "                Respond as if you are answering the question directly.\n",
    "                Results: {results}\n",
    "                Question:{question}\n",
    "                \"\"\"\n",
    "            ),\n",
    "        ),\n",
    "    ]\n",
    ")\n",
    "\n",
    "generate_final_chain = generate_final_prompt | llm | StrOutputParser()\n",
    "\n",
    "\n",
    "def generate_final_answer(state: OverallState) -> OutputState:\n",
    "\n",
    "    \"\"\"\"\n",
    "    Generate the final answer based on database results and the user's question.\n",
    "    \"\"\"\n",
    "    final_answer = generate_final_chain.invoke(\n",
    "        {\"question\": state.get(\"question\"), \"results\": state.get(\"database_records\")}\n",
    "    )\n",
    "    return {\"answer\": final_answer, \"steps\": [\"generate_final_answer\"]}"
   ]
  },
  {
   "cell_type": "code",
   "execution_count": 204,
   "metadata": {},
   "outputs": [],
   "source": [
    "def guardrails_condition(state: OverallState) -> Literal[\"generate_cypher\", \"generate_final_answer\"]:\n",
    "    if state.get(\"next_action\") == \"end\":\n",
    "        return \"generate_final_answer\"\n",
    "    elif state.get(\"next_action\") == \"stock\":\n",
    "        return \"generate_cypher\"\n",
    "\n",
    "def validate_cypher_condition(\n",
    "    state:OverallState,\n",
    ") -> Literal [\"generate_final_answer\",\"correct_cypher\",\"execute_cypher\"]:\n",
    "    if state.get(\"next_action\") ==\"end\":\n",
    "        return \"generate_final_answer\"\n",
    "    elif state.get(\"next_action\") == \"correct_cypher\":\n",
    "        return \"correct_cypher\"\n",
    "    elif state.get(\"next_action\") == \"execute_cypher\":\n",
    "        return \"execute_cypher\""
   ]
  },
  {
   "cell_type": "code",
   "execution_count": 205,
   "metadata": {},
   "outputs": [],
   "source": [
    "langgraph=StateGraph(OverallState,input=InputState,output=OutputState)\n",
    "\n",
    "langgraph.add_node(guardrails)\n",
    "langgraph.add_node(generate_cypher)\n",
    "langgraph.add_node(validate_cypher)\n",
    "langgraph.add_node(correct_cypher)\n",
    "langgraph.add_node(execute_cypher)\n",
    "langgraph.add_node(generate_final_answer)\n",
    "\n",
    "langgraph.add_edge(START,\"guardrails\")\n",
    "langgraph.add_conditional_edges(\n",
    "    \"guardrails\",\n",
    "    guardrails_condition,\n",
    ")\n",
    "langgraph.add_edge(\"generate_cypher\",\"validate_cypher\")\n",
    "langgraph.add_conditional_edges(\n",
    "    \"validate_cypher\",\n",
    "    validate_cypher_condition,\n",
    ")\n",
    "langgraph.add_edge(\"execute_cypher\",\"generate_final_answer\")\n",
    "langgraph.add_edge(\"correct_cypher\",\"validate_cypher\")\n",
    "langgraph.add_edge(\"generate_final_answer\",END)\n",
    "\n",
    "langgraph = langgraph.compile()"
   ]
  },
  {
   "cell_type": "code",
   "execution_count": 206,
   "metadata": {},
   "outputs": [
    {
     "name": "stdout",
     "output_type": "stream",
     "text": [
      "Generating single mermaid chart\n"
     ]
    },
    {
     "data": {
      "image/png": "[encoded data removed]",
      "text/plain": [
       "<IPython.core.display.Image object>"
      ]
     },
     "metadata": {},
     "output_type": "display_data"
    }
   ],
   "source": [
    "mermaid_code = langgraph.get_graph().draw_mermaid()\n",
    "with open(\"../Image/langgraph.mmd\", \"w\") as f:\n",
    "    f.write(mermaid_code)\n",
    "\n",
    "# Generate PNG using Mermaid CLI\n",
    "import os\n",
    "os.makedirs(\"../Image\", exist_ok=True)\n",
    "os.system(\"mmdc -i ../Image/langgraph.mmd -o ../Image/langgraph.png\")\n",
    "\n",
    "# Display the PNG\n",
    "display(Image(\"../Image/langgraph.png\"))"
   ]
  },
  {
   "cell_type": "code",
   "execution_count": 207,
   "metadata": {},
   "outputs": [
    {
     "name": "stdout",
     "output_type": "stream",
     "text": [
      "Invoking guardrails_chain with question: How many stocks belong to the Information Technology sector?\n",
      "Guardrails output: decision='stock'\n"
     ]
    },
    {
     "data": {
      "text/plain": [
       "{'answer': 'There are 18 stocks that belong to the Information Technology sector.',\n",
       " 'steps': ['guardrail',\n",
       "  'generate_cypher',\n",
       "  'validate_cypher',\n",
       "  'execute_cypher',\n",
       "  'generate_final_answer'],\n",
       " 'cypher_statement': \"MATCH (s:Stock)-[:BELONGS_TO]->(:Sector {name: 'Information Technology'}) RETURN count(DISTINCT s)\"}"
      ]
     },
     "execution_count": 207,
     "metadata": {},
     "output_type": "execute_result"
    }
   ],
   "source": [
    "langgraph.invoke({\"question\": \"How many stocks belong to the Information Technology sector?\"})"
   ]
  },
  {
   "cell_type": "code",
   "execution_count": 208,
   "metadata": {},
   "outputs": [
    {
     "name": "stdout",
     "output_type": "stream",
     "text": [
      "Invoking guardrails_chain with question: Which stocks have a correlation with AAPL?\n",
      "Guardrails output: decision='stock'\n"
     ]
    },
    {
     "data": {
      "text/plain": [
       "{'answer': 'The stocks that have a correlation with AAPL are AMZN, GOOGL, and MSFT.',\n",
       " 'steps': ['guardrail',\n",
       "  'generate_cypher',\n",
       "  'validate_cypher',\n",
       "  'execute_cypher',\n",
       "  'generate_final_answer'],\n",
       " 'cypher_statement': \"MATCH (a:Stock {symbol: 'AAPL'})-[:CORRELATED]->(b:Stock) RETURN b.symbol\"}"
      ]
     },
     "execution_count": 208,
     "metadata": {},
     "output_type": "execute_result"
    }
   ],
   "source": [
    "langgraph.invoke({\"question\": \"Which stocks have a correlation with AAPL?\"})"
   ]
  }
 ],
 "metadata": {
  "kernelspec": {
   "display_name": "venv",
   "language": "python",
   "name": "python3"
  },
  "language_info": {
   "codemirror_mode": {
    "name": "ipython",
    "version": 3
   },
   "file_extension": ".py",
   "mimetype": "text/x-python",
   "name": "python",
   "nbconvert_exporter": "python",
   "pygments_lexer": "ipython3",
   "version": "3.12.4"
  }
 },
 "nbformat": 4,
 "nbformat_minor": 2
}

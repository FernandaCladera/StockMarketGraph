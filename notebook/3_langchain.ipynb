{
 "cells": [
  {
   "cell_type": "markdown",
   "metadata": {},
   "source": [
    "# LangChain Integration"
   ]
  },
  {
   "cell_type": "markdown",
   "metadata": {},
   "source": [
    "## 1. Dependencies"
   ]
  },
  {
   "cell_type": "code",
   "execution_count": 177,
   "metadata": {},
   "outputs": [],
   "source": [
    "import pandas as pd\n",
    "import matplotlib.pyplot as plt\n",
    "import os\n",
    "from dotenv import load_dotenv\n",
    "from langchain_neo4j import Neo4jGraph, GraphCypherQAChain, Neo4jVector\n",
    "from langchain_openai import ChatOpenAI, OpenAIEmbeddings\n",
    "\n",
    "#Advanced LangGraph\n",
    "from operator import add\n",
    "from typing import Annotated, List, Literal, Optional\n",
    "from typing_extensions import TypedDict\n",
    "from langchain_core.prompts import ChatPromptTemplate\n",
    "from langchain_core.example_selectors import SemanticSimilarityExampleSelector\n",
    "from langchain_core.output_parsers import StrOutputParser\n",
    "from langchain_neo4j.chains.graph_qa.cypher_utils import CypherQueryCorrector, Schema\n",
    "from pydantic import BaseModel, Field\n",
    "from neo4j.exceptions import CypherSyntaxError\n",
    "from IPython.display import Image, display\n",
    "from langgraph.graph import END, START, StateGraph"
   ]
  },
  {
   "cell_type": "markdown",
   "metadata": {},
   "source": [
    "## 2. Connections with graph database"
   ]
  },
  {
   "cell_type": "code",
   "execution_count": 178,
   "metadata": {},
   "outputs": [
    {
     "ename": "ValueError",
     "evalue": "Could not connect to Neo4j database. Please ensure that the username and password are correct",
     "output_type": "error",
     "traceback": [
      "\u001b[0;31m---------------------------------------------------------------------------\u001b[0m",
      "\u001b[0;31mAuthError\u001b[0m                                 Traceback (most recent call last)",
      "File \u001b[0;32m~/Documents/2_Projects/GEN_AI/venv/lib/python3.12/site-packages/langchain_neo4j/graphs/neo4j_graph.py:379\u001b[0m, in \u001b[0;36mNeo4jGraph.__init__\u001b[0;34m(self, url, username, password, database, timeout, sanitize, refresh_schema, driver_config, enhanced_schema)\u001b[0m\n\u001b[1;32m    378\u001b[0m \u001b[38;5;28;01mtry\u001b[39;00m:\n\u001b[0;32m--> 379\u001b[0m     \u001b[38;5;28;43mself\u001b[39;49m\u001b[38;5;241;43m.\u001b[39;49m\u001b[43m_driver\u001b[49m\u001b[38;5;241;43m.\u001b[39;49m\u001b[43mverify_connectivity\u001b[49m\u001b[43m(\u001b[49m\u001b[43m)\u001b[49m\n\u001b[1;32m    380\u001b[0m \u001b[38;5;28;01mexcept\u001b[39;00m neo4j\u001b[38;5;241m.\u001b[39mexceptions\u001b[38;5;241m.\u001b[39mServiceUnavailable:\n",
      "File \u001b[0;32m~/Documents/2_Projects/GEN_AI/venv/lib/python3.12/site-packages/neo4j/_sync/driver.py:1081\u001b[0m, in \u001b[0;36mDriver.verify_connectivity\u001b[0;34m(self, **config)\u001b[0m\n\u001b[1;32m   1080\u001b[0m session_config \u001b[38;5;241m=\u001b[39m \u001b[38;5;28mself\u001b[39m\u001b[38;5;241m.\u001b[39m_read_session_config(config)\n\u001b[0;32m-> 1081\u001b[0m \u001b[38;5;28;43mself\u001b[39;49m\u001b[38;5;241;43m.\u001b[39;49m\u001b[43m_get_server_info\u001b[49m\u001b[43m(\u001b[49m\u001b[43msession_config\u001b[49m\u001b[43m)\u001b[49m\n",
      "File \u001b[0;32m~/Documents/2_Projects/GEN_AI/venv/lib/python3.12/site-packages/neo4j/_sync/driver.py:1296\u001b[0m, in \u001b[0;36mDriver._get_server_info\u001b[0;34m(self, session_config)\u001b[0m\n\u001b[1;32m   1295\u001b[0m \u001b[38;5;28;01mwith\u001b[39;00m \u001b[38;5;28mself\u001b[39m\u001b[38;5;241m.\u001b[39m_session(session_config) \u001b[38;5;28;01mas\u001b[39;00m session:\n\u001b[0;32m-> 1296\u001b[0m     \u001b[38;5;28;01mreturn\u001b[39;00m \u001b[43msession\u001b[49m\u001b[38;5;241;43m.\u001b[39;49m\u001b[43m_get_server_info\u001b[49m\u001b[43m(\u001b[49m\u001b[43m)\u001b[49m\n",
      "File \u001b[0;32m~/Documents/2_Projects/GEN_AI/venv/lib/python3.12/site-packages/neo4j/_sync/work/session.py:183\u001b[0m, in \u001b[0;36mSession._get_server_info\u001b[0;34m(self)\u001b[0m\n\u001b[1;32m    182\u001b[0m \u001b[38;5;28;01massert\u001b[39;00m \u001b[38;5;129;01mnot\u001b[39;00m \u001b[38;5;28mself\u001b[39m\u001b[38;5;241m.\u001b[39m_connection\n\u001b[0;32m--> 183\u001b[0m \u001b[38;5;28;43mself\u001b[39;49m\u001b[38;5;241;43m.\u001b[39;49m\u001b[43m_connect\u001b[49m\u001b[43m(\u001b[49m\u001b[43mREAD_ACCESS\u001b[49m\u001b[43m,\u001b[49m\u001b[43m \u001b[49m\u001b[43mliveness_check_timeout\u001b[49m\u001b[38;5;241;43m=\u001b[39;49m\u001b[38;5;241;43m0\u001b[39;49m\u001b[43m)\u001b[49m\n\u001b[1;32m    184\u001b[0m server_info \u001b[38;5;241m=\u001b[39m \u001b[38;5;28mself\u001b[39m\u001b[38;5;241m.\u001b[39m_connection\u001b[38;5;241m.\u001b[39mserver_info\n",
      "File \u001b[0;32m~/Documents/2_Projects/GEN_AI/venv/lib/python3.12/site-packages/neo4j/_sync/work/session.py:136\u001b[0m, in \u001b[0;36mSession._connect\u001b[0;34m(self, access_mode, **acquire_kwargs)\u001b[0m\n\u001b[1;32m    135\u001b[0m \u001b[38;5;28;01mtry\u001b[39;00m:\n\u001b[0;32m--> 136\u001b[0m     \u001b[38;5;28;43msuper\u001b[39;49m\u001b[43m(\u001b[49m\u001b[43m)\u001b[49m\u001b[38;5;241;43m.\u001b[39;49m\u001b[43m_connect\u001b[49m\u001b[43m(\u001b[49m\n\u001b[1;32m    137\u001b[0m \u001b[43m        \u001b[49m\u001b[43maccess_mode\u001b[49m\u001b[43m,\u001b[49m\u001b[43m \u001b[49m\u001b[43mauth\u001b[49m\u001b[38;5;241;43m=\u001b[39;49m\u001b[38;5;28;43mself\u001b[39;49m\u001b[38;5;241;43m.\u001b[39;49m\u001b[43m_config\u001b[49m\u001b[38;5;241;43m.\u001b[39;49m\u001b[43mauth\u001b[49m\u001b[43m,\u001b[49m\u001b[43m \u001b[49m\u001b[38;5;241;43m*\u001b[39;49m\u001b[38;5;241;43m*\u001b[39;49m\u001b[43macquire_kwargs\u001b[49m\n\u001b[1;32m    138\u001b[0m \u001b[43m    \u001b[49m\u001b[43m)\u001b[49m\n\u001b[1;32m    139\u001b[0m \u001b[38;5;28;01mexcept\u001b[39;00m asyncio\u001b[38;5;241m.\u001b[39mCancelledError:\n",
      "File \u001b[0;32m~/Documents/2_Projects/GEN_AI/venv/lib/python3.12/site-packages/neo4j/_sync/work/workspace.py:184\u001b[0m, in \u001b[0;36mWorkspace._connect\u001b[0;34m(self, access_mode, auth, **acquire_kwargs)\u001b[0m\n\u001b[1;32m    183\u001b[0m acquire_kwargs_\u001b[38;5;241m.\u001b[39mupdate(acquire_kwargs)\n\u001b[0;32m--> 184\u001b[0m \u001b[38;5;28mself\u001b[39m\u001b[38;5;241m.\u001b[39m_connection \u001b[38;5;241m=\u001b[39m \u001b[38;5;28;43mself\u001b[39;49m\u001b[38;5;241;43m.\u001b[39;49m\u001b[43m_pool\u001b[49m\u001b[38;5;241;43m.\u001b[39;49m\u001b[43macquire\u001b[49m\u001b[43m(\u001b[49m\u001b[38;5;241;43m*\u001b[39;49m\u001b[38;5;241;43m*\u001b[39;49m\u001b[43macquire_kwargs_\u001b[49m\u001b[43m)\u001b[49m\n\u001b[1;32m    185\u001b[0m \u001b[38;5;28mself\u001b[39m\u001b[38;5;241m.\u001b[39m_connection_access_mode \u001b[38;5;241m=\u001b[39m access_mode\n",
      "File \u001b[0;32m~/Documents/2_Projects/GEN_AI/venv/lib/python3.12/site-packages/neo4j/_sync/io/_pool.py:597\u001b[0m, in \u001b[0;36mBoltPool.acquire\u001b[0;34m(self, access_mode, timeout, database, bookmarks, auth, liveness_check_timeout)\u001b[0m\n\u001b[1;32m    596\u001b[0m deadline \u001b[38;5;241m=\u001b[39m Deadline\u001b[38;5;241m.\u001b[39mfrom_timeout_or_deadline(timeout)\n\u001b[0;32m--> 597\u001b[0m \u001b[38;5;28;01mreturn\u001b[39;00m \u001b[38;5;28;43mself\u001b[39;49m\u001b[38;5;241;43m.\u001b[39;49m\u001b[43m_acquire\u001b[49m\u001b[43m(\u001b[49m\n\u001b[1;32m    598\u001b[0m \u001b[43m    \u001b[49m\u001b[38;5;28;43mself\u001b[39;49m\u001b[38;5;241;43m.\u001b[39;49m\u001b[43maddress\u001b[49m\u001b[43m,\u001b[49m\u001b[43m \u001b[49m\u001b[43mauth\u001b[49m\u001b[43m,\u001b[49m\u001b[43m \u001b[49m\u001b[43mdeadline\u001b[49m\u001b[43m,\u001b[49m\u001b[43m \u001b[49m\u001b[43mliveness_check_timeout\u001b[49m\n\u001b[1;32m    599\u001b[0m \u001b[43m\u001b[49m\u001b[43m)\u001b[49m\n",
      "File \u001b[0;32m~/Documents/2_Projects/GEN_AI/venv/lib/python3.12/site-packages/neo4j/_sync/io/_pool.py:347\u001b[0m, in \u001b[0;36mIOPool._acquire\u001b[0;34m(self, address, auth, deadline, liveness_check_timeout)\u001b[0m\n\u001b[1;32m    346\u001b[0m log\u001b[38;5;241m.\u001b[39mdebug(\u001b[38;5;124m\"\u001b[39m\u001b[38;5;124m[#0000]  _: <POOL> trying to hand out new connection\u001b[39m\u001b[38;5;124m\"\u001b[39m)\n\u001b[0;32m--> 347\u001b[0m \u001b[38;5;28;01mreturn\u001b[39;00m \u001b[43mconnection_creator\u001b[49m\u001b[43m(\u001b[49m\u001b[43m)\u001b[49m\n",
      "File \u001b[0;32m~/Documents/2_Projects/GEN_AI/venv/lib/python3.12/site-packages/neo4j/_sync/io/_pool.py:169\u001b[0m, in \u001b[0;36mIOPool._acquire_new_later.<locals>.connection_creator\u001b[0;34m()\u001b[0m\n\u001b[1;32m    168\u001b[0m \u001b[38;5;28;01mtry\u001b[39;00m:\n\u001b[0;32m--> 169\u001b[0m     connection \u001b[38;5;241m=\u001b[39m \u001b[38;5;28;43mself\u001b[39;49m\u001b[38;5;241;43m.\u001b[39;49m\u001b[43mopener\u001b[49m\u001b[43m(\u001b[49m\n\u001b[1;32m    170\u001b[0m \u001b[43m        \u001b[49m\u001b[43maddress\u001b[49m\u001b[43m,\u001b[49m\u001b[43m \u001b[49m\u001b[43mauth\u001b[49m\u001b[43m \u001b[49m\u001b[38;5;129;43;01mor\u001b[39;49;00m\u001b[43m \u001b[49m\u001b[38;5;28;43mself\u001b[39;49m\u001b[38;5;241;43m.\u001b[39;49m\u001b[43mpool_config\u001b[49m\u001b[38;5;241;43m.\u001b[39;49m\u001b[43mauth\u001b[49m\u001b[43m,\u001b[49m\u001b[43m \u001b[49m\u001b[43mdeadline\u001b[49m\n\u001b[1;32m    171\u001b[0m \u001b[43m    \u001b[49m\u001b[43m)\u001b[49m\n\u001b[1;32m    172\u001b[0m \u001b[38;5;28;01mexcept\u001b[39;00m ServiceUnavailable:\n",
      "File \u001b[0;32m~/Documents/2_Projects/GEN_AI/venv/lib/python3.12/site-packages/neo4j/_sync/io/_pool.py:560\u001b[0m, in \u001b[0;36mBoltPool.open.<locals>.opener\u001b[0;34m(addr, auth_manager, deadline)\u001b[0m\n\u001b[1;32m    559\u001b[0m \u001b[38;5;28;01mdef\u001b[39;00m \u001b[38;5;21mopener\u001b[39m(addr, auth_manager, deadline):\n\u001b[0;32m--> 560\u001b[0m     \u001b[38;5;28;01mreturn\u001b[39;00m \u001b[43mBolt\u001b[49m\u001b[38;5;241;43m.\u001b[39;49m\u001b[43mopen\u001b[49m\u001b[43m(\u001b[49m\n\u001b[1;32m    561\u001b[0m \u001b[43m        \u001b[49m\u001b[43maddr\u001b[49m\u001b[43m,\u001b[49m\n\u001b[1;32m    562\u001b[0m \u001b[43m        \u001b[49m\u001b[43mauth_manager\u001b[49m\u001b[38;5;241;43m=\u001b[39;49m\u001b[43mauth_manager\u001b[49m\u001b[43m,\u001b[49m\n\u001b[1;32m    563\u001b[0m \u001b[43m        \u001b[49m\u001b[43mdeadline\u001b[49m\u001b[38;5;241;43m=\u001b[39;49m\u001b[43mdeadline\u001b[49m\u001b[43m,\u001b[49m\n\u001b[1;32m    564\u001b[0m \u001b[43m        \u001b[49m\u001b[43mrouting_context\u001b[49m\u001b[38;5;241;43m=\u001b[39;49m\u001b[38;5;28;43;01mNone\u001b[39;49;00m\u001b[43m,\u001b[49m\n\u001b[1;32m    565\u001b[0m \u001b[43m        \u001b[49m\u001b[43mpool_config\u001b[49m\u001b[38;5;241;43m=\u001b[39;49m\u001b[43mpool_config\u001b[49m\u001b[43m,\u001b[49m\n\u001b[1;32m    566\u001b[0m \u001b[43m    \u001b[49m\u001b[43m)\u001b[49m\n",
      "File \u001b[0;32m~/Documents/2_Projects/GEN_AI/venv/lib/python3.12/site-packages/neo4j/_sync/io/_bolt.py:560\u001b[0m, in \u001b[0;36mBolt.open\u001b[0;34m(cls, address, auth_manager, deadline, routing_context, pool_config)\u001b[0m\n\u001b[1;32m    559\u001b[0m \u001b[38;5;28;01mtry\u001b[39;00m:\n\u001b[0;32m--> 560\u001b[0m     \u001b[43mconnection\u001b[49m\u001b[38;5;241;43m.\u001b[39;49m\u001b[43mhello\u001b[49m\u001b[43m(\u001b[49m\u001b[43m)\u001b[49m\n\u001b[1;32m    561\u001b[0m \u001b[38;5;28;01mfinally\u001b[39;00m:\n",
      "File \u001b[0;32m~/Documents/2_Projects/GEN_AI/venv/lib/python3.12/site-packages/neo4j/_sync/io/_bolt5.py:736\u001b[0m, in \u001b[0;36mBolt5x2.hello\u001b[0;34m(self, dehydration_hooks, hydration_hooks)\u001b[0m\n\u001b[1;32m    735\u001b[0m \u001b[38;5;28mself\u001b[39m\u001b[38;5;241m.\u001b[39msend_all()\n\u001b[0;32m--> 736\u001b[0m \u001b[38;5;28;43mself\u001b[39;49m\u001b[38;5;241;43m.\u001b[39;49m\u001b[43mfetch_all\u001b[49m\u001b[43m(\u001b[49m\u001b[43m)\u001b[49m\n\u001b[1;32m    737\u001b[0m check_supported_server_product(\u001b[38;5;28mself\u001b[39m\u001b[38;5;241m.\u001b[39mserver_info\u001b[38;5;241m.\u001b[39magent)\n",
      "File \u001b[0;32m~/Documents/2_Projects/GEN_AI/venv/lib/python3.12/site-packages/neo4j/_sync/io/_bolt.py:1009\u001b[0m, in \u001b[0;36mBolt.fetch_all\u001b[0;34m(self)\u001b[0m\n\u001b[1;32m   1008\u001b[0m \u001b[38;5;28;01mwhile\u001b[39;00m \u001b[38;5;129;01mnot\u001b[39;00m response\u001b[38;5;241m.\u001b[39mcomplete:\n\u001b[0;32m-> 1009\u001b[0m     detail_delta, summary_delta \u001b[38;5;241m=\u001b[39m \u001b[38;5;28;43mself\u001b[39;49m\u001b[38;5;241;43m.\u001b[39;49m\u001b[43mfetch_message\u001b[49m\u001b[43m(\u001b[49m\u001b[43m)\u001b[49m\n\u001b[1;32m   1010\u001b[0m     detail_count \u001b[38;5;241m+\u001b[39m\u001b[38;5;241m=\u001b[39m detail_delta\n",
      "File \u001b[0;32m~/Documents/2_Projects/GEN_AI/venv/lib/python3.12/site-packages/neo4j/_sync/io/_bolt.py:994\u001b[0m, in \u001b[0;36mBolt.fetch_message\u001b[0;34m(self)\u001b[0m\n\u001b[1;32m    991\u001b[0m tag, fields \u001b[38;5;241m=\u001b[39m \u001b[38;5;28mself\u001b[39m\u001b[38;5;241m.\u001b[39minbox\u001b[38;5;241m.\u001b[39mpop(\n\u001b[1;32m    992\u001b[0m     hydration_hooks\u001b[38;5;241m=\u001b[39m\u001b[38;5;28mself\u001b[39m\u001b[38;5;241m.\u001b[39mresponses[\u001b[38;5;241m0\u001b[39m]\u001b[38;5;241m.\u001b[39mhydration_hooks\n\u001b[1;32m    993\u001b[0m )\n\u001b[0;32m--> 994\u001b[0m res \u001b[38;5;241m=\u001b[39m \u001b[38;5;28;43mself\u001b[39;49m\u001b[38;5;241;43m.\u001b[39;49m\u001b[43m_process_message\u001b[49m\u001b[43m(\u001b[49m\u001b[43mtag\u001b[49m\u001b[43m,\u001b[49m\u001b[43m \u001b[49m\u001b[43mfields\u001b[49m\u001b[43m)\u001b[49m\n\u001b[1;32m    995\u001b[0m \u001b[38;5;28mself\u001b[39m\u001b[38;5;241m.\u001b[39midle_since \u001b[38;5;241m=\u001b[39m monotonic()\n",
      "File \u001b[0;32m~/Documents/2_Projects/GEN_AI/venv/lib/python3.12/site-packages/neo4j/_sync/io/_bolt5.py:1204\u001b[0m, in \u001b[0;36mBolt5x7._process_message\u001b[0;34m(self, tag, fields)\u001b[0m\n\u001b[1;32m   1203\u001b[0m \u001b[38;5;28;01mtry\u001b[39;00m:\n\u001b[0;32m-> 1204\u001b[0m     \u001b[43mresponse\u001b[49m\u001b[38;5;241;43m.\u001b[39;49m\u001b[43mon_failure\u001b[49m\u001b[43m(\u001b[49m\u001b[43msummary_metadata\u001b[49m\u001b[43m \u001b[49m\u001b[38;5;129;43;01mor\u001b[39;49;00m\u001b[43m \u001b[49m\u001b[43m{\u001b[49m\u001b[43m}\u001b[49m\u001b[43m)\u001b[49m\n\u001b[1;32m   1205\u001b[0m \u001b[38;5;28;01mexcept\u001b[39;00m (ServiceUnavailable, DatabaseUnavailable):\n",
      "File \u001b[0;32m~/Documents/2_Projects/GEN_AI/venv/lib/python3.12/site-packages/neo4j/_sync/io/_common.py:295\u001b[0m, in \u001b[0;36mLogonResponse.on_failure\u001b[0;34m(self, metadata)\u001b[0m\n\u001b[1;32m    294\u001b[0m Util\u001b[38;5;241m.\u001b[39mcallback(handler)\n\u001b[0;32m--> 295\u001b[0m \u001b[38;5;28;01mraise\u001b[39;00m \u001b[38;5;28mself\u001b[39m\u001b[38;5;241m.\u001b[39m_hydrate_error(metadata)\n",
      "\u001b[0;31mAuthError\u001b[0m: {code: Neo.ClientError.Security.Unauthorized} {message: The client is unauthorized due to authentication failure.}",
      "\nDuring handling of the above exception, another exception occurred:\n",
      "\u001b[0;31mValueError\u001b[0m                                Traceback (most recent call last)",
      "Cell \u001b[0;32mIn[178], line 4\u001b[0m\n\u001b[1;32m      2\u001b[0m username \u001b[38;5;241m=\u001b[39m \u001b[38;5;124m\"\u001b[39m\u001b[38;5;124mneo4j\u001b[39m\u001b[38;5;124m\"\u001b[39m          \n\u001b[1;32m      3\u001b[0m password \u001b[38;5;241m=\u001b[39m \u001b[38;5;124m\"\u001b[39m\u001b[38;5;124m12345678\u001b[39m\u001b[38;5;124m\"\u001b[39m\n\u001b[0;32m----> 4\u001b[0m graph \u001b[38;5;241m=\u001b[39m \u001b[43mNeo4jGraph\u001b[49m\u001b[43m(\u001b[49m\u001b[43muri\u001b[49m\u001b[43m,\u001b[49m\u001b[43m \u001b[49m\u001b[43musername\u001b[49m\u001b[43m,\u001b[49m\u001b[43m \u001b[49m\u001b[43mpassword\u001b[49m\u001b[43m)\u001b[49m\n",
      "File \u001b[0;32m~/Documents/2_Projects/GEN_AI/venv/lib/python3.12/site-packages/langchain_neo4j/graphs/neo4j_graph.py:386\u001b[0m, in \u001b[0;36mNeo4jGraph.__init__\u001b[0;34m(self, url, username, password, database, timeout, sanitize, refresh_schema, driver_config, enhanced_schema)\u001b[0m\n\u001b[1;32m    381\u001b[0m     \u001b[38;5;28;01mraise\u001b[39;00m \u001b[38;5;167;01mValueError\u001b[39;00m(\n\u001b[1;32m    382\u001b[0m         \u001b[38;5;124m\"\u001b[39m\u001b[38;5;124mCould not connect to Neo4j database. \u001b[39m\u001b[38;5;124m\"\u001b[39m\n\u001b[1;32m    383\u001b[0m         \u001b[38;5;124m\"\u001b[39m\u001b[38;5;124mPlease ensure that the url is correct\u001b[39m\u001b[38;5;124m\"\u001b[39m\n\u001b[1;32m    384\u001b[0m     )\n\u001b[1;32m    385\u001b[0m \u001b[38;5;28;01mexcept\u001b[39;00m neo4j\u001b[38;5;241m.\u001b[39mexceptions\u001b[38;5;241m.\u001b[39mAuthError:\n\u001b[0;32m--> 386\u001b[0m     \u001b[38;5;28;01mraise\u001b[39;00m \u001b[38;5;167;01mValueError\u001b[39;00m(\n\u001b[1;32m    387\u001b[0m         \u001b[38;5;124m\"\u001b[39m\u001b[38;5;124mCould not connect to Neo4j database. \u001b[39m\u001b[38;5;124m\"\u001b[39m\n\u001b[1;32m    388\u001b[0m         \u001b[38;5;124m\"\u001b[39m\u001b[38;5;124mPlease ensure that the username and password are correct\u001b[39m\u001b[38;5;124m\"\u001b[39m\n\u001b[1;32m    389\u001b[0m     )\n\u001b[1;32m    390\u001b[0m \u001b[38;5;66;03m# Set schema\u001b[39;00m\n\u001b[1;32m    391\u001b[0m \u001b[38;5;28;01mif\u001b[39;00m refresh_schema:\n",
      "\u001b[0;31mValueError\u001b[0m: Could not connect to Neo4j database. Please ensure that the username and password are correct"
     ]
    }
   ],
   "source": [
    "uri = \"bolt://localhost:7687\"\n",
    "username = \"neo4j\"          \n",
    "password = \"12345678\"\n",
    "graph = Neo4jGraph(uri, username, password)\n"
   ]
  },
  {
   "cell_type": "code",
   "execution_count": null,
   "metadata": {},
   "outputs": [
    {
     "name": "stdout",
     "output_type": "stream",
     "text": [
      "{'n': {'symbol': 'AAPL', 'betweennessCentrality': 0.0, 'name': 'Apple Inc.', 'eigenvectorCentrality': 2.0812589256979136e-08, 'degreeCentrality': 3.0, 'sector': 'Information Technology'}}\n",
      "{'n': {'symbol': 'ABBV', 'betweennessCentrality': 0.0, 'name': 'AbbVie', 'eigenvectorCentrality': 1.9054538849600147e-170, 'degreeCentrality': 0.0, 'sector': 'Health Care'}}\n"
     ]
    }
   ],
   "source": [
    "nodes = graph.query(\"MATCH (n) RETURN n LIMIT 2\")\n",
    "for node in nodes:\n",
    "    print(node)"
   ]
  },
  {
   "cell_type": "code",
   "execution_count": null,
   "metadata": {},
   "outputs": [
    {
     "name": "stdout",
     "output_type": "stream",
     "text": [
      "{'a': {'symbol': 'AAPL', 'betweennessCentrality': 0.0, 'name': 'Apple Inc.', 'eigenvectorCentrality': 2.0812589256979136e-08, 'degreeCentrality': 3.0, 'sector': 'Information Technology'}, 'r': ({'symbol': 'AAPL', 'betweennessCentrality': 0.0, 'name': 'Apple Inc.', 'eigenvectorCentrality': 2.0812589256979136e-08, 'degreeCentrality': 3.0, 'sector': 'Information Technology'}, 'BELONGS_TO', {'name': 'Information Technology'}), 'b': {'name': 'Information Technology'}}\n",
      "{'a': {'symbol': 'AAPL', 'betweennessCentrality': 0.0, 'name': 'Apple Inc.', 'eigenvectorCentrality': 2.0812589256979136e-08, 'degreeCentrality': 3.0, 'sector': 'Information Technology'}, 'r': ({'symbol': 'AAPL', 'betweennessCentrality': 0.0, 'name': 'Apple Inc.', 'eigenvectorCentrality': 2.0812589256979136e-08, 'degreeCentrality': 3.0, 'sector': 'Information Technology'}, 'CORRELATED', {'symbol': 'AMZN', 'betweennessCentrality': 2.0, 'name': 'Amazon', 'eigenvectorCentrality': 2.985062353989397e-08, 'degreeCentrality': 5.0, 'sector': 'Consumer Discretionary'}), 'b': {'symbol': 'AMZN', 'betweennessCentrality': 2.0, 'name': 'Amazon', 'eigenvectorCentrality': 2.985062353989397e-08, 'degreeCentrality': 5.0, 'sector': 'Consumer Discretionary'}}\n"
     ]
    }
   ],
   "source": [
    "relationships = graph.query(\"MATCH (a)-[r]->(b) RETURN a, r, b LIMIT 2\")\n",
    "for relationship in relationships:\n",
    "    print(relationship)"
   ]
  },
  {
   "cell_type": "markdown",
   "metadata": {},
   "source": [
    "## 3. Integration with GraphCypherQAChain"
   ]
  },
  {
   "cell_type": "code",
   "execution_count": 166,
   "metadata": {},
   "outputs": [
    {
     "name": "stdout",
     "output_type": "stream",
     "text": [
      "Node properties:\n",
      "Stock {symbol: STRING, name: STRING, sector: STRING, eigenvectorCentrality: FLOAT, betweennessCentrality: FLOAT, degreeCentrality: FLOAT, louvainCommunityId: INTEGER}\n",
      "Sector {name: STRING}\n",
      "Relationship properties:\n",
      "CORRELATED {correlation: FLOAT}\n",
      "The relationships:\n",
      "(:Stock)-[:BELONGS_TO]->(:Sector)\n",
      "(:Stock)-[:CORRELATED]->(:Stock)\n"
     ]
    }
   ],
   "source": [
    "graph.refresh_schema()\n",
    "print(graph.schema)"
   ]
  },
  {
   "cell_type": "markdown",
   "metadata": {},
   "source": [
    "Using the enhaced_schema enriches property information. This additional context helps guide the LLM toward generating more accurate and effective queries."
   ]
  },
  {
   "cell_type": "code",
   "execution_count": null,
   "metadata": {},
   "outputs": [
    {
     "name": "stdout",
     "output_type": "stream",
     "text": [
      "Node properties:\n",
      "- **Stock**\n",
      "  - `symbol`: STRING Example: \"AAPL\"\n",
      "  - `name`: STRING Example: \"Apple Inc.\"\n",
      "  - `sector`: STRING Example: \"Information Technology\"\n",
      "  - `eigenvectorCentrality`: FLOAT Min: 1.9054538849600147E-170, Max: 0.28373309268337865\n",
      "  - `betweennessCentrality`: FLOAT Min: 0.0, Max: 111.3809523809524\n",
      "  - `degreeCentrality`: FLOAT Min: 0.0, Max: 17.0\n",
      "  - `louvainCommunityId`: INTEGER Min: 9, Max: 12\n",
      "- **Sector**\n",
      "  - `name`: STRING Example: \"Information Technology\"\n",
      "Relationship properties:\n",
      "- **CORRELATED**\n",
      "  - `correlation`: FLOAT Min: 0.6009239619998398, Max: 0.8585241254499043\n",
      "The relationships:\n",
      "(:Stock)-[:BELONGS_TO]->(:Sector)\n",
      "(:Stock)-[:CORRELATED]->(:Stock)\n"
     ]
    }
   ],
   "source": [
    "enhanced_graph=Neo4jGraph(uri, username, password,enhanced_schema=True)\n",
    "print(enhanced_graph.schema)"
   ]
  },
  {
   "cell_type": "code",
   "execution_count": null,
   "metadata": {},
   "outputs": [
    {
     "name": "stdout",
     "output_type": "stream",
     "text": [
      "\n",
      "\n",
      "\u001b[1m> Entering new GraphCypherQAChain chain...\u001b[0m\n",
      "Generated Cypher:\n",
      "\u001b[32;1m\u001b[1;3mcypher\n",
      "MATCH (s:Stock)\n",
      "RETURN s.symbol, s.name, s.eigenvectorCentrality\n",
      "ORDER BY s.eigenvectorCentrality DESC\n",
      "LIMIT 10\n",
      "\u001b[0m\n",
      "Full Context:\n",
      "\u001b[32;1m\u001b[1;3m[{'s.symbol': 'JPM', 's.name': 'JPMorgan Chase', 's.eigenvectorCentrality': 0.28373309268337865}, {'s.symbol': 'MET', 's.name': 'MetLife', 's.eigenvectorCentrality': 0.28275347463734357}, {'s.symbol': 'BK', 's.name': 'BNY Mellon', 's.eigenvectorCentrality': 0.27668837004417635}, {'s.symbol': 'MS', 's.name': 'Morgan Stanley', 's.eigenvectorCentrality': 0.27668837004417635}, {'s.symbol': 'BAC', 's.name': 'Bank of America', 's.eigenvectorCentrality': 0.27668837004417635}, {'s.symbol': 'BRK-B', 's.name': 'Berkshire Hathaway (Class B)', 's.eigenvectorCentrality': 0.2764113801812669}, {'s.symbol': 'USB', 's.name': 'U.S. Bancorp', 's.eigenvectorCentrality': 0.2671514470823249}, {'s.symbol': 'WFC', 's.name': 'Wells Fargo', 's.eigenvectorCentrality': 0.2671514470823249}, {'s.symbol': 'GS', 's.name': 'Goldman Sachs', 's.eigenvectorCentrality': 0.2655670564188749}, {'s.symbol': 'AXP', 's.name': 'American Express', 's.eigenvectorCentrality': 0.2630748560962258}]\u001b[0m\n",
      "\n",
      "\u001b[1m> Finished chain.\u001b[0m\n"
     ]
    },
    {
     "data": {
      "text/plain": [
       "{'query': 'What are the top 10 stocks by eigenvector centrality?',\n",
       " 'result': 'The top 10 stocks by eigenvector centrality are JPMorgan Chase, MetLife, BNY Mellon, Morgan Stanley, Bank of America, Berkshire Hathaway (Class B), U.S. Bancorp, Wells Fargo, Goldman Sachs, and American Express.'}"
      ]
     },
     "execution_count": 168,
     "metadata": {},
     "output_type": "execute_result"
    }
   ],
   "source": [
    "load_dotenv()\n",
    "openai_api_key=os.getenv(\"OPENAI_API_KEY\")\n",
    "llm=ChatOpenAI(model=\"gpt-4o\", temperature=0)\n",
    "chain=GraphCypherQAChain.from_llm(\n",
    "    graph=enhanced_graph, llm=llm, verbose=True, allow_dangerous_requests=True\n",
    ")\n",
    "\n",
    "response=chain.invoke({\"query\":\"What are the top 10 stocks by eigenvector centrality?\"})\n",
    "response"
   ]
  },
  {
   "cell_type": "markdown",
   "metadata": {},
   "source": [
    "## 3. Advanced Implementation with LangGraph"
   ]
  },
  {
   "cell_type": "markdown",
   "metadata": {},
   "source": [
    "Trying with LangGraph to enhance the workflow."
   ]
  },
  {
   "cell_type": "code",
   "execution_count": 169,
   "metadata": {},
   "outputs": [],
   "source": [
    "class InputState(TypedDict):\n",
    "    question:str\n",
    "\n",
    "class OverallState(TypedDict):\n",
    "    question:str\n",
    "    next_action:str\n",
    "    cypher_statement:str\n",
    "    cypher_errors:List[str]\n",
    "    database_records:List[dict]\n",
    "    steps:Annotated[List[str],add]\n",
    "\n",
    "class OutputState(TypedDict):\n",
    "    answer: str\n",
    "    steps:List[str]\n",
    "    cypher_statement: str"
   ]
  },
  {
   "cell_type": "markdown",
   "metadata": {},
   "source": [
    "Implementation of the 'guardrails' to validate if the question is related to our topic \"Stock Market\"."
   ]
  },
  {
   "cell_type": "code",
   "execution_count": 170,
   "metadata": {},
   "outputs": [],
   "source": [
    "guardrails_system=\"\"\"\n",
    "As an intelligent assistant, your primary objective is to decide whether a given question is related to stocks or finance.\n",
    "If the question is related to stocks, stock market data, or financial anaysis, output \"stock\". Otherwise, output \"end\".\n",
    "To make this decision, assess the content of the question and determine if it refers to stocks, stock market, financial terms, or stock-related data.\n",
    "Provide only the specified output:\"stock\" or \"end\".\n",
    "\"\"\"\n",
    "\n",
    "guardrails_prompt=ChatPromptTemplate.from_messages(\n",
    "    [\n",
    "        (\n",
    "            \"system\",\n",
    "            guardrails_system,\n",
    "        ),\n",
    "        (\n",
    "            \"human\",\n",
    "            (\"{question}\"),\n",
    "        ),\n",
    "    ]\n",
    ")\n",
    "\n",
    "class GuardrailsOutput(BaseModel):\n",
    "    decision:Literal[\"stock\",\"end\"]=Field(\n",
    "        description=\"Decision on whether the question is related to stocks or finance\"\n",
    "    )\n",
    "\n",
    "guardrails_chain=guardrails_prompt | llm.with_structured_output(GuardrailsOutput)\n",
    "\n",
    "def guardrails(state:InputState) -> OverallState:\n",
    "    \"\"\"\n",
    "    Decides if the question is related to stocks/finance or not.\n",
    "    \"\"\"\n",
    "    guardrails_output=guardrails_chain.invoke({\"question\":state.get(\"question\")})\n",
    "    database_records=None\n",
    "    if guardrails_output.decision ==\"end\":\n",
    "        database_records=\"This question is not related to stocks or finance. Therefore, I cannot answer it.\"\n",
    "    return {\n",
    "        \"next_action\":guardrails_output.decision,\n",
    "        \"database_records\":database_records,\n",
    "        \"steps\":[\"guardrail\"]\n",
    "    }"
   ]
  },
  {
   "cell_type": "markdown",
   "metadata": {},
   "source": [
    "**few-shot prompting**\n",
    "\n",
    "The idea is guide the LLM in query generation."
   ]
  },
  {
   "cell_type": "code",
   "execution_count": 175,
   "metadata": {},
   "outputs": [],
   "source": [
    "examples = [\n",
    "    {\n",
    "        \"question\": \"How many stocks belong to the Information Technology sector?\",\n",
    "        \"query\": \"MATCH (s:Stock)-[:BELONGS_TO]->(:Sector {name: 'Information Technology'}) RETURN count(DISTINCT s)\",\n",
    "    },\n",
    "    {\n",
    "        \"question\": \"Which stocks have a correlation with AAPL?\",\n",
    "        \"query\": \"MATCH (a:Stock {symbol: 'AAPL'})-[:CORRELATED]->(b:Stock) RETURN b.symbol\",\n",
    "    },\n",
    "    {\n",
    "        \"question\": \"How many stocks belong to the Health Care sector?\",\n",
    "        \"query\": \"MATCH (s:Stock)-[:BELONGS_TO]->(:Sector {name: 'Health Care'}) RETURN count(s)\",\n",
    "    },\n",
    "    {\n",
    "        \"question\": \"List the sectors that AAPL belongs to.\",\n",
    "        \"query\": \"MATCH (s:Stock {symbol: 'AAPL'})-[:BELONGS_TO]->(sector:Sector) RETURN sector.name\",\n",
    "    },\n",
    "    {\n",
    "        \"question\": \"Which stocks are highly correlated with Amazon?\",\n",
    "        \"query\": \"MATCH (a:Stock {symbol: 'AMZN'})-[:CORRELATED]->(b:Stock) RETURN b.symbol ORDER BY r.correlation DESC LIMIT 10\",\n",
    "    },\n",
    "    {\n",
    "        \"question\": \"Which stocks have an eigenvector centrality higher than 0.1?\",\n",
    "        \"query\": \"MATCH (s:Stock) WHERE s.eigenvectorCentrality > 0.1 RETURN s.symbol, s.eigenvectorCentrality\",\n",
    "    },\n",
    "    {\n",
    "        \"question\": \"Find the sector with the most stocks.\",\n",
    "        \"query\": \"MATCH (s:Stock)-[:BELONGS_TO]->(sector:Sector) RETURN sector.name, COUNT(s) AS num_stocks ORDER BY num_stocks DESC LIMIT 1\",\n",
    "    },\n",
    "    {\n",
    "        \"question\": \"Which stocks have a high degree centrality?\",\n",
    "        \"query\": \"MATCH (s:Stock) WHERE s.degreeCentrality > 10 RETURN s.symbol, s.degreeCentrality ORDER BY s.degreeCentrality DESC LIMIT 10\",\n",
    "    },\n",
    "]"
   ]
  },
  {
   "cell_type": "code",
   "execution_count": null,
   "metadata": {},
   "outputs": [
    {
     "ename": "ValueError",
     "evalue": "Could not connect to Neo4j database. Please ensure that the username and password are correct",
     "output_type": "error",
     "traceback": [
      "\u001b[0;31m---------------------------------------------------------------------------\u001b[0m",
      "\u001b[0;31mAuthError\u001b[0m                                 Traceback (most recent call last)",
      "File \u001b[0;32m~/Documents/2_Projects/GEN_AI/venv/lib/python3.12/site-packages/langchain_neo4j/vectorstores/neo4j_vector.py:555\u001b[0m, in \u001b[0;36mNeo4jVector.__init__\u001b[0;34m(self, embedding, search_type, username, password, url, keyword_index_name, database, index_name, node_label, embedding_node_property, text_node_property, distance_strategy, logger, pre_delete_collection, retrieval_query, relevance_score_fn, index_type, graph)\u001b[0m\n\u001b[1;32m    554\u001b[0m \u001b[38;5;28;01mtry\u001b[39;00m:\n\u001b[0;32m--> 555\u001b[0m     \u001b[38;5;28;43mself\u001b[39;49m\u001b[38;5;241;43m.\u001b[39;49m\u001b[43m_driver\u001b[49m\u001b[38;5;241;43m.\u001b[39;49m\u001b[43mverify_connectivity\u001b[49m\u001b[43m(\u001b[49m\u001b[43m)\u001b[49m\n\u001b[1;32m    556\u001b[0m \u001b[38;5;28;01mexcept\u001b[39;00m neo4j\u001b[38;5;241m.\u001b[39mexceptions\u001b[38;5;241m.\u001b[39mServiceUnavailable:\n",
      "File \u001b[0;32m~/Documents/2_Projects/GEN_AI/venv/lib/python3.12/site-packages/neo4j/_sync/driver.py:1081\u001b[0m, in \u001b[0;36mDriver.verify_connectivity\u001b[0;34m(self, **config)\u001b[0m\n\u001b[1;32m   1080\u001b[0m session_config \u001b[38;5;241m=\u001b[39m \u001b[38;5;28mself\u001b[39m\u001b[38;5;241m.\u001b[39m_read_session_config(config)\n\u001b[0;32m-> 1081\u001b[0m \u001b[38;5;28;43mself\u001b[39;49m\u001b[38;5;241;43m.\u001b[39;49m\u001b[43m_get_server_info\u001b[49m\u001b[43m(\u001b[49m\u001b[43msession_config\u001b[49m\u001b[43m)\u001b[49m\n",
      "File \u001b[0;32m~/Documents/2_Projects/GEN_AI/venv/lib/python3.12/site-packages/neo4j/_sync/driver.py:1296\u001b[0m, in \u001b[0;36mDriver._get_server_info\u001b[0;34m(self, session_config)\u001b[0m\n\u001b[1;32m   1295\u001b[0m \u001b[38;5;28;01mwith\u001b[39;00m \u001b[38;5;28mself\u001b[39m\u001b[38;5;241m.\u001b[39m_session(session_config) \u001b[38;5;28;01mas\u001b[39;00m session:\n\u001b[0;32m-> 1296\u001b[0m     \u001b[38;5;28;01mreturn\u001b[39;00m \u001b[43msession\u001b[49m\u001b[38;5;241;43m.\u001b[39;49m\u001b[43m_get_server_info\u001b[49m\u001b[43m(\u001b[49m\u001b[43m)\u001b[49m\n",
      "File \u001b[0;32m~/Documents/2_Projects/GEN_AI/venv/lib/python3.12/site-packages/neo4j/_sync/work/session.py:183\u001b[0m, in \u001b[0;36mSession._get_server_info\u001b[0;34m(self)\u001b[0m\n\u001b[1;32m    182\u001b[0m \u001b[38;5;28;01massert\u001b[39;00m \u001b[38;5;129;01mnot\u001b[39;00m \u001b[38;5;28mself\u001b[39m\u001b[38;5;241m.\u001b[39m_connection\n\u001b[0;32m--> 183\u001b[0m \u001b[38;5;28;43mself\u001b[39;49m\u001b[38;5;241;43m.\u001b[39;49m\u001b[43m_connect\u001b[49m\u001b[43m(\u001b[49m\u001b[43mREAD_ACCESS\u001b[49m\u001b[43m,\u001b[49m\u001b[43m \u001b[49m\u001b[43mliveness_check_timeout\u001b[49m\u001b[38;5;241;43m=\u001b[39;49m\u001b[38;5;241;43m0\u001b[39;49m\u001b[43m)\u001b[49m\n\u001b[1;32m    184\u001b[0m server_info \u001b[38;5;241m=\u001b[39m \u001b[38;5;28mself\u001b[39m\u001b[38;5;241m.\u001b[39m_connection\u001b[38;5;241m.\u001b[39mserver_info\n",
      "File \u001b[0;32m~/Documents/2_Projects/GEN_AI/venv/lib/python3.12/site-packages/neo4j/_sync/work/session.py:136\u001b[0m, in \u001b[0;36mSession._connect\u001b[0;34m(self, access_mode, **acquire_kwargs)\u001b[0m\n\u001b[1;32m    135\u001b[0m \u001b[38;5;28;01mtry\u001b[39;00m:\n\u001b[0;32m--> 136\u001b[0m     \u001b[38;5;28;43msuper\u001b[39;49m\u001b[43m(\u001b[49m\u001b[43m)\u001b[49m\u001b[38;5;241;43m.\u001b[39;49m\u001b[43m_connect\u001b[49m\u001b[43m(\u001b[49m\n\u001b[1;32m    137\u001b[0m \u001b[43m        \u001b[49m\u001b[43maccess_mode\u001b[49m\u001b[43m,\u001b[49m\u001b[43m \u001b[49m\u001b[43mauth\u001b[49m\u001b[38;5;241;43m=\u001b[39;49m\u001b[38;5;28;43mself\u001b[39;49m\u001b[38;5;241;43m.\u001b[39;49m\u001b[43m_config\u001b[49m\u001b[38;5;241;43m.\u001b[39;49m\u001b[43mauth\u001b[49m\u001b[43m,\u001b[49m\u001b[43m \u001b[49m\u001b[38;5;241;43m*\u001b[39;49m\u001b[38;5;241;43m*\u001b[39;49m\u001b[43macquire_kwargs\u001b[49m\n\u001b[1;32m    138\u001b[0m \u001b[43m    \u001b[49m\u001b[43m)\u001b[49m\n\u001b[1;32m    139\u001b[0m \u001b[38;5;28;01mexcept\u001b[39;00m asyncio\u001b[38;5;241m.\u001b[39mCancelledError:\n",
      "File \u001b[0;32m~/Documents/2_Projects/GEN_AI/venv/lib/python3.12/site-packages/neo4j/_sync/work/workspace.py:184\u001b[0m, in \u001b[0;36mWorkspace._connect\u001b[0;34m(self, access_mode, auth, **acquire_kwargs)\u001b[0m\n\u001b[1;32m    183\u001b[0m acquire_kwargs_\u001b[38;5;241m.\u001b[39mupdate(acquire_kwargs)\n\u001b[0;32m--> 184\u001b[0m \u001b[38;5;28mself\u001b[39m\u001b[38;5;241m.\u001b[39m_connection \u001b[38;5;241m=\u001b[39m \u001b[38;5;28;43mself\u001b[39;49m\u001b[38;5;241;43m.\u001b[39;49m\u001b[43m_pool\u001b[49m\u001b[38;5;241;43m.\u001b[39;49m\u001b[43macquire\u001b[49m\u001b[43m(\u001b[49m\u001b[38;5;241;43m*\u001b[39;49m\u001b[38;5;241;43m*\u001b[39;49m\u001b[43macquire_kwargs_\u001b[49m\u001b[43m)\u001b[49m\n\u001b[1;32m    185\u001b[0m \u001b[38;5;28mself\u001b[39m\u001b[38;5;241m.\u001b[39m_connection_access_mode \u001b[38;5;241m=\u001b[39m access_mode\n",
      "File \u001b[0;32m~/Documents/2_Projects/GEN_AI/venv/lib/python3.12/site-packages/neo4j/_sync/io/_pool.py:597\u001b[0m, in \u001b[0;36mBoltPool.acquire\u001b[0;34m(self, access_mode, timeout, database, bookmarks, auth, liveness_check_timeout)\u001b[0m\n\u001b[1;32m    596\u001b[0m deadline \u001b[38;5;241m=\u001b[39m Deadline\u001b[38;5;241m.\u001b[39mfrom_timeout_or_deadline(timeout)\n\u001b[0;32m--> 597\u001b[0m \u001b[38;5;28;01mreturn\u001b[39;00m \u001b[38;5;28;43mself\u001b[39;49m\u001b[38;5;241;43m.\u001b[39;49m\u001b[43m_acquire\u001b[49m\u001b[43m(\u001b[49m\n\u001b[1;32m    598\u001b[0m \u001b[43m    \u001b[49m\u001b[38;5;28;43mself\u001b[39;49m\u001b[38;5;241;43m.\u001b[39;49m\u001b[43maddress\u001b[49m\u001b[43m,\u001b[49m\u001b[43m \u001b[49m\u001b[43mauth\u001b[49m\u001b[43m,\u001b[49m\u001b[43m \u001b[49m\u001b[43mdeadline\u001b[49m\u001b[43m,\u001b[49m\u001b[43m \u001b[49m\u001b[43mliveness_check_timeout\u001b[49m\n\u001b[1;32m    599\u001b[0m \u001b[43m\u001b[49m\u001b[43m)\u001b[49m\n",
      "File \u001b[0;32m~/Documents/2_Projects/GEN_AI/venv/lib/python3.12/site-packages/neo4j/_sync/io/_pool.py:347\u001b[0m, in \u001b[0;36mIOPool._acquire\u001b[0;34m(self, address, auth, deadline, liveness_check_timeout)\u001b[0m\n\u001b[1;32m    346\u001b[0m log\u001b[38;5;241m.\u001b[39mdebug(\u001b[38;5;124m\"\u001b[39m\u001b[38;5;124m[#0000]  _: <POOL> trying to hand out new connection\u001b[39m\u001b[38;5;124m\"\u001b[39m)\n\u001b[0;32m--> 347\u001b[0m \u001b[38;5;28;01mreturn\u001b[39;00m \u001b[43mconnection_creator\u001b[49m\u001b[43m(\u001b[49m\u001b[43m)\u001b[49m\n",
      "File \u001b[0;32m~/Documents/2_Projects/GEN_AI/venv/lib/python3.12/site-packages/neo4j/_sync/io/_pool.py:169\u001b[0m, in \u001b[0;36mIOPool._acquire_new_later.<locals>.connection_creator\u001b[0;34m()\u001b[0m\n\u001b[1;32m    168\u001b[0m \u001b[38;5;28;01mtry\u001b[39;00m:\n\u001b[0;32m--> 169\u001b[0m     connection \u001b[38;5;241m=\u001b[39m \u001b[38;5;28;43mself\u001b[39;49m\u001b[38;5;241;43m.\u001b[39;49m\u001b[43mopener\u001b[49m\u001b[43m(\u001b[49m\n\u001b[1;32m    170\u001b[0m \u001b[43m        \u001b[49m\u001b[43maddress\u001b[49m\u001b[43m,\u001b[49m\u001b[43m \u001b[49m\u001b[43mauth\u001b[49m\u001b[43m \u001b[49m\u001b[38;5;129;43;01mor\u001b[39;49;00m\u001b[43m \u001b[49m\u001b[38;5;28;43mself\u001b[39;49m\u001b[38;5;241;43m.\u001b[39;49m\u001b[43mpool_config\u001b[49m\u001b[38;5;241;43m.\u001b[39;49m\u001b[43mauth\u001b[49m\u001b[43m,\u001b[49m\u001b[43m \u001b[49m\u001b[43mdeadline\u001b[49m\n\u001b[1;32m    171\u001b[0m \u001b[43m    \u001b[49m\u001b[43m)\u001b[49m\n\u001b[1;32m    172\u001b[0m \u001b[38;5;28;01mexcept\u001b[39;00m ServiceUnavailable:\n",
      "File \u001b[0;32m~/Documents/2_Projects/GEN_AI/venv/lib/python3.12/site-packages/neo4j/_sync/io/_pool.py:560\u001b[0m, in \u001b[0;36mBoltPool.open.<locals>.opener\u001b[0;34m(addr, auth_manager, deadline)\u001b[0m\n\u001b[1;32m    559\u001b[0m \u001b[38;5;28;01mdef\u001b[39;00m \u001b[38;5;21mopener\u001b[39m(addr, auth_manager, deadline):\n\u001b[0;32m--> 560\u001b[0m     \u001b[38;5;28;01mreturn\u001b[39;00m \u001b[43mBolt\u001b[49m\u001b[38;5;241;43m.\u001b[39;49m\u001b[43mopen\u001b[49m\u001b[43m(\u001b[49m\n\u001b[1;32m    561\u001b[0m \u001b[43m        \u001b[49m\u001b[43maddr\u001b[49m\u001b[43m,\u001b[49m\n\u001b[1;32m    562\u001b[0m \u001b[43m        \u001b[49m\u001b[43mauth_manager\u001b[49m\u001b[38;5;241;43m=\u001b[39;49m\u001b[43mauth_manager\u001b[49m\u001b[43m,\u001b[49m\n\u001b[1;32m    563\u001b[0m \u001b[43m        \u001b[49m\u001b[43mdeadline\u001b[49m\u001b[38;5;241;43m=\u001b[39;49m\u001b[43mdeadline\u001b[49m\u001b[43m,\u001b[49m\n\u001b[1;32m    564\u001b[0m \u001b[43m        \u001b[49m\u001b[43mrouting_context\u001b[49m\u001b[38;5;241;43m=\u001b[39;49m\u001b[38;5;28;43;01mNone\u001b[39;49;00m\u001b[43m,\u001b[49m\n\u001b[1;32m    565\u001b[0m \u001b[43m        \u001b[49m\u001b[43mpool_config\u001b[49m\u001b[38;5;241;43m=\u001b[39;49m\u001b[43mpool_config\u001b[49m\u001b[43m,\u001b[49m\n\u001b[1;32m    566\u001b[0m \u001b[43m    \u001b[49m\u001b[43m)\u001b[49m\n",
      "File \u001b[0;32m~/Documents/2_Projects/GEN_AI/venv/lib/python3.12/site-packages/neo4j/_sync/io/_bolt.py:560\u001b[0m, in \u001b[0;36mBolt.open\u001b[0;34m(cls, address, auth_manager, deadline, routing_context, pool_config)\u001b[0m\n\u001b[1;32m    559\u001b[0m \u001b[38;5;28;01mtry\u001b[39;00m:\n\u001b[0;32m--> 560\u001b[0m     \u001b[43mconnection\u001b[49m\u001b[38;5;241;43m.\u001b[39;49m\u001b[43mhello\u001b[49m\u001b[43m(\u001b[49m\u001b[43m)\u001b[49m\n\u001b[1;32m    561\u001b[0m \u001b[38;5;28;01mfinally\u001b[39;00m:\n",
      "File \u001b[0;32m~/Documents/2_Projects/GEN_AI/venv/lib/python3.12/site-packages/neo4j/_sync/io/_bolt5.py:736\u001b[0m, in \u001b[0;36mBolt5x2.hello\u001b[0;34m(self, dehydration_hooks, hydration_hooks)\u001b[0m\n\u001b[1;32m    735\u001b[0m \u001b[38;5;28mself\u001b[39m\u001b[38;5;241m.\u001b[39msend_all()\n\u001b[0;32m--> 736\u001b[0m \u001b[38;5;28;43mself\u001b[39;49m\u001b[38;5;241;43m.\u001b[39;49m\u001b[43mfetch_all\u001b[49m\u001b[43m(\u001b[49m\u001b[43m)\u001b[49m\n\u001b[1;32m    737\u001b[0m check_supported_server_product(\u001b[38;5;28mself\u001b[39m\u001b[38;5;241m.\u001b[39mserver_info\u001b[38;5;241m.\u001b[39magent)\n",
      "File \u001b[0;32m~/Documents/2_Projects/GEN_AI/venv/lib/python3.12/site-packages/neo4j/_sync/io/_bolt.py:1009\u001b[0m, in \u001b[0;36mBolt.fetch_all\u001b[0;34m(self)\u001b[0m\n\u001b[1;32m   1008\u001b[0m \u001b[38;5;28;01mwhile\u001b[39;00m \u001b[38;5;129;01mnot\u001b[39;00m response\u001b[38;5;241m.\u001b[39mcomplete:\n\u001b[0;32m-> 1009\u001b[0m     detail_delta, summary_delta \u001b[38;5;241m=\u001b[39m \u001b[38;5;28;43mself\u001b[39;49m\u001b[38;5;241;43m.\u001b[39;49m\u001b[43mfetch_message\u001b[49m\u001b[43m(\u001b[49m\u001b[43m)\u001b[49m\n\u001b[1;32m   1010\u001b[0m     detail_count \u001b[38;5;241m+\u001b[39m\u001b[38;5;241m=\u001b[39m detail_delta\n",
      "File \u001b[0;32m~/Documents/2_Projects/GEN_AI/venv/lib/python3.12/site-packages/neo4j/_sync/io/_bolt.py:994\u001b[0m, in \u001b[0;36mBolt.fetch_message\u001b[0;34m(self)\u001b[0m\n\u001b[1;32m    991\u001b[0m tag, fields \u001b[38;5;241m=\u001b[39m \u001b[38;5;28mself\u001b[39m\u001b[38;5;241m.\u001b[39minbox\u001b[38;5;241m.\u001b[39mpop(\n\u001b[1;32m    992\u001b[0m     hydration_hooks\u001b[38;5;241m=\u001b[39m\u001b[38;5;28mself\u001b[39m\u001b[38;5;241m.\u001b[39mresponses[\u001b[38;5;241m0\u001b[39m]\u001b[38;5;241m.\u001b[39mhydration_hooks\n\u001b[1;32m    993\u001b[0m )\n\u001b[0;32m--> 994\u001b[0m res \u001b[38;5;241m=\u001b[39m \u001b[38;5;28;43mself\u001b[39;49m\u001b[38;5;241;43m.\u001b[39;49m\u001b[43m_process_message\u001b[49m\u001b[43m(\u001b[49m\u001b[43mtag\u001b[49m\u001b[43m,\u001b[49m\u001b[43m \u001b[49m\u001b[43mfields\u001b[49m\u001b[43m)\u001b[49m\n\u001b[1;32m    995\u001b[0m \u001b[38;5;28mself\u001b[39m\u001b[38;5;241m.\u001b[39midle_since \u001b[38;5;241m=\u001b[39m monotonic()\n",
      "File \u001b[0;32m~/Documents/2_Projects/GEN_AI/venv/lib/python3.12/site-packages/neo4j/_sync/io/_bolt5.py:1204\u001b[0m, in \u001b[0;36mBolt5x7._process_message\u001b[0;34m(self, tag, fields)\u001b[0m\n\u001b[1;32m   1203\u001b[0m \u001b[38;5;28;01mtry\u001b[39;00m:\n\u001b[0;32m-> 1204\u001b[0m     \u001b[43mresponse\u001b[49m\u001b[38;5;241;43m.\u001b[39;49m\u001b[43mon_failure\u001b[49m\u001b[43m(\u001b[49m\u001b[43msummary_metadata\u001b[49m\u001b[43m \u001b[49m\u001b[38;5;129;43;01mor\u001b[39;49;00m\u001b[43m \u001b[49m\u001b[43m{\u001b[49m\u001b[43m}\u001b[49m\u001b[43m)\u001b[49m\n\u001b[1;32m   1205\u001b[0m \u001b[38;5;28;01mexcept\u001b[39;00m (ServiceUnavailable, DatabaseUnavailable):\n",
      "File \u001b[0;32m~/Documents/2_Projects/GEN_AI/venv/lib/python3.12/site-packages/neo4j/_sync/io/_common.py:295\u001b[0m, in \u001b[0;36mLogonResponse.on_failure\u001b[0;34m(self, metadata)\u001b[0m\n\u001b[1;32m    294\u001b[0m Util\u001b[38;5;241m.\u001b[39mcallback(handler)\n\u001b[0;32m--> 295\u001b[0m \u001b[38;5;28;01mraise\u001b[39;00m \u001b[38;5;28mself\u001b[39m\u001b[38;5;241m.\u001b[39m_hydrate_error(metadata)\n",
      "\u001b[0;31mAuthError\u001b[0m: {code: Neo.ClientError.Security.Unauthorized} {message: The client is unauthorized due to authentication failure.}",
      "\nDuring handling of the above exception, another exception occurred:\n",
      "\u001b[0;31mValueError\u001b[0m                                Traceback (most recent call last)",
      "Cell \u001b[0;32mIn[176], line 1\u001b[0m\n\u001b[0;32m----> 1\u001b[0m example_selector \u001b[38;5;241m=\u001b[39m \u001b[43mSemanticSimilarityExampleSelector\u001b[49m\u001b[38;5;241;43m.\u001b[39;49m\u001b[43mfrom_examples\u001b[49m\u001b[43m(\u001b[49m\n\u001b[1;32m      2\u001b[0m \u001b[43m    \u001b[49m\u001b[43mexamples\u001b[49m\u001b[43m,\u001b[49m\u001b[43m \u001b[49m\u001b[43mOpenAIEmbeddings\u001b[49m\u001b[43m(\u001b[49m\u001b[43m)\u001b[49m\u001b[43m,\u001b[49m\u001b[43m \u001b[49m\u001b[43mNeo4jVector\u001b[49m\u001b[43m,\u001b[49m\u001b[43m \u001b[49m\u001b[43mk\u001b[49m\u001b[38;5;241;43m=\u001b[39;49m\u001b[38;5;241;43m2\u001b[39;49m\u001b[43m,\u001b[49m\u001b[43m \u001b[49m\u001b[43minput_keys\u001b[49m\u001b[38;5;241;43m=\u001b[39;49m\u001b[43m[\u001b[49m\u001b[38;5;124;43m\"\u001b[39;49m\u001b[38;5;124;43mquestion\u001b[39;49m\u001b[38;5;124;43m\"\u001b[39;49m\u001b[43m]\u001b[49m\n\u001b[1;32m      3\u001b[0m \u001b[43m)\u001b[49m\n",
      "File \u001b[0;32m~/Documents/2_Projects/GEN_AI/venv/lib/python3.12/site-packages/langchain_core/example_selectors/semantic_similarity.py:172\u001b[0m, in \u001b[0;36mSemanticSimilarityExampleSelector.from_examples\u001b[0;34m(cls, examples, embeddings, vectorstore_cls, k, input_keys, example_keys, vectorstore_kwargs, **vectorstore_cls_kwargs)\u001b[0m\n\u001b[1;32m    152\u001b[0m \u001b[38;5;250m\u001b[39m\u001b[38;5;124;03m\"\"\"Create k-shot example selector using example list and embeddings.\u001b[39;00m\n\u001b[1;32m    153\u001b[0m \n\u001b[1;32m    154\u001b[0m \u001b[38;5;124;03mReshuffles examples dynamically based on query similarity.\u001b[39;00m\n\u001b[0;32m   (...)\u001b[0m\n\u001b[1;32m    169\u001b[0m \u001b[38;5;124;03m    The ExampleSelector instantiated, backed by a vector store.\u001b[39;00m\n\u001b[1;32m    170\u001b[0m \u001b[38;5;124;03m\"\"\"\u001b[39;00m\n\u001b[1;32m    171\u001b[0m string_examples \u001b[38;5;241m=\u001b[39m [\u001b[38;5;28mcls\u001b[39m\u001b[38;5;241m.\u001b[39m_example_to_text(eg, input_keys) \u001b[38;5;28;01mfor\u001b[39;00m eg \u001b[38;5;129;01min\u001b[39;00m examples]\n\u001b[0;32m--> 172\u001b[0m vectorstore \u001b[38;5;241m=\u001b[39m \u001b[43mvectorstore_cls\u001b[49m\u001b[38;5;241;43m.\u001b[39;49m\u001b[43mfrom_texts\u001b[49m\u001b[43m(\u001b[49m\n\u001b[1;32m    173\u001b[0m \u001b[43m    \u001b[49m\u001b[43mstring_examples\u001b[49m\u001b[43m,\u001b[49m\u001b[43m \u001b[49m\u001b[43membeddings\u001b[49m\u001b[43m,\u001b[49m\u001b[43m \u001b[49m\u001b[43mmetadatas\u001b[49m\u001b[38;5;241;43m=\u001b[39;49m\u001b[43mexamples\u001b[49m\u001b[43m,\u001b[49m\u001b[43m \u001b[49m\u001b[38;5;241;43m*\u001b[39;49m\u001b[38;5;241;43m*\u001b[39;49m\u001b[43mvectorstore_cls_kwargs\u001b[49m\n\u001b[1;32m    174\u001b[0m \u001b[43m\u001b[49m\u001b[43m)\u001b[49m\n\u001b[1;32m    175\u001b[0m \u001b[38;5;28;01mreturn\u001b[39;00m \u001b[38;5;28mcls\u001b[39m(\n\u001b[1;32m    176\u001b[0m     vectorstore\u001b[38;5;241m=\u001b[39mvectorstore,\n\u001b[1;32m    177\u001b[0m     k\u001b[38;5;241m=\u001b[39mk,\n\u001b[0;32m   (...)\u001b[0m\n\u001b[1;32m    180\u001b[0m     vectorstore_kwargs\u001b[38;5;241m=\u001b[39mvectorstore_kwargs,\n\u001b[1;32m    181\u001b[0m )\n",
      "File \u001b[0;32m~/Documents/2_Projects/GEN_AI/venv/lib/python3.12/site-packages/langchain_neo4j/vectorstores/neo4j_vector.py:1278\u001b[0m, in \u001b[0;36mNeo4jVector.from_texts\u001b[0;34m(cls, texts, embedding, metadatas, distance_strategy, ids, **kwargs)\u001b[0m\n\u001b[1;32m   1271\u001b[0m \u001b[38;5;250m\u001b[39m\u001b[38;5;124;03m\"\"\"\u001b[39;00m\n\u001b[1;32m   1272\u001b[0m \u001b[38;5;124;03mReturn Neo4jVector initialized from texts and embeddings.\u001b[39;00m\n\u001b[1;32m   1273\u001b[0m \u001b[38;5;124;03mNeo4j credentials are required in the form of `url`, `username`,\u001b[39;00m\n\u001b[1;32m   1274\u001b[0m \u001b[38;5;124;03mand `password` and optional `database` parameters.\u001b[39;00m\n\u001b[1;32m   1275\u001b[0m \u001b[38;5;124;03m\"\"\"\u001b[39;00m\n\u001b[1;32m   1276\u001b[0m embeddings \u001b[38;5;241m=\u001b[39m embedding\u001b[38;5;241m.\u001b[39membed_documents(\u001b[38;5;28mlist\u001b[39m(texts))\n\u001b[0;32m-> 1278\u001b[0m \u001b[38;5;28;01mreturn\u001b[39;00m \u001b[38;5;28;43mcls\u001b[39;49m\u001b[38;5;241;43m.\u001b[39;49m\u001b[43m__from\u001b[49m\u001b[43m(\u001b[49m\n\u001b[1;32m   1279\u001b[0m \u001b[43m    \u001b[49m\u001b[43mtexts\u001b[49m\u001b[43m,\u001b[49m\n\u001b[1;32m   1280\u001b[0m \u001b[43m    \u001b[49m\u001b[43membeddings\u001b[49m\u001b[43m,\u001b[49m\n\u001b[1;32m   1281\u001b[0m \u001b[43m    \u001b[49m\u001b[43membedding\u001b[49m\u001b[43m,\u001b[49m\n\u001b[1;32m   1282\u001b[0m \u001b[43m    \u001b[49m\u001b[43mmetadatas\u001b[49m\u001b[38;5;241;43m=\u001b[39;49m\u001b[43mmetadatas\u001b[49m\u001b[43m,\u001b[49m\n\u001b[1;32m   1283\u001b[0m \u001b[43m    \u001b[49m\u001b[43mids\u001b[49m\u001b[38;5;241;43m=\u001b[39;49m\u001b[43mids\u001b[49m\u001b[43m,\u001b[49m\n\u001b[1;32m   1284\u001b[0m \u001b[43m    \u001b[49m\u001b[43mdistance_strategy\u001b[49m\u001b[38;5;241;43m=\u001b[39;49m\u001b[43mdistance_strategy\u001b[49m\u001b[43m,\u001b[49m\n\u001b[1;32m   1285\u001b[0m \u001b[43m    \u001b[49m\u001b[38;5;241;43m*\u001b[39;49m\u001b[38;5;241;43m*\u001b[39;49m\u001b[43mkwargs\u001b[49m\u001b[43m,\u001b[49m\n\u001b[1;32m   1286\u001b[0m \u001b[43m\u001b[49m\u001b[43m)\u001b[49m\n",
      "File \u001b[0;32m~/Documents/2_Projects/GEN_AI/venv/lib/python3.12/site-packages/langchain_neo4j/vectorstores/neo4j_vector.py:851\u001b[0m, in \u001b[0;36mNeo4jVector.__from\u001b[0;34m(cls, texts, embeddings, embedding, metadatas, ids, create_id_index, search_type, **kwargs)\u001b[0m\n\u001b[1;32m    848\u001b[0m \u001b[38;5;28;01mif\u001b[39;00m \u001b[38;5;129;01mnot\u001b[39;00m metadatas:\n\u001b[1;32m    849\u001b[0m     metadatas \u001b[38;5;241m=\u001b[39m [{} \u001b[38;5;28;01mfor\u001b[39;00m _ \u001b[38;5;129;01min\u001b[39;00m texts]\n\u001b[0;32m--> 851\u001b[0m store \u001b[38;5;241m=\u001b[39m \u001b[38;5;28;43mcls\u001b[39;49m\u001b[43m(\u001b[49m\n\u001b[1;32m    852\u001b[0m \u001b[43m    \u001b[49m\u001b[43membedding\u001b[49m\u001b[38;5;241;43m=\u001b[39;49m\u001b[43membedding\u001b[49m\u001b[43m,\u001b[49m\n\u001b[1;32m    853\u001b[0m \u001b[43m    \u001b[49m\u001b[43msearch_type\u001b[49m\u001b[38;5;241;43m=\u001b[39;49m\u001b[43msearch_type\u001b[49m\u001b[43m,\u001b[49m\n\u001b[1;32m    854\u001b[0m \u001b[43m    \u001b[49m\u001b[38;5;241;43m*\u001b[39;49m\u001b[38;5;241;43m*\u001b[39;49m\u001b[43mkwargs\u001b[49m\u001b[43m,\u001b[49m\n\u001b[1;32m    855\u001b[0m \u001b[43m\u001b[49m\u001b[43m)\u001b[49m\n\u001b[1;32m    856\u001b[0m \u001b[38;5;66;03m# Check if the vector index already exists\u001b[39;00m\n\u001b[1;32m    857\u001b[0m embedding_dimension, index_type \u001b[38;5;241m=\u001b[39m store\u001b[38;5;241m.\u001b[39mretrieve_existing_index()\n",
      "File \u001b[0;32m~/Documents/2_Projects/GEN_AI/venv/lib/python3.12/site-packages/langchain_neo4j/vectorstores/neo4j_vector.py:562\u001b[0m, in \u001b[0;36mNeo4jVector.__init__\u001b[0;34m(self, embedding, search_type, username, password, url, keyword_index_name, database, index_name, node_label, embedding_node_property, text_node_property, distance_strategy, logger, pre_delete_collection, retrieval_query, relevance_score_fn, index_type, graph)\u001b[0m\n\u001b[1;32m    557\u001b[0m         \u001b[38;5;28;01mraise\u001b[39;00m \u001b[38;5;167;01mValueError\u001b[39;00m(\n\u001b[1;32m    558\u001b[0m             \u001b[38;5;124m\"\u001b[39m\u001b[38;5;124mCould not connect to Neo4j database. \u001b[39m\u001b[38;5;124m\"\u001b[39m\n\u001b[1;32m    559\u001b[0m             \u001b[38;5;124m\"\u001b[39m\u001b[38;5;124mPlease ensure that the url is correct\u001b[39m\u001b[38;5;124m\"\u001b[39m\n\u001b[1;32m    560\u001b[0m         )\n\u001b[1;32m    561\u001b[0m     \u001b[38;5;28;01mexcept\u001b[39;00m neo4j\u001b[38;5;241m.\u001b[39mexceptions\u001b[38;5;241m.\u001b[39mAuthError:\n\u001b[0;32m--> 562\u001b[0m         \u001b[38;5;28;01mraise\u001b[39;00m \u001b[38;5;167;01mValueError\u001b[39;00m(\n\u001b[1;32m    563\u001b[0m             \u001b[38;5;124m\"\u001b[39m\u001b[38;5;124mCould not connect to Neo4j database. \u001b[39m\u001b[38;5;124m\"\u001b[39m\n\u001b[1;32m    564\u001b[0m             \u001b[38;5;124m\"\u001b[39m\u001b[38;5;124mPlease ensure that the username and password are correct\u001b[39m\u001b[38;5;124m\"\u001b[39m\n\u001b[1;32m    565\u001b[0m         )\n\u001b[1;32m    567\u001b[0m \u001b[38;5;28mself\u001b[39m\u001b[38;5;241m.\u001b[39mschema \u001b[38;5;241m=\u001b[39m \u001b[38;5;124m\"\u001b[39m\u001b[38;5;124m\"\u001b[39m\n\u001b[1;32m    568\u001b[0m \u001b[38;5;66;03m# Verify if the version support vector index\u001b[39;00m\n",
      "\u001b[0;31mValueError\u001b[0m: Could not connect to Neo4j database. Please ensure that the username and password are correct"
     ]
    }
   ],
   "source": [
    "example_selector = SemanticSimilarityExampleSelector.from_examples(\n",
    "    examples, OpenAIEmbeddings(), Neo4jVector, k=2, input_keys=[\"question\"]\n",
    ")"
   ]
  },
  {
   "cell_type": "code",
   "execution_count": null,
   "metadata": {},
   "outputs": [],
   "source": [
    "text2cypher_prompt = ChatPromptTemplate.from_messages(\n",
    "    [\n",
    "        (\n",
    "            \"system\",\n",
    "            (\n",
    "                \"Given an input question, convert it to a Cypher query. No pre-amble.\"\n",
    "                \"Do not wrap the response in any backticks or anything else. Respond with a Cypher statement only!\"\n",
    "            ),\n",
    "        ),\n",
    "        (\n",
    "            \"human\",\n",
    "            (\n",
    "                \"\"\"\n",
    "                You are a Neo4j expert. Given an input question, create a syntactically correct Cypher query to run.\n",
    "                Do not wrap the response in any backticks or anything else. Respond with a Cypher statement only!\n",
    "                Here is the schema information\n",
    "                {schema}\n",
    "                Below are a number of examples of questions and their corresponding Cypher queries.\n",
    "                \n",
    "                {fewshot_examples}\n",
    "                \n",
    "                User input:{question}\n",
    "                Cypher query:\n",
    "                \"\"\"\n",
    "            ),\n",
    "        ),\n",
    "    ]\n",
    ")\n",
    "\n",
    "text2cypher_chain=text2cypher_prompt | llm | StrOutputParser()\n",
    "\n",
    "def generate_cypher(state:OverallState) -> OverallState:\n",
    "    NL= \"\\n\"\n",
    "    fewshot_examples=(NL*2).join(\n",
    "        [\n",
    "            f\"Question: {el['question']}{NL}Cypher:{el['query']}\"\n",
    "            for el in example_selector.select_examples(\n",
    "                {\"question\":state.get(\"question\")}\n",
    "            )\n",
    "        ]\n",
    "    )\n",
    "    \n",
    "    generated_cypher=text2cypher_chain.invoke(\n",
    "        {\n",
    "            \"question\":state.get(\"question\"),\n",
    "            \"fewshot_examples\":fewshot_examples,\n",
    "            \"schema\":enhanced_graph.schema,\n",
    "        }\n",
    "    )\n",
    "    return {\"cypher_statement\": generated_cypher, \"steps\":[\"generate_cypher\"]}"
   ]
  },
  {
   "cell_type": "code",
   "execution_count": null,
   "metadata": {},
   "outputs": [],
   "source": [
    "validate_cypher_system= \"\"\"\n",
    "You are a Cypher expert reviewing a statement written by a developer working with a stock market graph. \n",
    "The graph contains nodes labeled as `Stock` and `Sector`, and relationships like `BELONGS_TO` and `CORRELATED`. \n",
    "You must ensure that the Cypher query conforms to the graph schema, with correct labels and properties.\n",
    "\n",
    "The schema includes:\n",
    "- Node labels: `Stock`, `Sector`\n",
    "- Relationship types: `BELONGS_TO`, `CORRELATED`\n",
    "- Node properties:\n",
    "    - Stock: `name`, `eigenvectorCentrality`, `betweennessCentrality`, `degreeCentrality`, `symbol`, `sector`, `louvainCommunityId`\n",
    "    - Sector: `name`\n",
    "- Relationship properties:\n",
    "    - CORRELATED: `correlation`\n",
    "\n",
    "Check the following:\n",
    "* Are there any syntax errors in the Cypher statement?\n",
    "* Are there any missing node labels or relationship types from the schema?\n",
    "* Are any properties missing or incorrectly referenced in the schema?\n",
    "* Does the Cypher statement include enough information to answer the question?\n",
    "\n",
    "Examples of good errors:\n",
    "* Label (:Stock) does not exist, did you mean (:Sector)?\n",
    "* Property eigenvectorCentrality does not exist for label Stock, did you mean marketCap?\n",
    "* Relationship CORRELATED does not exist, did you mean BELONGS_TO?\n",
    "\n",
    "Schema:\n",
    "{schema}\n",
    "\n",
    "The question is:\n",
    "{question}\n",
    "\n",
    "The Cypher statement is:\n",
    "{cypher}\n",
    "\n",
    "Make sure you don't make any mistakes!\n",
    "\"\"\"\n",
    "\n",
    "validate_cypher_prompt=ChatPromptTemplate.from_messages(\n",
    "    [\n",
    "        (\"system\", validate_cypher_system),\n",
    "        (\"human\",validate_cypher_user),\n",
    "    ]\n",
    ")\n",
    "\n",
    "class Property(BaseModel):\n",
    "    node_label:str=Field(\n",
    "        description=\"The label of the node to which this property belongs.\"\n",
    "    )\n",
    "    property_key: str=Field(description=\"The key of the property being filtered.\")\n",
    "    property_value: str=Field(\n",
    "        description=\"The value that the property is being matched against.\"\n",
    "    )\n",
    "\n",
    "class ValidateCypherOutput(BaseModel):\n",
    "    errors: Optional[List[str]]=Field(\n",
    "        description=\"A list of syntax or semantical errors in the Cypher statement. Always explain the discrepancy between schema and Cypher statement\"\n",
    "    )\n",
    "    filters: Optional[List[Property]]=Field(\n",
    "        description=\"A list of property-based filters applied in the Cypher statement.\"\n",
    "    )\n",
    "\n",
    "validate_cypher_chain=validate_cypher_prompt | llm.with_structured_output(\n",
    "    ValidateCypherOutput\n",
    ")"
   ]
  },
  {
   "cell_type": "code",
   "execution_count": null,
   "metadata": {},
   "outputs": [],
   "source": [
    "corrector_schema=[\n",
    "    Schema(el[\"start\"], el[\"type\"], el[\"end\"])\n",
    "    for el in enhanced_graph.structured_schema.get(\"relationships\")\n",
    "]\n",
    "\n",
    "cypher_query_corrector=CypherQueryCorrector(corrector_schema)"
   ]
  },
  {
   "cell_type": "code",
   "execution_count": null,
   "metadata": {},
   "outputs": [],
   "source": [
    "def validate_cypher(state:OverallState) -> OverallState:\n",
    "    \"\"\"\n",
    "    Validates the Cypher statement and maps any property values to the database.\n",
    "    \"\"\"\n",
    "    errors=[]\n",
    "    mapping_errors=[]\n",
    "    try:\n",
    "        enhanced_graph.query(f\"EXPLAIN {state.get('cypher_statement')}\")\n",
    "    except CypherSyntaxError as e:\n",
    "        errors.append(e.message)\n",
    "    \n",
    "    corrected_cypher=cypher_query_corrector(state.get(\"cypher_statement\"))\n",
    "    if not corrected_cypher:\n",
    "        errors.append(\"The generated Cypher statement doesn't fit te stock graph schema\")\n",
    "    if corrected_cypher != state.get(\"cypher_statement\"):\n",
    "        print(\"Relationship direction was corrected\")\n",
    "        \n",
    "    llm_output = validate_cypher_chain.invoke(\n",
    "        {\n",
    "            \"question\":state.get(\"question\"),\n",
    "            \"schema\":enhanced_graph.schema,\n",
    "            \"cypher\":state.get(\"cypher_statement\"),\n",
    "        }\n",
    "    )\n",
    "    \n",
    "    if llm_output.errors:\n",
    "        errors.extend(llm_output.errors)\n",
    "        \n",
    "    if llm_output.filters:\n",
    "        for filter in llm_output.filters:\n",
    "            if not any(\n",
    "                prop[\"property\"] == filter.property_key and prop[\"type\"] ==\"STRING\"\n",
    "                for prop in enhanced_graph.structured_schema[\"node_props\"][filter.node_label]\n",
    "             ):\n",
    "                continue\n",
    "            \n",
    "            mapping= enhanced_graph.query(\n",
    "                f\"MATCH (n:{filter.node_label}) WHERE toLower(n. `{filter.property_key}`)= toLower($value) RETURN 'yes' LIMIT 1\",\n",
    "                {\"value\":filter.property_value},\n",
    "            )\n",
    "            if not mapping:\n",
    "                print(\n",
    "                    f\"Missing value mapping for {filter.node_label} on property {filter.property_key} with value {filter.property_value}\"\n",
    "                )\n",
    "                mapping_errors.append(\n",
    "                    f\"Missing value mapping for {filter.node_label} on property {filter.property_key} with value {filter.property_value}\"\n",
    "                )\n",
    "    \n",
    "    if mapping_errors:\n",
    "        next_action=\"end\"\n",
    "    elif errors:\n",
    "        next_action=\"correct_cypher\"\n",
    "    else:\n",
    "        next_action=\"execute_cypher\"\n",
    "    return {\n",
    "        \"next_action\":next_action,\n",
    "        \"cypher_statement\":corrected_cypher,\n",
    "        \"cypher_error\":errors,\n",
    "        \"steps\":[\"validate_cypher\"],\n",
    "    }"
   ]
  },
  {
   "cell_type": "code",
   "execution_count": 147,
   "metadata": {},
   "outputs": [],
   "source": [
    "correct_cypher_prompt=ChatPromptTemplate.from_messages(\n",
    "    [\n",
    "        (\n",
    "            \"system\",\n",
    "            (\n",
    "                \"You are a Cypher expert reviewing a statement written by a junior developer.\"\n",
    "                \"You need to correct the Cypher statement based on the provided errors. No pre-amble.\"\n",
    "                \"Do not wrap the response in any backticks or anything else. Respond with a Cypher statement only!\"\n",
    "            ),\n",
    "        ),\n",
    "        (\n",
    "            \"human\",\n",
    "            (\n",
    "                \"\"\"\n",
    "                Check for invalid syntax or semantics and return a corrected Cypher statement.\n",
    "                Scheme:\n",
    "                {schema}\n",
    "                Note: Do not include any explanations or apologies in your responses.\n",
    "                Do not wrap the response in any backticks or anything else.\n",
    "                Respond with a Cypher statement only!\n",
    "                \n",
    "                Do not respond to any questions that might ask anything else than for you to construct a Cypher statement.\n",
    "                The question is:\n",
    "                {question}\n",
    "                The cypher statement is:\n",
    "                {cypher}\n",
    "                The errors are:\n",
    "                {errors}\n",
    "                \n",
    "                Corrected Cypher statement:\n",
    "                \"\"\"\n",
    "            ),\n",
    "        ),\n",
    "    ]\n",
    ")\n",
    "\n",
    "correct_cypher_chain=correct_cypher_prompt | llm | StrOutputParser()\n",
    "\n",
    "def correct_cypher(state:OcerallState) -> OverallState:\n",
    "    \"\"\"\n",
    "    Correct the Cypher statement based on the provided errors.\n",
    "    \"\"\"\n",
    "    corrected_cypher=correct_cypher_chain.invoke(\n",
    "        {\n",
    "            \"question\":state.get(\"question\"),\n",
    "            \"errors\":state.get(\"cypher_errors\"),\n",
    "            \"cypher\":state.get(\"cypher_statement\"),\n",
    "            \"schema\":enhanced_graph.schema,\n",
    "        }\n",
    "    )\n",
    "    return {\n",
    "        \"next_action\":\"validate_cypher\",\n",
    "        \"cypher_statement\": corrected_cypher,\n",
    "        \"steps\":[\"correct_cypher\"],\n",
    "    }"
   ]
  },
  {
   "cell_type": "code",
   "execution_count": null,
   "metadata": {},
   "outputs": [],
   "source": [
    "no_results=\"I couldn't find any relevant information in the database\"\n",
    "\n",
    "def execute_cypher(state:OverallState) -> OverallState:\n",
    "    \"\"\"\"\n",
    "    Executes the given Cypher statement.\n",
    "    \"\"\"\n",
    "    records = enhanced_graph.query(state.get(\"cypher_statement\"))\n",
    "    \n",
    "    return {\n",
    "        \"database_records\":records if records else no_results,\n",
    "        \"next_action\":\"end\",\n",
    "        \"steps\":[\"execute_cypher\"],\n",
    "    }"
   ]
  },
  {
   "cell_type": "code",
   "execution_count": null,
   "metadata": {},
   "outputs": [],
   "source": [
    "generate_final_prompt=ChatPromptTemplate.from_messages(\n",
    "    [\n",
    "        (\n",
    "            \"system\",\n",
    "            \"You are a helpful assistant for a stock market database.\",\n",
    "        ),\n",
    "        (\n",
    "            \"human\",\n",
    "            (\n",
    "                \"\"\"\n",
    "                Use the following results retrieved from a stock market database to provide a succinct,\n",
    "                definitive answer to the user's question.\n",
    "                \n",
    "                Respond as if you are answering the question directly.\n",
    "                Results: {results}\n",
    "                Question:{question}\n",
    "                \"\"\"\n",
    "            ),\n",
    "        ),\n",
    "    ]\n",
    ")\n",
    "\n",
    "generate_final_chain=generate_final_prompt | llm | StrOutputParser()\n",
    "\n",
    "def generate_final_answer(state:OverallState) -> OutputState:\n",
    "    \"\"\"\"\n",
    "    Generate the final answer based on database results and the user's question.\n",
    "    \"\"\"\n",
    "    final_answer = generate_final_chain.invoke(\n",
    "        {\"question\":state.get(\"question\"), \"results\":state.get(\"database_records\")}\n",
    "    )\n",
    "    return {\"answer\":final_answer, \"steps\":[\"generate_final_answer\"]}"
   ]
  },
  {
   "cell_type": "code",
   "execution_count": null,
   "metadata": {},
   "outputs": [],
   "source": [
    "def guardrails_condition(\n",
    "    state: OverallState,\n",
    ") -> Literal[\"generate_cypher\",\"generate_final_answer\"]:\n",
    "    if state.get(\"next_action\") == \"end\":\n",
    "        return \"generate_final_answer\"\n",
    "    elif state.get(\"next_action\") ==\"stock_query\":\n",
    "        return \"generate_cypher\"\n",
    "\n",
    "def validate_cypher_condition(\n",
    "    state:OverallState,\n",
    ") -> Literal [\"generate_final_answer\",\"correct_cypher\",\"execute_cypher\"]:\n",
    "    if state.get(\"next_action\") ==\"end\":\n",
    "        return \"generate_final_answer\"\n",
    "    elif state.get(\"next_action\") == \"correct_cypher\":\n",
    "        return \"correct_cypher\"\n",
    "    elif state.get(\"next_action\") == \"execute_cypher\":\n",
    "        return \"execute_cypher\"\n",
    "    \n",
    "    return \"end\""
   ]
  },
  {
   "cell_type": "code",
   "execution_count": null,
   "metadata": {},
   "outputs": [],
   "source": [
    "langgraph=StateGraph(OverallState,input=InputState,output=OutputState)\n",
    "\n",
    "langgraph.add_node(guardrails)\n",
    "langgraph.add_node(generate_cypher)\n",
    "langgraph.add_node(validate_cypher)\n",
    "langgraph.add_node(correct_cypher)\n",
    "langgraph.add_node(execute_cypher)\n",
    "langgraph.add_node(generate_final_answer)\n",
    "\n",
    "langgraph.add_edge(START,\"guardrails\")\n",
    "langgraph.add_conditional_edges(\n",
    "    \"guardrails\",\n",
    "    guardrails_condition,\n",
    ")\n",
    "\n",
    "langgraph.add_edge(\"generate_cypher\",\"validate_cypher\")\n",
    "langgraph.add_conditional_edges(\n",
    "    \"validate_cypher\",\n",
    "    validate_cypher_condition,\n",
    ")\n",
    "\n",
    "langgraph.add_edge(\"execute_cypher\",\"generate_final_answer\")\n",
    "langgraph.add_edge(\"correct_cypher\",\"validate_cypher\")\n",
    "langgraph.add_edge(\"generate_final_answer\",END)\n",
    "\n",
    "langgraph=langgraph.compile()\n",
    "\n",
    "display(Image(langgraph.get_graph().draw_mermaid_png))"
   ]
  },
  {
   "cell_type": "code",
   "execution_count": null,
   "metadata": {},
   "outputs": [],
   "source": [
    "langgraph.invoke({\"question\":\"How many stocks belong to the InformationTechnology sector?\"})"
   ]
  }
 ],
 "metadata": {
  "kernelspec": {
   "display_name": "venv",
   "language": "python",
   "name": "python3"
  },
  "language_info": {
   "codemirror_mode": {
    "name": "ipython",
    "version": 3
   },
   "file_extension": ".py",
   "mimetype": "text/x-python",
   "name": "python",
   "nbconvert_exporter": "python",
   "pygments_lexer": "ipython3",
   "version": "3.12.4"
  }
 },
 "nbformat": 4,
 "nbformat_minor": 2
}

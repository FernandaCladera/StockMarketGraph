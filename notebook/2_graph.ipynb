{
 "cells": [
  {
   "cell_type": "markdown",
   "metadata": {},
   "source": [
    "# Graph Construction and Analysis"
   ]
  },
  {
   "cell_type": "markdown",
   "metadata": {},
   "source": [
    "## 1. Dependencies"
   ]
  },
  {
   "cell_type": "code",
   "execution_count": 4,
   "metadata": {},
   "outputs": [],
   "source": [
    "import pandas as pd\n",
    "import os\n",
    "from graphdatascience import GraphDataScience \n",
    "from graphdatascience import ServerVersion"
   ]
  },
  {
   "cell_type": "markdown",
   "metadata": {},
   "source": [
    "## 2. Connect to NEO4J database"
   ]
  },
  {
   "cell_type": "code",
   "execution_count": 5,
   "metadata": {},
   "outputs": [],
   "source": [
    "uri = \"bolt://localhost:7689\"\n",
    "username = \"neo4j\"          \n",
    "password = \"12345678\"\n",
    "gds = GraphDataScience(uri, auth=(username, password))\n",
    "\n",
    "assert gds.server_version() >= ServerVersion(1,8,0)"
   ]
  },
  {
   "cell_type": "markdown",
   "metadata": {},
   "source": [
    "## 3. Get the dataset"
   ]
  },
  {
   "cell_type": "code",
   "execution_count": 6,
   "metadata": {},
   "outputs": [
    {
     "data": {
      "text/html": [
       "<div>\n",
       "<style scoped>\n",
       "    .dataframe tbody tr th:only-of-type {\n",
       "        vertical-align: middle;\n",
       "    }\n",
       "\n",
       "    .dataframe tbody tr th {\n",
       "        vertical-align: top;\n",
       "    }\n",
       "\n",
       "    .dataframe thead th {\n",
       "        text-align: right;\n",
       "    }\n",
       "</style>\n",
       "<table border=\"1\" class=\"dataframe\">\n",
       "  <thead>\n",
       "    <tr style=\"text-align: right;\">\n",
       "      <th></th>\n",
       "      <th>Symbol</th>\n",
       "      <th>Name</th>\n",
       "      <th>Sector</th>\n",
       "    </tr>\n",
       "  </thead>\n",
       "  <tbody>\n",
       "    <tr>\n",
       "      <th>0</th>\n",
       "      <td>AAPL</td>\n",
       "      <td>Apple Inc.</td>\n",
       "      <td>Information Technology</td>\n",
       "    </tr>\n",
       "    <tr>\n",
       "      <th>1</th>\n",
       "      <td>ABBV</td>\n",
       "      <td>AbbVie</td>\n",
       "      <td>Health Care</td>\n",
       "    </tr>\n",
       "    <tr>\n",
       "      <th>2</th>\n",
       "      <td>ABT</td>\n",
       "      <td>Abbott Laboratories</td>\n",
       "      <td>Health Care</td>\n",
       "    </tr>\n",
       "    <tr>\n",
       "      <th>3</th>\n",
       "      <td>ACN</td>\n",
       "      <td>Accenture</td>\n",
       "      <td>Information Technology</td>\n",
       "    </tr>\n",
       "    <tr>\n",
       "      <th>4</th>\n",
       "      <td>ADBE</td>\n",
       "      <td>Adobe Inc.</td>\n",
       "      <td>Information Technology</td>\n",
       "    </tr>\n",
       "  </tbody>\n",
       "</table>\n",
       "</div>"
      ],
      "text/plain": [
       "  Symbol                 Name                  Sector\n",
       "0   AAPL           Apple Inc.  Information Technology\n",
       "1   ABBV               AbbVie             Health Care\n",
       "2    ABT  Abbott Laboratories             Health Care\n",
       "3    ACN            Accenture  Information Technology\n",
       "4   ADBE           Adobe Inc.  Information Technology"
      ]
     },
     "execution_count": 6,
     "metadata": {},
     "output_type": "execute_result"
    }
   ],
   "source": [
    "stocks=pd.read_csv(\"../data/stocks.csv\")\n",
    "stocks.head(n=5)"
   ]
  },
  {
   "cell_type": "code",
   "execution_count": 7,
   "metadata": {},
   "outputs": [
    {
     "data": {
      "text/html": [
       "<div>\n",
       "<style scoped>\n",
       "    .dataframe tbody tr th:only-of-type {\n",
       "        vertical-align: middle;\n",
       "    }\n",
       "\n",
       "    .dataframe tbody tr th {\n",
       "        vertical-align: top;\n",
       "    }\n",
       "\n",
       "    .dataframe thead th {\n",
       "        text-align: right;\n",
       "    }\n",
       "</style>\n",
       "<table border=\"1\" class=\"dataframe\">\n",
       "  <thead>\n",
       "    <tr style=\"text-align: right;\">\n",
       "      <th></th>\n",
       "      <th>stock_a</th>\n",
       "      <th>stock_b</th>\n",
       "      <th>correlation</th>\n",
       "    </tr>\n",
       "  </thead>\n",
       "  <tbody>\n",
       "    <tr>\n",
       "      <th>0</th>\n",
       "      <td>ABBV</td>\n",
       "      <td>AAPL</td>\n",
       "      <td>0.217205</td>\n",
       "    </tr>\n",
       "    <tr>\n",
       "      <th>1</th>\n",
       "      <td>ABT</td>\n",
       "      <td>AAPL</td>\n",
       "      <td>0.372865</td>\n",
       "    </tr>\n",
       "    <tr>\n",
       "      <th>2</th>\n",
       "      <td>ACN</td>\n",
       "      <td>AAPL</td>\n",
       "      <td>0.513727</td>\n",
       "    </tr>\n",
       "    <tr>\n",
       "      <th>3</th>\n",
       "      <td>ADBE</td>\n",
       "      <td>AAPL</td>\n",
       "      <td>0.592649</td>\n",
       "    </tr>\n",
       "    <tr>\n",
       "      <th>4</th>\n",
       "      <td>AIG</td>\n",
       "      <td>AAPL</td>\n",
       "      <td>0.273366</td>\n",
       "    </tr>\n",
       "  </tbody>\n",
       "</table>\n",
       "</div>"
      ],
      "text/plain": [
       "  stock_a stock_b  correlation\n",
       "0    ABBV    AAPL     0.217205\n",
       "1     ABT    AAPL     0.372865\n",
       "2     ACN    AAPL     0.513727\n",
       "3    ADBE    AAPL     0.592649\n",
       "4     AIG    AAPL     0.273366"
      ]
     },
     "execution_count": 7,
     "metadata": {},
     "output_type": "execute_result"
    }
   ],
   "source": [
    "correlation=pd.read_csv(\"../data/correlation.csv\")\n",
    "correlation.head(n=5)"
   ]
  },
  {
   "cell_type": "code",
   "execution_count": 8,
   "metadata": {},
   "outputs": [
    {
     "data": {
      "text/plain": [
       "count    9900.000000\n",
       "mean        0.353263\n",
       "std         0.121930\n",
       "min         0.072356\n",
       "25%         0.266610\n",
       "50%         0.340762\n",
       "75%         0.427256\n",
       "max         0.858524\n",
       "Name: correlation, dtype: float64"
      ]
     },
     "execution_count": 8,
     "metadata": {},
     "output_type": "execute_result"
    }
   ],
   "source": [
    "correlation[\"correlation\"].describe()"
   ]
  },
  {
   "cell_type": "code",
   "execution_count": 9,
   "metadata": {},
   "outputs": [
    {
     "data": {
      "text/plain": [
       "count    318.000000\n",
       "mean       0.683377\n",
       "std        0.061589\n",
       "min        0.600924\n",
       "25%        0.628964\n",
       "50%        0.673625\n",
       "75%        0.718153\n",
       "max        0.858524\n",
       "Name: correlation, dtype: float64"
      ]
     },
     "execution_count": 9,
     "metadata": {},
     "output_type": "execute_result"
    }
   ],
   "source": [
    "correlation=correlation[correlation[\"correlation\"]>0.6]\n",
    "correlation[\"correlation\"].describe()"
   ]
  },
  {
   "cell_type": "markdown",
   "metadata": {},
   "source": [
    "## 4. Create the Graph"
   ]
  },
  {
   "cell_type": "code",
   "execution_count": 10,
   "metadata": {},
   "outputs": [
    {
     "data": {
      "text/html": [
       "<div>\n",
       "<style scoped>\n",
       "    .dataframe tbody tr th:only-of-type {\n",
       "        vertical-align: middle;\n",
       "    }\n",
       "\n",
       "    .dataframe tbody tr th {\n",
       "        vertical-align: top;\n",
       "    }\n",
       "\n",
       "    .dataframe thead th {\n",
       "        text-align: right;\n",
       "    }\n",
       "</style>\n",
       "<table border=\"1\" class=\"dataframe\">\n",
       "  <thead>\n",
       "    <tr style=\"text-align: right;\">\n",
       "      <th></th>\n",
       "    </tr>\n",
       "  </thead>\n",
       "  <tbody>\n",
       "  </tbody>\n",
       "</table>\n",
       "</div>"
      ],
      "text/plain": [
       "Empty DataFrame\n",
       "Columns: []\n",
       "Index: []"
      ]
     },
     "execution_count": 10,
     "metadata": {},
     "output_type": "execute_result"
    }
   ],
   "source": [
    "gds.run_cypher(\n",
    "    \"\"\"\n",
    "    UNWIND $nodes AS node\n",
    "    MERGE (s:Stock {symbol: node.Symbol})\n",
    "    SET s.name = node.Name, s.sector=node.Sector\n",
    "    MERGE (sector:Sector {name:node.Sector})\n",
    "    MERGE (s)-[:BELONGS_TO] -> (sector)\n",
    "    \"\"\",\n",
    "    params={\"nodes\":stocks.to_dict(\"records\")},\n",
    ")"
   ]
  },
  {
   "cell_type": "code",
   "execution_count": 11,
   "metadata": {},
   "outputs": [
    {
     "data": {
      "text/html": [
       "<div>\n",
       "<style scoped>\n",
       "    .dataframe tbody tr th:only-of-type {\n",
       "        vertical-align: middle;\n",
       "    }\n",
       "\n",
       "    .dataframe tbody tr th {\n",
       "        vertical-align: top;\n",
       "    }\n",
       "\n",
       "    .dataframe thead th {\n",
       "        text-align: right;\n",
       "    }\n",
       "</style>\n",
       "<table border=\"1\" class=\"dataframe\">\n",
       "  <thead>\n",
       "    <tr style=\"text-align: right;\">\n",
       "      <th></th>\n",
       "    </tr>\n",
       "  </thead>\n",
       "  <tbody>\n",
       "  </tbody>\n",
       "</table>\n",
       "</div>"
      ],
      "text/plain": [
       "Empty DataFrame\n",
       "Columns: []\n",
       "Index: []"
      ]
     },
     "execution_count": 11,
     "metadata": {},
     "output_type": "execute_result"
    }
   ],
   "source": [
    "gds.run_cypher(\n",
    "    \"\"\"\n",
    "    UNWIND $correlation AS rel\n",
    "    MATCH (a:Stock {symbol: rel.stock_a})\n",
    "    MATCH (b:Stock {symbol: rel.stock_b})\n",
    "    MERGE (a)-[r:CORRELATED]->(b)\n",
    "    SET r.correlation = toFloat(rel.correlation)\n",
    "    \"\"\",\n",
    "    params={\"correlation\": correlation.to_dict(\"records\")}\n",
    ")"
   ]
  },
  {
   "cell_type": "code",
   "execution_count": 12,
   "metadata": {},
   "outputs": [
    {
     "name": "stdout",
     "output_type": "stream",
     "text": [
      "The projection took 145 ms\n"
     ]
    }
   ],
   "source": [
    "G, result=gds.graph.project(\"stockGraph\",[\"Stock\"],{\"CORRELATED\":{\"properties\":[\"correlation\"]}})\n",
    "print(f\"The projection took {result['projectMillis']} ms\")"
   ]
  },
  {
   "cell_type": "code",
   "execution_count": 13,
   "metadata": {},
   "outputs": [
    {
     "name": "stdout",
     "output_type": "stream",
     "text": [
      "Graph 'stockGraph' node count: 100\n",
      "Graph 'stockGraph' node labels: ['Stock']\n",
      "Graph 'stockGraph' relationship count: 318\n"
     ]
    }
   ],
   "source": [
    "print(f\"Graph '{G.name()}' node count: {G.node_count()}\")\n",
    "print(f\"Graph '{G.name()}' node labels: {G.node_labels()}\")\n",
    "print(f\"Graph '{G.name()}' relationship count: {G.relationship_count()}\")"
   ]
  },
  {
   "cell_type": "markdown",
   "metadata": {},
   "source": [
    "## 5. Centrality Analysis"
   ]
  },
  {
   "cell_type": "markdown",
   "metadata": {},
   "source": [
    "### 5.1. Eingenvector Centrality"
   ]
  },
  {
   "cell_type": "code",
   "execution_count": 14,
   "metadata": {},
   "outputs": [],
   "source": [
    "eigenvector_centrality_result=gds.eigenvector.mutate(G,maxIterations=100,mutateProperty=\"eigenvectorCentrality\")"
   ]
  },
  {
   "cell_type": "code",
   "execution_count": 15,
   "metadata": {},
   "outputs": [
    {
     "data": {
      "text/plain": [
       "Stock    [eigenvectorCentrality]\n",
       "dtype: object"
      ]
     },
     "execution_count": 15,
     "metadata": {},
     "output_type": "execute_result"
    }
   ],
   "source": [
    "G.node_properties()"
   ]
  },
  {
   "cell_type": "code",
   "execution_count": 16,
   "metadata": {},
   "outputs": [
    {
     "name": "stdout",
     "output_type": "stream",
     "text": [
      "The number of iterations taken by Eigenvector Centrality to run is 18.\n"
     ]
    }
   ],
   "source": [
    "if eigenvector_centrality_result.didConverge:\n",
    "    print(\n",
    "        f\"The number of iterations taken by Eigenvector Centrality to run is {eigenvector_centrality_result.ranIterations}.\"\n",
    "    )\n",
    "else:\n",
    "    print(\"Algorithm did not converge\")"
   ]
  },
  {
   "cell_type": "code",
   "execution_count": 17,
   "metadata": {},
   "outputs": [
    {
     "data": {
      "text/plain": [
       "{'Error': 'Unable to create histogram due to range of scores exceeding implementation limits.'}"
      ]
     },
     "execution_count": 17,
     "metadata": {},
     "output_type": "execute_result"
    }
   ],
   "source": [
    "eigenvector_centrality_result.centralityDistribution"
   ]
  },
  {
   "cell_type": "code",
   "execution_count": 18,
   "metadata": {},
   "outputs": [
    {
     "data": {
      "text/plain": [
       "writeMillis                                                         40\n",
       "graphName                                                   stockGraph\n",
       "nodeProperties                                 [eigenvectorCentrality]\n",
       "propertiesWritten                                                  100\n",
       "configuration        {'jobId': '99aa3c45-15ab-4019-ae12-168652c1f7c...\n",
       "Name: 0, dtype: object"
      ]
     },
     "execution_count": 18,
     "metadata": {},
     "output_type": "execute_result"
    }
   ],
   "source": [
    "gds.graph.nodeProperties.write(G,[\"eigenvectorCentrality\"])"
   ]
  },
  {
   "cell_type": "code",
   "execution_count": 19,
   "metadata": {},
   "outputs": [
    {
     "name": "stdout",
     "output_type": "stream",
     "text": [
      "  symbol                          name      sector  eigenvectorCentrality\n",
      "0    JPM                JPMorgan Chase  Financials               0.283733\n",
      "1    MET                       MetLife  Financials               0.282753\n",
      "2     BK                    BNY Mellon  Financials               0.276688\n",
      "3     MS                Morgan Stanley  Financials               0.276688\n",
      "4    BAC               Bank of America  Financials               0.276688\n",
      "5  BRK-B  Berkshire Hathaway (Class B)  Financials               0.276411\n",
      "6    USB                  U.S. Bancorp  Financials               0.267151\n",
      "7    WFC                   Wells Fargo  Financials               0.267151\n",
      "8     GS                 Goldman Sachs  Financials               0.265567\n",
      "9    AXP              American Express  Financials               0.263075\n"
     ]
    }
   ],
   "source": [
    "def top_10_stocks(centrality_measure):\n",
    "    query=f\"\"\"\n",
    "    MATCH (s:Stock)\n",
    "    RETURN s.symbol AS symbol, s.name AS name, s.sector AS sector, s.{centrality_measure} AS {centrality_measure}\n",
    "    ORDER BY s.{centrality_measure} DESC\n",
    "    LIMIT 10\n",
    "    \"\"\"\n",
    "    result=gds.run_cypher(query)\n",
    "    print(result)\n",
    "    \n",
    "top_10_stocks(\"eigenvectorCentrality\")"
   ]
  },
  {
   "cell_type": "markdown",
   "metadata": {},
   "source": [
    "### 5.2. Betweeness Centrality"
   ]
  },
  {
   "cell_type": "code",
   "execution_count": 20,
   "metadata": {},
   "outputs": [],
   "source": [
    "betweennes_centrality_result=gds.betweenness.mutate(G,mutateProperty=\"betweennessCentrality\")"
   ]
  },
  {
   "cell_type": "code",
   "execution_count": 21,
   "metadata": {},
   "outputs": [
    {
     "data": {
      "text/plain": [
       "Stock    [betweennessCentrality, eigenvectorCentrality]\n",
       "dtype: object"
      ]
     },
     "execution_count": 21,
     "metadata": {},
     "output_type": "execute_result"
    }
   ],
   "source": [
    "G.node_properties()"
   ]
  },
  {
   "cell_type": "code",
   "execution_count": 22,
   "metadata": {},
   "outputs": [
    {
     "data": {
      "text/plain": [
       "{'min': 0.0,\n",
       " 'max': 111.38134765624999,\n",
       " 'p90': 12.547660827636719,\n",
       " 'p999': 111.38134002685547,\n",
       " 'p99': 91.00048065185547,\n",
       " 'p50': 0.0,\n",
       " 'p75': 0.0,\n",
       " 'p95': 36.00023651123047,\n",
       " 'mean': 5.600013809204102}"
      ]
     },
     "execution_count": 22,
     "metadata": {},
     "output_type": "execute_result"
    }
   ],
   "source": [
    "betweennes_centrality_result.centralityDistribution"
   ]
  },
  {
   "cell_type": "code",
   "execution_count": 23,
   "metadata": {},
   "outputs": [
    {
     "data": {
      "text/plain": [
       "writeMillis                                                         33\n",
       "graphName                                                   stockGraph\n",
       "nodeProperties                                 [betweennessCentrality]\n",
       "propertiesWritten                                                  100\n",
       "configuration        {'jobId': '0635fe79-2651-41aa-b941-049edf07067...\n",
       "Name: 0, dtype: object"
      ]
     },
     "execution_count": 23,
     "metadata": {},
     "output_type": "execute_result"
    }
   ],
   "source": [
    "gds.graph.nodeProperties.write(G,[\"betweennessCentrality\"])"
   ]
  },
  {
   "cell_type": "code",
   "execution_count": 24,
   "metadata": {},
   "outputs": [
    {
     "name": "stdout",
     "output_type": "stream",
     "text": [
      "  symbol                          name                  sector  \\\n",
      "0    MET                       MetLife              Financials   \n",
      "1   NVDA                        Nvidia  Information Technology   \n",
      "2   MSFT                     Microsoft  Information Technology   \n",
      "3    CAT              Caterpillar Inc.             Industrials   \n",
      "4    HON                     Honeywell             Industrials   \n",
      "5   QCOM                      Qualcomm  Information Technology   \n",
      "6  BRK-B  Berkshire Hathaway (Class B)              Financials   \n",
      "7   ADBE                    Adobe Inc.  Information Technology   \n",
      "8   INTU                        Intuit  Information Technology   \n",
      "9    EMR              Emerson Electric             Industrials   \n",
      "\n",
      "   betweennessCentrality  \n",
      "0             111.380952  \n",
      "1              91.000000  \n",
      "2              67.000000  \n",
      "3              38.000000  \n",
      "4              38.000000  \n",
      "5              36.000000  \n",
      "6              34.000000  \n",
      "7              33.000000  \n",
      "8              26.666667  \n",
      "9              19.166667  \n"
     ]
    }
   ],
   "source": [
    "top_10_stocks(\"betweennessCentrality\")"
   ]
  },
  {
   "cell_type": "markdown",
   "metadata": {},
   "source": [
    "### 5.3. Degree Centrality"
   ]
  },
  {
   "cell_type": "code",
   "execution_count": 25,
   "metadata": {},
   "outputs": [],
   "source": [
    "degree_centrality_result=gds.degree.mutate(G,mutateProperty=\"degreeCentrality\")"
   ]
  },
  {
   "cell_type": "code",
   "execution_count": 26,
   "metadata": {},
   "outputs": [
    {
     "data": {
      "text/plain": [
       "Stock    [betweennessCentrality, eigenvectorCentrality,...\n",
       "dtype: object"
      ]
     },
     "execution_count": 26,
     "metadata": {},
     "output_type": "execute_result"
    }
   ],
   "source": [
    "G.node_properties()"
   ]
  },
  {
   "cell_type": "code",
   "execution_count": 27,
   "metadata": {},
   "outputs": [
    {
     "data": {
      "text/plain": [
       "{'min': 0.0,\n",
       " 'max': 17.000122070312496,\n",
       " 'p90': 12.000053405761719,\n",
       " 'p999': 17.00011444091797,\n",
       " 'p99': 15.000053405761719,\n",
       " 'p50': 1.0,\n",
       " 'p75': 4.000022888183594,\n",
       " 'p95': 14.000053405761719,\n",
       " 'mean': 3.1800079345703125}"
      ]
     },
     "execution_count": 27,
     "metadata": {},
     "output_type": "execute_result"
    }
   ],
   "source": [
    "degree_centrality_result.centralityDistribution"
   ]
  },
  {
   "cell_type": "code",
   "execution_count": 28,
   "metadata": {},
   "outputs": [
    {
     "data": {
      "text/plain": [
       "writeMillis                                                         24\n",
       "graphName                                                   stockGraph\n",
       "nodeProperties                                      [degreeCentrality]\n",
       "propertiesWritten                                                  100\n",
       "configuration        {'jobId': 'bcd55787-1969-4b9b-89da-78bedaeb641...\n",
       "Name: 0, dtype: object"
      ]
     },
     "execution_count": 28,
     "metadata": {},
     "output_type": "execute_result"
    }
   ],
   "source": [
    "gds.graph.nodeProperties.write(G,[\"degreeCentrality\"])"
   ]
  },
  {
   "cell_type": "code",
   "execution_count": 29,
   "metadata": {},
   "outputs": [
    {
     "name": "stdout",
     "output_type": "stream",
     "text": [
      "  symbol                          name      sector  degreeCentrality\n",
      "0    MET                       MetLife  Financials              17.0\n",
      "1    JPM                JPMorgan Chase  Financials              15.0\n",
      "2  BRK-B  Berkshire Hathaway (Class B)  Financials              15.0\n",
      "3    BAC               Bank of America  Financials              14.0\n",
      "4     BK                    BNY Mellon  Financials              14.0\n",
      "5     MS                Morgan Stanley  Financials              14.0\n",
      "6     GS                 Goldman Sachs  Financials              13.0\n",
      "7    USB                  U.S. Bancorp  Financials              13.0\n",
      "8    AXP              American Express  Financials              13.0\n",
      "9    WFC                   Wells Fargo  Financials              13.0\n"
     ]
    }
   ],
   "source": [
    "top_10_stocks(\"degreeCentrality\")"
   ]
  },
  {
   "cell_type": "markdown",
   "metadata": {},
   "source": [
    "## 6. Community Detection"
   ]
  },
  {
   "cell_type": "code",
   "execution_count": 30,
   "metadata": {},
   "outputs": [],
   "source": [
    "assert gds.server_version() >= ServerVersion(2, 5, 0)"
   ]
  },
  {
   "cell_type": "markdown",
   "metadata": {},
   "source": [
    "### 6.1. Weakly Connected Components"
   ]
  },
  {
   "cell_type": "code",
   "execution_count": 31,
   "metadata": {},
   "outputs": [],
   "source": [
    "weakly_result=gds.wcc.mutate(G,mutateProperty=\"componentId\")"
   ]
  },
  {
   "cell_type": "code",
   "execution_count": 32,
   "metadata": {},
   "outputs": [
    {
     "data": {
      "text/plain": [
       "Stock    [betweennessCentrality, eigenvectorCentrality,...\n",
       "dtype: object"
      ]
     },
     "execution_count": 32,
     "metadata": {},
     "output_type": "execute_result"
    }
   ],
   "source": [
    "G.node_properties()"
   ]
  },
  {
   "cell_type": "code",
   "execution_count": 33,
   "metadata": {},
   "outputs": [
    {
     "name": "stdout",
     "output_type": "stream",
     "text": [
      "Components found: 48\n"
     ]
    }
   ],
   "source": [
    "print(f\"Components found: {weakly_result['componentCount']}\")"
   ]
  },
  {
   "cell_type": "code",
   "execution_count": 34,
   "metadata": {},
   "outputs": [
    {
     "data": {
      "text/html": [
       "<div>\n",
       "<style scoped>\n",
       "    .dataframe tbody tr th:only-of-type {\n",
       "        vertical-align: middle;\n",
       "    }\n",
       "\n",
       "    .dataframe tbody tr th {\n",
       "        vertical-align: top;\n",
       "    }\n",
       "\n",
       "    .dataframe thead th {\n",
       "        text-align: right;\n",
       "    }\n",
       "</style>\n",
       "<table border=\"1\" class=\"dataframe\">\n",
       "  <thead>\n",
       "    <tr style=\"text-align: right;\">\n",
       "      <th></th>\n",
       "      <th>componentId</th>\n",
       "      <th>componentSize</th>\n",
       "      <th>stocks</th>\n",
       "    </tr>\n",
       "  </thead>\n",
       "  <tbody>\n",
       "    <tr>\n",
       "      <th>0</th>\n",
       "      <td>5</td>\n",
       "      <td>21</td>\n",
       "      <td>[AIG, AXP, BAC, BK, BLK, BRK-B, C, CAT, COF, D...</td>\n",
       "    </tr>\n",
       "    <tr>\n",
       "      <th>1</th>\n",
       "      <td>0</td>\n",
       "      <td>15</td>\n",
       "      <td>[AAPL, ACN, ADBE, AMD, AMZN, AVGO, CRM, GOOGL,...</td>\n",
       "    </tr>\n",
       "    <tr>\n",
       "      <th>2</th>\n",
       "      <td>22</td>\n",
       "      <td>5</td>\n",
       "      <td>[CL, KO, MDLZ, PEP, PG]</td>\n",
       "    </tr>\n",
       "    <tr>\n",
       "      <th>3</th>\n",
       "      <td>25</td>\n",
       "      <td>3</td>\n",
       "      <td>[COP, CVX, XOM]</td>\n",
       "    </tr>\n",
       "    <tr>\n",
       "      <th>4</th>\n",
       "      <td>35</td>\n",
       "      <td>3</td>\n",
       "      <td>[DUK, NEE, SO]</td>\n",
       "    </tr>\n",
       "    <tr>\n",
       "      <th>5</th>\n",
       "      <td>39</td>\n",
       "      <td>3</td>\n",
       "      <td>[GD, LMT, RTX]</td>\n",
       "    </tr>\n",
       "    <tr>\n",
       "      <th>6</th>\n",
       "      <td>21</td>\n",
       "      <td>2</td>\n",
       "      <td>[CHTR, CMCSA]</td>\n",
       "    </tr>\n",
       "    <tr>\n",
       "      <th>7</th>\n",
       "      <td>32</td>\n",
       "      <td>2</td>\n",
       "      <td>[DHR, TMO]</td>\n",
       "    </tr>\n",
       "    <tr>\n",
       "      <th>8</th>\n",
       "      <td>37</td>\n",
       "      <td>2</td>\n",
       "      <td>[F, GM]</td>\n",
       "    </tr>\n",
       "    <tr>\n",
       "      <th>9</th>\n",
       "      <td>38</td>\n",
       "      <td>2</td>\n",
       "      <td>[FDX, UPS]</td>\n",
       "    </tr>\n",
       "    <tr>\n",
       "      <th>10</th>\n",
       "      <td>45</td>\n",
       "      <td>2</td>\n",
       "      <td>[HD, LOW]</td>\n",
       "    </tr>\n",
       "    <tr>\n",
       "      <th>11</th>\n",
       "      <td>58</td>\n",
       "      <td>2</td>\n",
       "      <td>[MA, V]</td>\n",
       "    </tr>\n",
       "    <tr>\n",
       "      <th>12</th>\n",
       "      <td>65</td>\n",
       "      <td>2</td>\n",
       "      <td>[MO, PM]</td>\n",
       "    </tr>\n",
       "    <tr>\n",
       "      <th>13</th>\n",
       "      <td>85</td>\n",
       "      <td>2</td>\n",
       "      <td>[T, VZ]</td>\n",
       "    </tr>\n",
       "    <tr>\n",
       "      <th>14</th>\n",
       "      <td>1</td>\n",
       "      <td>1</td>\n",
       "      <td>[ABBV]</td>\n",
       "    </tr>\n",
       "    <tr>\n",
       "      <th>15</th>\n",
       "      <td>2</td>\n",
       "      <td>1</td>\n",
       "      <td>[ABT]</td>\n",
       "    </tr>\n",
       "    <tr>\n",
       "      <th>16</th>\n",
       "      <td>7</td>\n",
       "      <td>1</td>\n",
       "      <td>[AMGN]</td>\n",
       "    </tr>\n",
       "    <tr>\n",
       "      <th>17</th>\n",
       "      <td>8</td>\n",
       "      <td>1</td>\n",
       "      <td>[AMT]</td>\n",
       "    </tr>\n",
       "    <tr>\n",
       "      <th>18</th>\n",
       "      <td>12</td>\n",
       "      <td>1</td>\n",
       "      <td>[BA]</td>\n",
       "    </tr>\n",
       "    <tr>\n",
       "      <th>19</th>\n",
       "      <td>15</td>\n",
       "      <td>1</td>\n",
       "      <td>[BKNG]</td>\n",
       "    </tr>\n",
       "    <tr>\n",
       "      <th>20</th>\n",
       "      <td>17</td>\n",
       "      <td>1</td>\n",
       "      <td>[BMY]</td>\n",
       "    </tr>\n",
       "    <tr>\n",
       "      <th>21</th>\n",
       "      <td>26</td>\n",
       "      <td>1</td>\n",
       "      <td>[COST]</td>\n",
       "    </tr>\n",
       "    <tr>\n",
       "      <th>22</th>\n",
       "      <td>28</td>\n",
       "      <td>1</td>\n",
       "      <td>[CSCO]</td>\n",
       "    </tr>\n",
       "    <tr>\n",
       "      <th>23</th>\n",
       "      <td>29</td>\n",
       "      <td>1</td>\n",
       "      <td>[CVS]</td>\n",
       "    </tr>\n",
       "    <tr>\n",
       "      <th>24</th>\n",
       "      <td>33</td>\n",
       "      <td>1</td>\n",
       "      <td>[DIS]</td>\n",
       "    </tr>\n",
       "    <tr>\n",
       "      <th>25</th>\n",
       "      <td>40</td>\n",
       "      <td>1</td>\n",
       "      <td>[GE]</td>\n",
       "    </tr>\n",
       "    <tr>\n",
       "      <th>26</th>\n",
       "      <td>41</td>\n",
       "      <td>1</td>\n",
       "      <td>[GILD]</td>\n",
       "    </tr>\n",
       "    <tr>\n",
       "      <th>27</th>\n",
       "      <td>47</td>\n",
       "      <td>1</td>\n",
       "      <td>[IBM]</td>\n",
       "    </tr>\n",
       "    <tr>\n",
       "      <th>28</th>\n",
       "      <td>50</td>\n",
       "      <td>1</td>\n",
       "      <td>[JNJ]</td>\n",
       "    </tr>\n",
       "    <tr>\n",
       "      <th>29</th>\n",
       "      <td>52</td>\n",
       "      <td>1</td>\n",
       "      <td>[KHC]</td>\n",
       "    </tr>\n",
       "    <tr>\n",
       "      <th>30</th>\n",
       "      <td>54</td>\n",
       "      <td>1</td>\n",
       "      <td>[LIN]</td>\n",
       "    </tr>\n",
       "    <tr>\n",
       "      <th>31</th>\n",
       "      <td>55</td>\n",
       "      <td>1</td>\n",
       "      <td>[LLY]</td>\n",
       "    </tr>\n",
       "    <tr>\n",
       "      <th>32</th>\n",
       "      <td>59</td>\n",
       "      <td>1</td>\n",
       "      <td>[MCD]</td>\n",
       "    </tr>\n",
       "    <tr>\n",
       "      <th>33</th>\n",
       "      <td>61</td>\n",
       "      <td>1</td>\n",
       "      <td>[MDT]</td>\n",
       "    </tr>\n",
       "    <tr>\n",
       "      <th>34</th>\n",
       "      <td>66</td>\n",
       "      <td>1</td>\n",
       "      <td>[MRK]</td>\n",
       "    </tr>\n",
       "    <tr>\n",
       "      <th>35</th>\n",
       "      <td>70</td>\n",
       "      <td>1</td>\n",
       "      <td>[NFLX]</td>\n",
       "    </tr>\n",
       "    <tr>\n",
       "      <th>36</th>\n",
       "      <td>71</td>\n",
       "      <td>1</td>\n",
       "      <td>[NKE]</td>\n",
       "    </tr>\n",
       "    <tr>\n",
       "      <th>37</th>\n",
       "      <td>73</td>\n",
       "      <td>1</td>\n",
       "      <td>[ORCL]</td>\n",
       "    </tr>\n",
       "    <tr>\n",
       "      <th>38</th>\n",
       "      <td>75</td>\n",
       "      <td>1</td>\n",
       "      <td>[PFE]</td>\n",
       "    </tr>\n",
       "    <tr>\n",
       "      <th>39</th>\n",
       "      <td>78</td>\n",
       "      <td>1</td>\n",
       "      <td>[PYPL]</td>\n",
       "    </tr>\n",
       "    <tr>\n",
       "      <th>40</th>\n",
       "      <td>81</td>\n",
       "      <td>1</td>\n",
       "      <td>[SBUX]</td>\n",
       "    </tr>\n",
       "    <tr>\n",
       "      <th>41</th>\n",
       "      <td>84</td>\n",
       "      <td>1</td>\n",
       "      <td>[SPG]</td>\n",
       "    </tr>\n",
       "    <tr>\n",
       "      <th>42</th>\n",
       "      <td>86</td>\n",
       "      <td>1</td>\n",
       "      <td>[TGT]</td>\n",
       "    </tr>\n",
       "    <tr>\n",
       "      <th>43</th>\n",
       "      <td>88</td>\n",
       "      <td>1</td>\n",
       "      <td>[TMUS]</td>\n",
       "    </tr>\n",
       "    <tr>\n",
       "      <th>44</th>\n",
       "      <td>89</td>\n",
       "      <td>1</td>\n",
       "      <td>[TSLA]</td>\n",
       "    </tr>\n",
       "    <tr>\n",
       "      <th>45</th>\n",
       "      <td>91</td>\n",
       "      <td>1</td>\n",
       "      <td>[UNH]</td>\n",
       "    </tr>\n",
       "    <tr>\n",
       "      <th>46</th>\n",
       "      <td>92</td>\n",
       "      <td>1</td>\n",
       "      <td>[UNP]</td>\n",
       "    </tr>\n",
       "    <tr>\n",
       "      <th>47</th>\n",
       "      <td>98</td>\n",
       "      <td>1</td>\n",
       "      <td>[WMT]</td>\n",
       "    </tr>\n",
       "  </tbody>\n",
       "</table>\n",
       "</div>"
      ],
      "text/plain": [
       "    componentId  componentSize  \\\n",
       "0             5             21   \n",
       "1             0             15   \n",
       "2            22              5   \n",
       "3            25              3   \n",
       "4            35              3   \n",
       "5            39              3   \n",
       "6            21              2   \n",
       "7            32              2   \n",
       "8            37              2   \n",
       "9            38              2   \n",
       "10           45              2   \n",
       "11           58              2   \n",
       "12           65              2   \n",
       "13           85              2   \n",
       "14            1              1   \n",
       "15            2              1   \n",
       "16            7              1   \n",
       "17            8              1   \n",
       "18           12              1   \n",
       "19           15              1   \n",
       "20           17              1   \n",
       "21           26              1   \n",
       "22           28              1   \n",
       "23           29              1   \n",
       "24           33              1   \n",
       "25           40              1   \n",
       "26           41              1   \n",
       "27           47              1   \n",
       "28           50              1   \n",
       "29           52              1   \n",
       "30           54              1   \n",
       "31           55              1   \n",
       "32           59              1   \n",
       "33           61              1   \n",
       "34           66              1   \n",
       "35           70              1   \n",
       "36           71              1   \n",
       "37           73              1   \n",
       "38           75              1   \n",
       "39           78              1   \n",
       "40           81              1   \n",
       "41           84              1   \n",
       "42           86              1   \n",
       "43           88              1   \n",
       "44           89              1   \n",
       "45           91              1   \n",
       "46           92              1   \n",
       "47           98              1   \n",
       "\n",
       "                                               stocks  \n",
       "0   [AIG, AXP, BAC, BK, BLK, BRK-B, C, CAT, COF, D...  \n",
       "1   [AAPL, ACN, ADBE, AMD, AMZN, AVGO, CRM, GOOGL,...  \n",
       "2                             [CL, KO, MDLZ, PEP, PG]  \n",
       "3                                     [COP, CVX, XOM]  \n",
       "4                                      [DUK, NEE, SO]  \n",
       "5                                      [GD, LMT, RTX]  \n",
       "6                                       [CHTR, CMCSA]  \n",
       "7                                          [DHR, TMO]  \n",
       "8                                             [F, GM]  \n",
       "9                                          [FDX, UPS]  \n",
       "10                                          [HD, LOW]  \n",
       "11                                            [MA, V]  \n",
       "12                                           [MO, PM]  \n",
       "13                                            [T, VZ]  \n",
       "14                                             [ABBV]  \n",
       "15                                              [ABT]  \n",
       "16                                             [AMGN]  \n",
       "17                                              [AMT]  \n",
       "18                                               [BA]  \n",
       "19                                             [BKNG]  \n",
       "20                                              [BMY]  \n",
       "21                                             [COST]  \n",
       "22                                             [CSCO]  \n",
       "23                                              [CVS]  \n",
       "24                                              [DIS]  \n",
       "25                                               [GE]  \n",
       "26                                             [GILD]  \n",
       "27                                              [IBM]  \n",
       "28                                              [JNJ]  \n",
       "29                                              [KHC]  \n",
       "30                                              [LIN]  \n",
       "31                                              [LLY]  \n",
       "32                                              [MCD]  \n",
       "33                                              [MDT]  \n",
       "34                                              [MRK]  \n",
       "35                                             [NFLX]  \n",
       "36                                              [NKE]  \n",
       "37                                             [ORCL]  \n",
       "38                                              [PFE]  \n",
       "39                                             [PYPL]  \n",
       "40                                             [SBUX]  \n",
       "41                                              [SPG]  \n",
       "42                                              [TGT]  \n",
       "43                                             [TMUS]  \n",
       "44                                             [TSLA]  \n",
       "45                                              [UNH]  \n",
       "46                                              [UNP]  \n",
       "47                                              [WMT]  "
      ]
     },
     "execution_count": 34,
     "metadata": {},
     "output_type": "execute_result"
    }
   ],
   "source": [
    "query = \"\"\"\n",
    "    CALL gds.graph.nodeProperties.stream('stockGraph', 'componentId')\n",
    "    YIELD nodeId, propertyValue\n",
    "    WITH gds.util.asNode(nodeId).symbol AS symbol, propertyValue AS componentId\n",
    "    WITH componentId, collect(symbol) AS stocks\n",
    "    WITH componentId, stocks, size(stocks) AS componentSize\n",
    "    RETURN componentId, componentSize, stocks\n",
    "    ORDER BY componentSize DESC\n",
    "\"\"\"\n",
    "components = gds.run_cypher(query)\n",
    "components"
   ]
  },
  {
   "cell_type": "code",
   "execution_count": 35,
   "metadata": {},
   "outputs": [
    {
     "name": "stdout",
     "output_type": "stream",
     "text": [
      "The largest component has id 5 with 21 stocks.\n"
     ]
    }
   ],
   "source": [
    "largest_component = components[\"componentId\"][0]\n",
    "print(f\"The largest component has id {largest_component} with {components['componentSize'][0]} stocks.\")"
   ]
  },
  {
   "cell_type": "code",
   "execution_count": 36,
   "metadata": {},
   "outputs": [],
   "source": [
    "largest_component_graph, _ = gds.graph.filter(\n",
    "    \"largest_connected_component\",\n",
    "    G,\n",
    "    f\"n.componentId={largest_component}\",\n",
    "    \"*\"\n",
    ")"
   ]
  },
  {
   "cell_type": "code",
   "execution_count": 37,
   "metadata": {},
   "outputs": [
    {
     "data": {
      "text/plain": [
       "Graph({'graphName': 'largest_connected_component', 'nodeCount': 21, 'relationshipCount': 210, 'database': 'neo4j', 'configuration': {'relationshipProperties': {}, 'jobId': 'a98a9e3b-3342-4524-8715-48dc1e0d3239', 'validateRelationships': False, 'nodeFilter': 'n.componentId=5', 'sudo': False, 'relationshipProjection': {'CORRELATED': {'aggregation': 'DEFAULT', 'orientation': 'NATURAL', 'indexInverse': False, 'properties': {'correlation': {'aggregation': 'DEFAULT', 'property': 'correlation', 'defaultValue': None}}, 'type': 'CORRELATED'}}, 'readConcurrency': 4, 'nodeProperties': {}, 'nodeProjection': {'Stock': {'label': 'Stock', 'properties': {}}}, 'logProgress': True, 'concurrency': 4, 'relationshipFilter': '*', 'parameters': {}}, 'schema': {'graphProperties': {}, 'nodes': {'Stock': {'betweennessCentrality': 'Float (DefaultValue(NaN), TRANSIENT)', 'eigenvectorCentrality': 'Float (DefaultValue(NaN), TRANSIENT)', 'degreeCentrality': 'Float (DefaultValue(NaN), TRANSIENT)', 'componentId': 'Integer (DefaultValue(-9223372036854775808), TRANSIENT)'}}, 'relationships': {'CORRELATED': {'correlation': 'Float (DefaultValue(NaN), PERSISTENT, Aggregation.NONE)'}}}, 'memoryUsage': '2474 KiB'})"
      ]
     },
     "execution_count": 37,
     "metadata": {},
     "output_type": "execute_result"
    }
   ],
   "source": [
    "largest_component_graph"
   ]
  },
  {
   "cell_type": "markdown",
   "metadata": {},
   "source": [
    "### 6.2. Community Detection using Louvain"
   ]
  },
  {
   "cell_type": "code",
   "execution_count": 38,
   "metadata": {},
   "outputs": [
    {
     "name": "stderr",
     "output_type": "stream",
     "text": [
      "Louvain: 100%|██████████| 100.0/100 [00:00<00:00, 482.74%/s]\n"
     ]
    },
    {
     "data": {
      "text/plain": [
       "mutateMillis                                                             0\n",
       "nodePropertiesWritten                                                   21\n",
       "modularity                                                         0.12839\n",
       "modularities                                         [0.12839002267573693]\n",
       "ranLevels                                                                1\n",
       "communityCount                                                           2\n",
       "communityDistribution    {'min': 7, 'p5': 7, 'max': 14, 'p999': 14, 'p9...\n",
       "postProcessingMillis                                                     3\n",
       "preProcessingMillis                                                      0\n",
       "computeMillis                                                          676\n",
       "configuration            {'mutateProperty': 'louvainCommunityId', 'jobI...\n",
       "Name: 0, dtype: object"
      ]
     },
     "execution_count": 38,
     "metadata": {},
     "output_type": "execute_result"
    }
   ],
   "source": [
    "gds.louvain.mutate(\n",
    "    largest_component_graph,\n",
    "    mutateProperty=\"louvainCommunityId\"\n",
    ")"
   ]
  },
  {
   "cell_type": "code",
   "execution_count": 39,
   "metadata": {},
   "outputs": [
    {
     "data": {
      "text/plain": [
       "writeMillis                                                         40\n",
       "graphName                                  largest_connected_component\n",
       "nodeProperties                                    [louvainCommunityId]\n",
       "propertiesWritten                                                   21\n",
       "configuration        {'jobId': '3c53e6b9-7add-4966-8885-4529adfa200...\n",
       "Name: 0, dtype: object"
      ]
     },
     "execution_count": 39,
     "metadata": {},
     "output_type": "execute_result"
    }
   ],
   "source": [
    "gds.graph.nodeProperties.write(largest_component_graph, [\"louvainCommunityId\"])"
   ]
  },
  {
   "cell_type": "code",
   "execution_count": 40,
   "metadata": {},
   "outputs": [
    {
     "data": {
      "text/html": [
       "<div>\n",
       "<style scoped>\n",
       "    .dataframe tbody tr th:only-of-type {\n",
       "        vertical-align: middle;\n",
       "    }\n",
       "\n",
       "    .dataframe tbody tr th {\n",
       "        vertical-align: top;\n",
       "    }\n",
       "\n",
       "    .dataframe thead th {\n",
       "        text-align: right;\n",
       "    }\n",
       "</style>\n",
       "<table border=\"1\" class=\"dataframe\">\n",
       "  <thead>\n",
       "    <tr style=\"text-align: right;\">\n",
       "      <th></th>\n",
       "      <th>symbol</th>\n",
       "      <th>communityId</th>\n",
       "    </tr>\n",
       "  </thead>\n",
       "  <tbody>\n",
       "    <tr>\n",
       "      <th>0</th>\n",
       "      <td>AIG</td>\n",
       "      <td>12</td>\n",
       "    </tr>\n",
       "    <tr>\n",
       "      <th>1</th>\n",
       "      <td>AXP</td>\n",
       "      <td>12</td>\n",
       "    </tr>\n",
       "    <tr>\n",
       "      <th>2</th>\n",
       "      <td>BAC</td>\n",
       "      <td>12</td>\n",
       "    </tr>\n",
       "    <tr>\n",
       "      <th>3</th>\n",
       "      <td>BK</td>\n",
       "      <td>12</td>\n",
       "    </tr>\n",
       "    <tr>\n",
       "      <th>4</th>\n",
       "      <td>BLK</td>\n",
       "      <td>12</td>\n",
       "    </tr>\n",
       "    <tr>\n",
       "      <th>5</th>\n",
       "      <td>BRK-B</td>\n",
       "      <td>12</td>\n",
       "    </tr>\n",
       "    <tr>\n",
       "      <th>6</th>\n",
       "      <td>C</td>\n",
       "      <td>12</td>\n",
       "    </tr>\n",
       "    <tr>\n",
       "      <th>7</th>\n",
       "      <td>CAT</td>\n",
       "      <td>9</td>\n",
       "    </tr>\n",
       "    <tr>\n",
       "      <th>8</th>\n",
       "      <td>COF</td>\n",
       "      <td>12</td>\n",
       "    </tr>\n",
       "    <tr>\n",
       "      <th>9</th>\n",
       "      <td>DE</td>\n",
       "      <td>9</td>\n",
       "    </tr>\n",
       "  </tbody>\n",
       "</table>\n",
       "</div>"
      ],
      "text/plain": [
       "  symbol  communityId\n",
       "0    AIG           12\n",
       "1    AXP           12\n",
       "2    BAC           12\n",
       "3     BK           12\n",
       "4    BLK           12\n",
       "5  BRK-B           12\n",
       "6      C           12\n",
       "7    CAT            9\n",
       "8    COF           12\n",
       "9     DE            9"
      ]
     },
     "execution_count": 40,
     "metadata": {},
     "output_type": "execute_result"
    }
   ],
   "source": [
    "gds.run_cypher(\n",
    "    \"\"\"\n",
    "    MATCH (n) WHERE 'louvainCommunityId' IN keys(n)\n",
    "    RETURN n.symbol AS symbol, n.louvainCommunityId AS communityId\n",
    "    LIMIT 10\n",
    "    \"\"\"\n",
    ")"
   ]
  },
  {
   "cell_type": "code",
   "execution_count": 41,
   "metadata": {},
   "outputs": [
    {
     "data": {
      "text/html": [
       "<div>\n",
       "<style scoped>\n",
       "    .dataframe tbody tr th:only-of-type {\n",
       "        vertical-align: middle;\n",
       "    }\n",
       "\n",
       "    .dataframe tbody tr th {\n",
       "        vertical-align: top;\n",
       "    }\n",
       "\n",
       "    .dataframe thead th {\n",
       "        text-align: right;\n",
       "    }\n",
       "</style>\n",
       "<table border=\"1\" class=\"dataframe\">\n",
       "  <thead>\n",
       "    <tr style=\"text-align: right;\">\n",
       "      <th></th>\n",
       "      <th>communityId</th>\n",
       "      <th>communitySize</th>\n",
       "      <th>stocks</th>\n",
       "    </tr>\n",
       "  </thead>\n",
       "  <tbody>\n",
       "    <tr>\n",
       "      <th>0</th>\n",
       "      <td>12</td>\n",
       "      <td>14</td>\n",
       "      <td>[AIG, AXP, BAC, BK, BLK, BRK-B, C, COF, GS, JP...</td>\n",
       "    </tr>\n",
       "    <tr>\n",
       "      <th>1</th>\n",
       "      <td>9</td>\n",
       "      <td>7</td>\n",
       "      <td>[CAT, DE, DOW, EMR, HON, MET, MMM]</td>\n",
       "    </tr>\n",
       "  </tbody>\n",
       "</table>\n",
       "</div>"
      ],
      "text/plain": [
       "   communityId  communitySize  \\\n",
       "0           12             14   \n",
       "1            9              7   \n",
       "\n",
       "                                              stocks  \n",
       "0  [AIG, AXP, BAC, BK, BLK, BRK-B, C, COF, GS, JP...  \n",
       "1                 [CAT, DE, DOW, EMR, HON, MET, MMM]  "
      ]
     },
     "execution_count": 41,
     "metadata": {},
     "output_type": "execute_result"
    }
   ],
   "source": [
    "query = \"\"\"\n",
    "    CALL gds.graph.nodeProperties.stream('largest_connected_component', 'louvainCommunityId')\n",
    "    YIELD nodeId, propertyValue\n",
    "    WITH gds.util.asNode(nodeId).symbol AS symbol, propertyValue AS communityId\n",
    "    WITH communityId, collect(symbol) AS stocks\n",
    "    WITH communityId, stocks, size(stocks) AS communitySize\n",
    "    RETURN communityId, communitySize, stocks\n",
    "    ORDER BY communitySize DESC\n",
    "\"\"\"\n",
    "communities = gds.run_cypher(query)\n",
    "communities"
   ]
  },
  {
   "cell_type": "markdown",
   "metadata": {},
   "source": [
    "## 7. Saved the graph"
   ]
  },
  {
   "cell_type": "code",
   "execution_count": 42,
   "metadata": {},
   "outputs": [
    {
     "data": {
      "text/html": [
       "<div>\n",
       "<style scoped>\n",
       "    .dataframe tbody tr th:only-of-type {\n",
       "        vertical-align: middle;\n",
       "    }\n",
       "\n",
       "    .dataframe tbody tr th {\n",
       "        vertical-align: top;\n",
       "    }\n",
       "\n",
       "    .dataframe thead th {\n",
       "        text-align: right;\n",
       "    }\n",
       "</style>\n",
       "<table border=\"1\" class=\"dataframe\">\n",
       "  <thead>\n",
       "    <tr style=\"text-align: right;\">\n",
       "      <th></th>\n",
       "    </tr>\n",
       "  </thead>\n",
       "  <tbody>\n",
       "  </tbody>\n",
       "</table>\n",
       "</div>"
      ],
      "text/plain": [
       "Empty DataFrame\n",
       "Columns: []\n",
       "Index: []"
      ]
     },
     "execution_count": 42,
     "metadata": {},
     "output_type": "execute_result"
    }
   ],
   "source": [
    "gds.run_cypher(\"\"\"\n",
    "    MATCH (s:Stock)\n",
    "    SET s.eigenvectorCentrality = s.eigenvectorCentrality\n",
    "\"\"\")\n",
    "\n",
    "gds.run_cypher(\"\"\"\n",
    "    MATCH (s:Stock)\n",
    "    SET s.betweennessCentrality = s.betweennessCentrality\n",
    "\"\"\")\n",
    "\n",
    "gds.run_cypher(\"\"\"\n",
    "    MATCH (s:Stock)\n",
    "    SET s.degreeCentrality = s.degreeCentrality\n",
    "\"\"\")\n",
    "\n",
    "gds.run_cypher(\"\"\"\n",
    "    MATCH (s:Stock)\n",
    "    SET s.componentId = s.componentId\n",
    "\"\"\")\n",
    "\n",
    "gds.run_cypher(\"\"\"\n",
    "    MATCH (s:Stock)\n",
    "    SET s.louvainCommunityId = s.louvainCommunityId\n",
    "\"\"\")"
   ]
  }
 ],
 "metadata": {
  "kernelspec": {
   "display_name": "venv",
   "language": "python",
   "name": "python3"
  },
  "language_info": {
   "codemirror_mode": {
    "name": "ipython",
    "version": 3
   },
   "file_extension": ".py",
   "mimetype": "text/x-python",
   "name": "python",
   "nbconvert_exporter": "python",
   "pygments_lexer": "ipython3",
   "version": "3.12.4"
  }
 },
 "nbformat": 4,
 "nbformat_minor": 2
}

{
 "cells": [
  {
   "cell_type": "markdown",
   "metadata": {},
   "source": [
    "# Data Collection and Processing"
   ]
  },
  {
   "cell_type": "markdown",
   "metadata": {},
   "source": [
    "## 1. Dependencies"
   ]
  },
  {
   "cell_type": "code",
   "execution_count": 1,
   "metadata": {},
   "outputs": [],
   "source": [
    "import pandas as pd\n",
    "import yfinance as yf\n",
    "import wikipedia as wp\n",
    "import numpy as np\n",
    "import dcor\n",
    "import networkx as nx"
   ]
  },
  {
   "cell_type": "markdown",
   "metadata": {},
   "source": [
    "## 2. Import S&P 100 List and Information"
   ]
  },
  {
   "cell_type": "markdown",
   "metadata": {},
   "source": [
    "**List of S&P 100 Companies**"
   ]
  },
  {
   "cell_type": "code",
   "execution_count": 2,
   "metadata": {},
   "outputs": [
    {
     "data": {
      "text/html": [
       "<div>\n",
       "<style scoped>\n",
       "    .dataframe tbody tr th:only-of-type {\n",
       "        vertical-align: middle;\n",
       "    }\n",
       "\n",
       "    .dataframe tbody tr th {\n",
       "        vertical-align: top;\n",
       "    }\n",
       "\n",
       "    .dataframe thead th {\n",
       "        text-align: right;\n",
       "    }\n",
       "</style>\n",
       "<table border=\"1\" class=\"dataframe\">\n",
       "  <thead>\n",
       "    <tr style=\"text-align: right;\">\n",
       "      <th></th>\n",
       "      <th>Name</th>\n",
       "      <th>Sector</th>\n",
       "    </tr>\n",
       "    <tr>\n",
       "      <th>Symbol</th>\n",
       "      <th></th>\n",
       "      <th></th>\n",
       "    </tr>\n",
       "  </thead>\n",
       "  <tbody>\n",
       "    <tr>\n",
       "      <th>AAPL</th>\n",
       "      <td>Apple Inc.</td>\n",
       "      <td>Information Technology</td>\n",
       "    </tr>\n",
       "    <tr>\n",
       "      <th>ABBV</th>\n",
       "      <td>AbbVie</td>\n",
       "      <td>Health Care</td>\n",
       "    </tr>\n",
       "    <tr>\n",
       "      <th>ABT</th>\n",
       "      <td>Abbott Laboratories</td>\n",
       "      <td>Health Care</td>\n",
       "    </tr>\n",
       "    <tr>\n",
       "      <th>ACN</th>\n",
       "      <td>Accenture</td>\n",
       "      <td>Information Technology</td>\n",
       "    </tr>\n",
       "    <tr>\n",
       "      <th>ADBE</th>\n",
       "      <td>Adobe Inc.</td>\n",
       "      <td>Information Technology</td>\n",
       "    </tr>\n",
       "  </tbody>\n",
       "</table>\n",
       "</div>"
      ],
      "text/plain": [
       "                       Name                  Sector\n",
       "Symbol                                             \n",
       "AAPL             Apple Inc.  Information Technology\n",
       "ABBV                 AbbVie             Health Care\n",
       "ABT     Abbott Laboratories             Health Care\n",
       "ACN               Accenture  Information Technology\n",
       "ADBE             Adobe Inc.  Information Technology"
      ]
     },
     "execution_count": 2,
     "metadata": {},
     "output_type": "execute_result"
    }
   ],
   "source": [
    "url=wp.page(\"S&P 100\").html().encode(\"UTF-8\")\n",
    "stocks=pd.read_html(url)[2].set_index(\"Symbol\")\n",
    "stocks=stocks.drop(\"GOOG\")\n",
    "stocks.loc[\"GOOGL\",\"Name\"]=\"Alphabet\"\n",
    "stocks=stocks.rename(index={\"BRK.B\":\"BRK-B\"})\n",
    "stocks.head()"
   ]
  },
  {
   "cell_type": "code",
   "execution_count": 3,
   "metadata": {},
   "outputs": [],
   "source": [
    "stocks.to_csv(\"../data/stocks.csv\")"
   ]
  },
  {
   "cell_type": "markdown",
   "metadata": {},
   "source": [
    "**Fundamental Data of companies**"
   ]
  },
  {
   "cell_type": "code",
   "execution_count": 4,
   "metadata": {},
   "outputs": [
    {
     "data": {
      "text/html": [
       "<div>\n",
       "<style scoped>\n",
       "    .dataframe tbody tr th:only-of-type {\n",
       "        vertical-align: middle;\n",
       "    }\n",
       "\n",
       "    .dataframe tbody tr th {\n",
       "        vertical-align: top;\n",
       "    }\n",
       "\n",
       "    .dataframe thead th {\n",
       "        text-align: right;\n",
       "    }\n",
       "</style>\n",
       "<table border=\"1\" class=\"dataframe\">\n",
       "  <thead>\n",
       "    <tr style=\"text-align: right;\">\n",
       "      <th></th>\n",
       "      <th>marketCap</th>\n",
       "      <th>beta</th>\n",
       "      <th>52WeekChange</th>\n",
       "      <th>averageVolume</th>\n",
       "      <th>profitMargins</th>\n",
       "    </tr>\n",
       "    <tr>\n",
       "      <th>Symbol</th>\n",
       "      <th></th>\n",
       "      <th></th>\n",
       "      <th></th>\n",
       "      <th></th>\n",
       "      <th></th>\n",
       "    </tr>\n",
       "  </thead>\n",
       "  <tbody>\n",
       "    <tr>\n",
       "      <th>AAPL</th>\n",
       "      <td>3797088731136</td>\n",
       "      <td>1.240</td>\n",
       "      <td>0.376805</td>\n",
       "      <td>43955101</td>\n",
       "      <td>0.23971</td>\n",
       "    </tr>\n",
       "    <tr>\n",
       "      <th>ABBV</th>\n",
       "      <td>310855827456</td>\n",
       "      <td>0.613</td>\n",
       "      <td>0.113816</td>\n",
       "      <td>6216840</td>\n",
       "      <td>0.09223</td>\n",
       "    </tr>\n",
       "    <tr>\n",
       "      <th>ABT</th>\n",
       "      <td>195785850880</td>\n",
       "      <td>0.722</td>\n",
       "      <td>0.046791</td>\n",
       "      <td>5046883</td>\n",
       "      <td>0.13992</td>\n",
       "    </tr>\n",
       "    <tr>\n",
       "      <th>ACN</th>\n",
       "      <td>218833551360</td>\n",
       "      <td>1.245</td>\n",
       "      <td>0.026692</td>\n",
       "      <td>2437208</td>\n",
       "      <td>0.11194</td>\n",
       "    </tr>\n",
       "    <tr>\n",
       "      <th>ADBE</th>\n",
       "      <td>193621966848</td>\n",
       "      <td>1.299</td>\n",
       "      <td>-0.230300</td>\n",
       "      <td>3459643</td>\n",
       "      <td>0.25588</td>\n",
       "    </tr>\n",
       "  </tbody>\n",
       "</table>\n",
       "</div>"
      ],
      "text/plain": [
       "            marketCap   beta  52WeekChange  averageVolume  profitMargins\n",
       "Symbol                                                                  \n",
       "AAPL    3797088731136  1.240      0.376805       43955101        0.23971\n",
       "ABBV     310855827456  0.613      0.113816        6216840        0.09223\n",
       "ABT      195785850880  0.722      0.046791        5046883        0.13992\n",
       "ACN      218833551360  1.245      0.026692        2437208        0.11194\n",
       "ADBE     193621966848  1.299     -0.230300        3459643        0.25588"
      ]
     },
     "execution_count": 4,
     "metadata": {},
     "output_type": "execute_result"
    }
   ],
   "source": [
    "fundamentals=[yf.Ticker(stock).info for stock in stocks.index]\n",
    "\n",
    "fundamentals=pd.DataFrame(fundamentals).set_index(\"symbol\")\n",
    "fundamentals.index = fundamentals.index.rename(\"Symbol\")\n",
    "fundamentals= fundamentals[[\"marketCap\", \"beta\", \"52WeekChange\", \"averageVolume\", \"profitMargins\"]].fillna(0)\n",
    "fundamentals.head()"
   ]
  },
  {
   "cell_type": "markdown",
   "metadata": {},
   "source": [
    "**Log Daily Return**"
   ]
  },
  {
   "cell_type": "code",
   "execution_count": 5,
   "metadata": {},
   "outputs": [
    {
     "data": {
      "text/html": [
       "<div>\n",
       "<style scoped>\n",
       "    .dataframe tbody tr th:only-of-type {\n",
       "        vertical-align: middle;\n",
       "    }\n",
       "\n",
       "    .dataframe tbody tr th {\n",
       "        vertical-align: top;\n",
       "    }\n",
       "\n",
       "    .dataframe thead th {\n",
       "        text-align: right;\n",
       "    }\n",
       "</style>\n",
       "<table border=\"1\" class=\"dataframe\">\n",
       "  <thead>\n",
       "    <tr style=\"text-align: right;\">\n",
       "      <th></th>\n",
       "      <th></th>\n",
       "      <th>DailyLogReturn</th>\n",
       "    </tr>\n",
       "    <tr>\n",
       "      <th>Symbol</th>\n",
       "      <th>Date</th>\n",
       "      <th></th>\n",
       "    </tr>\n",
       "  </thead>\n",
       "  <tbody>\n",
       "    <tr>\n",
       "      <th rowspan=\"5\" valign=\"top\">AAPL</th>\n",
       "      <th>2019-12-31 00:00:00-05:00</th>\n",
       "      <td>0.365015</td>\n",
       "    </tr>\n",
       "    <tr>\n",
       "      <th>2020-01-02 00:00:00-05:00</th>\n",
       "      <td>1.131198</td>\n",
       "    </tr>\n",
       "    <tr>\n",
       "      <th>2020-01-03 00:00:00-05:00</th>\n",
       "      <td>-0.489863</td>\n",
       "    </tr>\n",
       "    <tr>\n",
       "      <th>2020-01-06 00:00:00-05:00</th>\n",
       "      <td>0.397952</td>\n",
       "    </tr>\n",
       "    <tr>\n",
       "      <th>2020-01-07 00:00:00-05:00</th>\n",
       "      <td>-0.236387</td>\n",
       "    </tr>\n",
       "  </tbody>\n",
       "</table>\n",
       "</div>"
      ],
      "text/plain": [
       "                                  DailyLogReturn\n",
       "Symbol Date                                     \n",
       "AAPL   2019-12-31 00:00:00-05:00        0.365015\n",
       "       2020-01-02 00:00:00-05:00        1.131198\n",
       "       2020-01-03 00:00:00-05:00       -0.489863\n",
       "       2020-01-06 00:00:00-05:00        0.397952\n",
       "       2020-01-07 00:00:00-05:00       -0.236387"
      ]
     },
     "execution_count": 5,
     "metadata": {},
     "output_type": "execute_result"
    }
   ],
   "source": [
    "values=[yf.Ticker(stock).history(period=\"5y\",actions=False) for stock in stocks.index]\n",
    "\n",
    "for idx, stock_values in enumerate (values):\n",
    "    stock_values[\"NormClose\"]=(stock_values[\"Close\"].mean())/stock_values[\"Close\"].std()\n",
    "    \n",
    "    stock_values[\"DailyLogReturn\"]=np.log(1+stock_values[\"Close\"].pct_change())\n",
    "    stock_values[\"DailyLogReturn\"] /= stock_values[\"DailyLogReturn\"].std()\n",
    "    stock_values.drop(columns=[\"Open\",\"High\",\"Low\",\"Close\",\"NormClose\",\"Volume\"],inplace=True)\n",
    "    \n",
    "values=pd.concat(values, keys=stocks.index).dropna()\n",
    "values.head(n=5)"
   ]
  },
  {
   "cell_type": "markdown",
   "metadata": {},
   "source": [
    "## 3. Correlation"
   ]
  },
  {
   "cell_type": "markdown",
   "metadata": {},
   "source": [
    "**Reset the index from value dataset and get a pivot matrix**"
   ]
  },
  {
   "cell_type": "code",
   "execution_count": 6,
   "metadata": {},
   "outputs": [
    {
     "data": {
      "text/html": [
       "<div>\n",
       "<style scoped>\n",
       "    .dataframe tbody tr th:only-of-type {\n",
       "        vertical-align: middle;\n",
       "    }\n",
       "\n",
       "    .dataframe tbody tr th {\n",
       "        vertical-align: top;\n",
       "    }\n",
       "\n",
       "    .dataframe thead th {\n",
       "        text-align: right;\n",
       "    }\n",
       "</style>\n",
       "<table border=\"1\" class=\"dataframe\">\n",
       "  <thead>\n",
       "    <tr style=\"text-align: right;\">\n",
       "      <th>Symbol</th>\n",
       "      <th>AAPL</th>\n",
       "      <th>ABBV</th>\n",
       "      <th>ABT</th>\n",
       "      <th>ACN</th>\n",
       "      <th>ADBE</th>\n",
       "      <th>AIG</th>\n",
       "      <th>AMD</th>\n",
       "      <th>AMGN</th>\n",
       "      <th>AMT</th>\n",
       "      <th>AMZN</th>\n",
       "      <th>...</th>\n",
       "      <th>TXN</th>\n",
       "      <th>UNH</th>\n",
       "      <th>UNP</th>\n",
       "      <th>UPS</th>\n",
       "      <th>USB</th>\n",
       "      <th>V</th>\n",
       "      <th>VZ</th>\n",
       "      <th>WFC</th>\n",
       "      <th>WMT</th>\n",
       "      <th>XOM</th>\n",
       "    </tr>\n",
       "    <tr>\n",
       "      <th>Date</th>\n",
       "      <th></th>\n",
       "      <th></th>\n",
       "      <th></th>\n",
       "      <th></th>\n",
       "      <th></th>\n",
       "      <th></th>\n",
       "      <th></th>\n",
       "      <th></th>\n",
       "      <th></th>\n",
       "      <th></th>\n",
       "      <th></th>\n",
       "      <th></th>\n",
       "      <th></th>\n",
       "      <th></th>\n",
       "      <th></th>\n",
       "      <th></th>\n",
       "      <th></th>\n",
       "      <th></th>\n",
       "      <th></th>\n",
       "      <th></th>\n",
       "      <th></th>\n",
       "    </tr>\n",
       "  </thead>\n",
       "  <tbody>\n",
       "    <tr>\n",
       "      <th>2019-12-31 00:00:00-05:00</th>\n",
       "      <td>0.365015</td>\n",
       "      <td>0.014386</td>\n",
       "      <td>0.042003</td>\n",
       "      <td>-0.017963</td>\n",
       "      <td>0.181035</td>\n",
       "      <td>0.252212</td>\n",
       "      <td>0.225267</td>\n",
       "      <td>0.202338</td>\n",
       "      <td>0.219577</td>\n",
       "      <td>0.022695</td>\n",
       "      <td>...</td>\n",
       "      <td>0.249570</td>\n",
       "      <td>0.023412</td>\n",
       "      <td>0.203874</td>\n",
       "      <td>0.279776</td>\n",
       "      <td>0.084648</td>\n",
       "      <td>0.021234</td>\n",
       "      <td>0.229962</td>\n",
       "      <td>0.151088</td>\n",
       "      <td>-0.330545</td>\n",
       "      <td>0.198953</td>\n",
       "    </tr>\n",
       "    <tr>\n",
       "      <th>2020-01-02 00:00:00-05:00</th>\n",
       "      <td>1.131198</td>\n",
       "      <td>0.721103</td>\n",
       "      <td>0.062923</td>\n",
       "      <td>-0.107956</td>\n",
       "      <td>0.563758</td>\n",
       "      <td>0.326203</td>\n",
       "      <td>2.066526</td>\n",
       "      <td>-0.245412</td>\n",
       "      <td>-0.299030</td>\n",
       "      <td>1.182228</td>\n",
       "      <td>...</td>\n",
       "      <td>0.503341</td>\n",
       "      <td>-0.267212</td>\n",
       "      <td>0.468695</td>\n",
       "      <td>-0.121648</td>\n",
       "      <td>-0.063469</td>\n",
       "      <td>0.968263</td>\n",
       "      <td>-0.424179</td>\n",
       "      <td>-0.037722</td>\n",
       "      <td>0.059124</td>\n",
       "      <td>0.735300</td>\n",
       "    </tr>\n",
       "  </tbody>\n",
       "</table>\n",
       "<p>2 rows × 100 columns</p>\n",
       "</div>"
      ],
      "text/plain": [
       "Symbol                         AAPL      ABBV       ABT       ACN      ADBE  \\\n",
       "Date                                                                          \n",
       "2019-12-31 00:00:00-05:00  0.365015  0.014386  0.042003 -0.017963  0.181035   \n",
       "2020-01-02 00:00:00-05:00  1.131198  0.721103  0.062923 -0.107956  0.563758   \n",
       "\n",
       "Symbol                          AIG       AMD      AMGN       AMT      AMZN  \\\n",
       "Date                                                                          \n",
       "2019-12-31 00:00:00-05:00  0.252212  0.225267  0.202338  0.219577  0.022695   \n",
       "2020-01-02 00:00:00-05:00  0.326203  2.066526 -0.245412 -0.299030  1.182228   \n",
       "\n",
       "Symbol                     ...       TXN       UNH       UNP       UPS  \\\n",
       "Date                       ...                                           \n",
       "2019-12-31 00:00:00-05:00  ...  0.249570  0.023412  0.203874  0.279776   \n",
       "2020-01-02 00:00:00-05:00  ...  0.503341 -0.267212  0.468695 -0.121648   \n",
       "\n",
       "Symbol                          USB         V        VZ       WFC       WMT  \\\n",
       "Date                                                                          \n",
       "2019-12-31 00:00:00-05:00  0.084648  0.021234  0.229962  0.151088 -0.330545   \n",
       "2020-01-02 00:00:00-05:00 -0.063469  0.968263 -0.424179 -0.037722  0.059124   \n",
       "\n",
       "Symbol                          XOM  \n",
       "Date                                 \n",
       "2019-12-31 00:00:00-05:00  0.198953  \n",
       "2020-01-02 00:00:00-05:00  0.735300  \n",
       "\n",
       "[2 rows x 100 columns]"
      ]
     },
     "execution_count": 6,
     "metadata": {},
     "output_type": "execute_result"
    }
   ],
   "source": [
    "values=values.reset_index()\n",
    "DailyReturn=values.pivot(index=\"Date\",columns=\"Symbol\",values=\"DailyLogReturn\").dropna()\n",
    "DailyReturn.head(n=2)"
   ]
  },
  {
   "cell_type": "markdown",
   "metadata": {},
   "source": [
    "**Calculate Correlation matrix**"
   ]
  },
  {
   "cell_type": "code",
   "execution_count": 7,
   "metadata": {},
   "outputs": [
    {
     "name": "stdout",
     "output_type": "stream",
     "text": [
      "Symbol      AAPL      ABBV       ABT       ACN      ADBE       AIG       AMD  \\\n",
      "Symbol                                                                         \n",
      "AAPL    1.000000  0.217205  0.372865  0.513727  0.592649  0.273366  0.511462   \n",
      "ABBV    0.217205  1.000000  0.387878  0.283796  0.208033  0.292431  0.117149   \n",
      "ABT     0.372865  0.387878  1.000000  0.463536  0.395832  0.253038  0.278010   \n",
      "ACN     0.513727  0.283796  0.463536  1.000000  0.594553  0.425236  0.421808   \n",
      "ADBE    0.592649  0.208033  0.395832  0.594553  1.000000  0.236958  0.552434   \n",
      "...          ...       ...       ...       ...       ...       ...       ...   \n",
      "V       0.488190  0.319582  0.439751  0.575808  0.506333  0.438106  0.379545   \n",
      "VZ      0.194868  0.293099  0.320791  0.288447  0.133761  0.291986  0.089661   \n",
      "WFC     0.265548  0.271463  0.258503  0.392064  0.216596  0.649613  0.218161   \n",
      "WMT     0.292131  0.253574  0.301785  0.299431  0.250980  0.201942  0.194434   \n",
      "XOM     0.203059  0.267827  0.152620  0.264222  0.134451  0.496658  0.131727   \n",
      "\n",
      "Symbol      AMGN       AMT      AMZN  ...       TXN       UNH       UNP  \\\n",
      "Symbol                                ...                                 \n",
      "AAPL    0.303024  0.342890  0.602940  ...  0.557866  0.302518  0.347484   \n",
      "ABBV    0.464754  0.270304  0.142652  ...  0.229610  0.379001  0.295024   \n",
      "ABT     0.395546  0.454377  0.309689  ...  0.378991  0.364907  0.365444   \n",
      "ACN     0.333735  0.426047  0.476671  ...  0.549038  0.355233  0.487879   \n",
      "ADBE    0.271488  0.336762  0.631909  ...  0.548220  0.252617  0.305943   \n",
      "...          ...       ...       ...  ...       ...       ...       ...   \n",
      "V       0.315254  0.359251  0.409825  ...  0.487711  0.370171  0.477806   \n",
      "VZ      0.323694  0.369257  0.129167  ...  0.225064  0.299169  0.347232   \n",
      "WFC     0.250532  0.231788  0.214386  ...  0.366501  0.286125  0.462388   \n",
      "WMT     0.281537  0.302958  0.274127  ...  0.255567  0.272135  0.249475   \n",
      "XOM     0.199353  0.145618  0.121078  ...  0.281346  0.262467  0.385187   \n",
      "\n",
      "Symbol       UPS       USB         V        VZ       WFC       WMT       XOM  \n",
      "Symbol                                                                        \n",
      "AAPL    0.411959  0.265181  0.488190  0.194868  0.265548  0.292131  0.203059  \n",
      "ABBV    0.292818  0.282570  0.319582  0.293099  0.271463  0.253574  0.267827  \n",
      "ABT     0.400868  0.289324  0.439751  0.320791  0.258503  0.301785  0.152620  \n",
      "ACN     0.452015  0.419948  0.575808  0.288447  0.392064  0.299431  0.264222  \n",
      "ADBE    0.368290  0.226447  0.506333  0.133761  0.216596  0.250980  0.134451  \n",
      "...          ...       ...       ...       ...       ...       ...       ...  \n",
      "V       0.411627  0.424566  1.000000  0.290492  0.418729  0.272409  0.332182  \n",
      "VZ      0.302193  0.360729  0.290492  1.000000  0.311829  0.270532  0.275793  \n",
      "WFC     0.374254  0.762974  0.418729  0.311829  1.000000  0.177996  0.453178  \n",
      "WMT     0.303314  0.183923  0.272409  0.270532  0.177996  1.000000  0.158382  \n",
      "XOM     0.286985  0.453040  0.332182  0.275793  0.453178  0.158382  1.000000  \n",
      "\n",
      "[100 rows x 100 columns]\n"
     ]
    }
   ],
   "source": [
    "tickers=DailyReturn.columns\n",
    "dcor_matrix=pd.DataFrame(index=tickers,columns=tickers,dtype=float)\n",
    "\n",
    "for i, stock_a in enumerate(tickers):\n",
    "    for j, stock_b in enumerate(tickers):\n",
    "        if i<j:\n",
    "            dcor_value=dcor.distance_correlation(\n",
    "                DailyReturn[stock_a].values,\n",
    "                DailyReturn[stock_b].values\n",
    "            )\n",
    "            dcor_matrix.loc[stock_a,stock_b]=dcor_value\n",
    "            dcor_matrix.loc[stock_b,stock_a]=dcor_value\n",
    "\n",
    "for ticker in tickers:\n",
    "    dcor_matrix.loc[ticker, ticker]=1.0\n",
    "    \n",
    "\n",
    "print (dcor_matrix)"
   ]
  },
  {
   "cell_type": "code",
   "execution_count": 13,
   "metadata": {},
   "outputs": [],
   "source": [
    "dcor_long=dcor_matrix.reset_index()\n",
    "\n",
    "dcor_long=dcor_long.melt(\n",
    "    id_vars=\"Symbol\",\n",
    "    var_name=\"stock_b\",\n",
    "    value_name=\"correlation\"\n",
    ")\n",
    "\n",
    "dcor_long=dcor_long.dropna()\n",
    "dcor_long=dcor_long[dcor_long[\"Symbol\"] != dcor_long[\"stock_b\"]]\n",
    "dcor_long=dcor_long.rename(columns={\"Symbol\":\"stock_a\"})\n",
    "\n",
    "dcor_long.to_csv(\"../data/correlation.csv\",index=False)"
   ]
  },
  {
   "cell_type": "markdown",
   "metadata": {},
   "source": [
    "**Dissimilarity Matrix**"
   ]
  },
  {
   "cell_type": "code",
   "execution_count": 43,
   "metadata": {},
   "outputs": [
    {
     "name": "stdout",
     "output_type": "stream",
     "text": [
      "Symbol      AAPL      ABBV       ABT       ACN      ADBE       AIG       AMD  \\\n",
      "Symbol                                                                         \n",
      "AAPL    0.000000  0.783416  0.627916  0.486822  0.407688  0.726962  0.488900   \n",
      "ABBV    0.783416  0.000000  0.612878  0.716952  0.792531  0.707951  0.883222   \n",
      "ABT     0.627916  0.612878  0.000000  0.537215  0.604718  0.747353  0.722526   \n",
      "ACN     0.486822  0.716952  0.537215  0.000000  0.405783  0.575019  0.578588   \n",
      "ADBE    0.407688  0.792531  0.604718  0.405783  0.000000  0.763308  0.447854   \n",
      "...          ...       ...       ...       ...       ...       ...       ...   \n",
      "V       0.512382  0.681115  0.561040  0.424690  0.494101  0.562130  0.620923   \n",
      "VZ      0.805722  0.707519  0.679946  0.712262  0.866760  0.708403  0.910552   \n",
      "WFC     0.735086  0.729214  0.742285  0.608489  0.783854  0.350553  0.782282   \n",
      "WMT     0.708768  0.747382  0.699370  0.701663  0.749722  0.798659  0.806204   \n",
      "XOM     0.797150  0.732389  0.847494  0.735933  0.865687  0.503455  0.868485   \n",
      "\n",
      "Symbol      AMGN       AMT      AMZN  ...       TXN       UNH       UNP  \\\n",
      "Symbol                                ...                                 \n",
      "AAPL    0.697571  0.657360  0.397585  ...  0.442639  0.698094  0.653016   \n",
      "ABBV    0.535745  0.729996  0.858063  ...  0.771096  0.621570  0.705521   \n",
      "ABT     0.605146  0.545806  0.691246  ...  0.621757  0.635774  0.635130   \n",
      "ACN     0.666909  0.574147  0.524010  ...  0.451460  0.645382  0.512529   \n",
      "ADBE    0.728981  0.663453  0.368409  ...  0.452151  0.747877  0.694496   \n",
      "...          ...       ...       ...  ...       ...       ...       ...   \n",
      "V       0.685387  0.640975  0.590904  ...  0.512830  0.630444  0.522589   \n",
      "VZ      0.676838  0.630965  0.871465  ...  0.775620  0.701366  0.653287   \n",
      "WFC     0.750068  0.768422  0.786362  ...  0.634069  0.714414  0.538018   \n",
      "WMT     0.719216  0.697346  0.726868  ...  0.745522  0.728811  0.751263   \n",
      "XOM     0.800876  0.854458  0.879208  ...  0.718854  0.737715  0.614979   \n",
      "\n",
      "Symbol       UPS       USB         V        VZ       WFC       WMT       XOM  \n",
      "Symbol                                                                        \n",
      "AAPL    0.588308  0.735320  0.512382  0.805722  0.735086  0.708768  0.797150  \n",
      "ABBV    0.707589  0.717947  0.681115  0.707519  0.729214  0.747382  0.732389  \n",
      "ABT     0.599465  0.711232  0.561040  0.679946  0.742285  0.699370  0.847494  \n",
      "ACN     0.548229  0.580441  0.424690  0.712262  0.608489  0.701663  0.735933  \n",
      "ADBE    0.631973  0.773926  0.494101  0.866760  0.783854  0.749722  0.865687  \n",
      "...          ...       ...       ...       ...       ...       ...       ...  \n",
      "V       0.588618  0.575771  0.000000  0.710243  0.581786  0.728718  0.667920  \n",
      "VZ      0.698186  0.639702  0.710243  0.000000  0.688730  0.730292  0.724407  \n",
      "WFC     0.626064  0.237186  0.581786  0.688730  0.000000  0.822910  0.546966  \n",
      "WMT     0.697072  0.816883  0.728718  0.730292  0.822910  0.000000  0.841857  \n",
      "XOM     0.713211  0.547106  0.667920  0.724407  0.546966  0.841857  0.000000  \n",
      "\n",
      "[100 rows x 100 columns]\n"
     ]
    }
   ],
   "source": [
    "dissimilarity_matrix=1-dcor_matrix\n",
    "for ticker in tickers:\n",
    "    dissimilarity_matrix.loc[ticker,ticker]=0.0\n",
    "\n",
    "print(dissimilarity_matrix)"
   ]
  },
  {
   "cell_type": "markdown",
   "metadata": {},
   "source": [
    "**Aplication of the Minimum Spanning Tree (MST)**"
   ]
  },
  {
   "cell_type": "code",
   "execution_count": 44,
   "metadata": {},
   "outputs": [
    {
     "name": "stdout",
     "output_type": "stream",
     "text": [
      "[('AAPL', 'MSFT', {'weight': np.float64(0.31627603970954343)}), ('AAPL', 'TSLA', {'weight': np.float64(0.5397262666954017)}), ('ABBV', 'BMY', {'weight': np.float64(0.5247050067698777)}), ('ABT', 'TMO', {'weight': np.float64(0.41383385927578575)}), ('ABT', 'MDT', {'weight': np.float64(0.47093970917919525)}), ('ACN', 'INTU', {'weight': np.float64(0.3788777848089405)}), ('ACN', 'BLK', {'weight': np.float64(0.40587366295317684)}), ('ACN', 'LIN', {'weight': np.float64(0.42562908211228545)}), ('ACN', 'CSCO', {'weight': np.float64(0.4295295760489998)}), ('ADBE', 'MSFT', {'weight': np.float64(0.28758117191186217)}), ('ADBE', 'INTU', {'weight': np.float64(0.30034762912695356)}), ('ADBE', 'CRM', {'weight': np.float64(0.3282394481162684)}), ('AIG', 'MET', {'weight': np.float64(0.22233016848587328)}), ('AMD', 'NVDA', {'weight': np.float64(0.27975566939056573)}), ('AMGN', 'JNJ', {'weight': np.float64(0.5036435598706811)}), ('AMGN', 'GILD', {'weight': np.float64(0.5117627555234432)}), ('AMT', 'NEE', {'weight': np.float64(0.48161419984227605)}), ('AMZN', 'MSFT', {'weight': np.float64(0.31874445427314246)}), ('AMZN', 'NFLX', {'weight': np.float64(0.4303713805068542)}), ('AVGO', 'TXN', {'weight': np.float64(0.31089579241006804)}), ('AVGO', 'NVDA', {'weight': np.float64(0.3381297440916715)}), ('AXP', 'COF', {'weight': np.float64(0.23687839693460833)}), ('AXP', 'MA', {'weight': np.float64(0.4142328327138357)}), ('AXP', 'DIS', {'weight': np.float64(0.43849484550025875)}), ('AXP', 'BKNG', {'weight': np.float64(0.4478798668514362)}), ('BA', 'GE', {'weight': np.float64(0.4721973452066045)}), ('BAC', 'JPM', {'weight': np.float64(0.15569488347837057)}), ('BAC', 'C', {'weight': np.float64(0.175615989962)}), ('BAC', 'WFC', {'weight': np.float64(0.1866874741398591)}), ('BAC', 'USB', {'weight': np.float64(0.20961306550273762)}), ('BAC', 'MET', {'weight': np.float64(0.2325024155422345)}), ('BAC', 'BK', {'weight': np.float64(0.23824072783988692)}), ('BAC', 'GS', {'weight': np.float64(0.23908366437142337)}), ('BAC', 'COF', {'weight': np.float64(0.2515913370328281)}), ('BAC', 'SCHW', {'weight': np.float64(0.31991496109100237)}), ('BLK', 'MS', {'weight': np.float64(0.3507749961527935)}), ('BLK', 'HD', {'weight': np.float64(0.45113859401884004)}), ('BMY', 'JNJ', {'weight': np.float64(0.5276457685407063)}), ('BRK-B', 'JPM', {'weight': np.float64(0.30192902219452344)}), ('BRK-B', 'HON', {'weight': np.float64(0.37432954741953806)}), ('BRK-B', 'UNP', {'weight': np.float64(0.4130836087236156)}), ('BRK-B', 'GD', {'weight': np.float64(0.41631580800521206)}), ('BRK-B', 'KO', {'weight': np.float64(0.4596461883716014)}), ('BRK-B', 'MDT', {'weight': np.float64(0.47695013529539254)}), ('BRK-B', 'T', {'weight': np.float64(0.5240988045341456)}), ('BRK-B', 'CVS', {'weight': np.float64(0.5344126983537028)}), ('CAT', 'EMR', {'weight': np.float64(0.3043292683586455)}), ('CAT', 'DE', {'weight': np.float64(0.3103773467141615)}), ('CAT', 'DOW', {'weight': np.float64(0.33438188288360104)}), ('CAT', 'CVX', {'weight': np.float64(0.43120191370649674)}), ('CHTR', 'CMCSA', {'weight': np.float64(0.390700463937506)}), ('CL', 'PG', {'weight': np.float64(0.27141391621207767)}), ('CMCSA', 'DIS', {'weight': np.float64(0.4960828186592646)}), ('COF', 'SPG', {'weight': np.float64(0.42258830735366426)}), ('COP', 'CVX', {'weight': np.float64(0.1826298636895144)}), ('COST', 'WMT', {'weight': np.float64(0.44487450455375877)}), ('COST', 'MSFT', {'weight': np.float64(0.4734510418541289)}), ('CVS', 'UNH', {'weight': np.float64(0.4945002915987443)}), ('CVX', 'XOM', {'weight': np.float64(0.14725429874730545)}), ('DHR', 'TMO', {'weight': np.float64(0.21962277279841647)}), ('DUK', 'SO', {'weight': np.float64(0.20324569507100543)}), ('DUK', 'KO', {'weight': np.float64(0.4438389000644827)}), ('EMR', 'HON', {'weight': np.float64(0.35025059643172474)}), ('EMR', 'GE', {'weight': np.float64(0.4395578204487678)}), ('F', 'GM', {'weight': np.float64(0.21999848034832348)}), ('FDX', 'UPS', {'weight': np.float64(0.37015380823859223)}), ('GD', 'RTX', {'weight': np.float64(0.3386783265607024)}), ('GD', 'LMT', {'weight': np.float64(0.37067696709253506)}), ('GM', 'GS', {'weight': np.float64(0.40504335073887376)}), ('GOOGL', 'MSFT', {'weight': np.float64(0.28173813063701847)}), ('GOOGL', 'META', {'weight': np.float64(0.35097587416158915)}), ('GS', 'MS', {'weight': np.float64(0.1749263212886908)}), ('HD', 'LOW', {'weight': np.float64(0.17032859739867456)}), ('HD', 'TGT', {'weight': np.float64(0.4796598644671225)}), ('HON', 'MMM', {'weight': np.float64(0.398871545262241)}), ('IBM', 'MET', {'weight': np.float64(0.46502248198106166)}), ('INTC', 'TXN', {'weight': np.float64(0.36066612543608745)}), ('INTU', 'PYPL', {'weight': np.float64(0.4230608963851116)}), ('JNJ', 'PG', {'weight': np.float64(0.4975194884885047)}), ('JNJ', 'MRK', {'weight': np.float64(0.5097072864403023)}), ('JNJ', 'PFE', {'weight': np.float64(0.5207664942342909)}), ('KHC', 'MDLZ', {'weight': np.float64(0.4319132881491955)}), ('KO', 'PEP', {'weight': np.float64(0.31424298228341707)}), ('KO', 'PM', {'weight': np.float64(0.4564770667504855)}), ('KO', 'MCD', {'weight': np.float64(0.4584819949746066)}), ('LLY', 'MRK', {'weight': np.float64(0.5934546176374143)}), ('MA', 'V', {'weight': np.float64(0.14166601663832978)}), ('MA', 'SBUX', {'weight': np.float64(0.4772158617106602)}), ('MDLZ', 'PEP', {'weight': np.float64(0.30337938809998843)}), ('MO', 'PM', {'weight': np.float64(0.3840038824247023)}), ('MSFT', 'NVDA', {'weight': np.float64(0.36061391271312526)}), ('MSFT', 'ORCL', {'weight': np.float64(0.47311331075226914)}), ('NEE', 'SO', {'weight': np.float64(0.352184101198056)}), ('NKE', 'SBUX', {'weight': np.float64(0.43936452110371516)}), ('PEP', 'PG', {'weight': np.float64(0.35394183482235797)}), ('QCOM', 'TXN', {'weight': np.float64(0.27150796633121266)}), ('T', 'VZ', {'weight': np.float64(0.33715045241232033)}), ('TMUS', 'V', {'weight': np.float64(0.5800041383112758)}), ('UNP', 'UPS', {'weight': np.float64(0.49075607879578276)})]\n"
     ]
    }
   ],
   "source": [
    "G = nx.Graph()\n",
    "for i, stock_a in enumerate(tickers):\n",
    "    for j, stock_b in enumerate(tickers):\n",
    "        if i<j:\n",
    "            weight = dissimilarity_matrix.loc[stock_a,stock_b]\n",
    "            G.add_edge(stock_a,stock_b,weight=weight)\n",
    "\n",
    "mst=nx.minimum_spanning_tree(G)\n",
    "\n",
    "print(list(mst.edges(data=True)))"
   ]
  },
  {
   "cell_type": "code",
   "execution_count": 45,
   "metadata": {},
   "outputs": [],
   "source": [
    "mst_edges=[{\"stock_a\":edge[0],\"stock_b\":edge[1], \"weight\":edge[2][\"weight\"]} for edge in mst.edges(data=True)]\n",
    "mst_df=pd.DataFrame(mst_edges)\n",
    "mst_df.to_csv(\"../data/mst_edges.csv\",index=False)"
   ]
  }
 ],
 "metadata": {
  "kernelspec": {
   "display_name": "venv",
   "language": "python",
   "name": "python3"
  },
  "language_info": {
   "codemirror_mode": {
    "name": "ipython",
    "version": 3
   },
   "file_extension": ".py",
   "mimetype": "text/x-python",
   "name": "python",
   "nbconvert_exporter": "python",
   "pygments_lexer": "ipython3",
   "version": "3.12.4"
  }
 },
 "nbformat": 4,
 "nbformat_minor": 2
}
